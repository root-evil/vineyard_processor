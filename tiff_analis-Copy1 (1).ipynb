{
 "cells": [
  {
   "cell_type": "code",
   "execution_count": 109,
   "id": "8bcd51fd",
   "metadata": {},
   "outputs": [],
   "source": [
    "import pandas as pd\n",
    "import numpy as np\n",
    "import matplotlib.pyplot as plt\n",
    "import seaborn\n",
    "from sklearn.cluster import KMeans, DBSCAN\n",
    "from skimage import io\n",
    "import os\n",
    "import tqdm\n",
    "from sklearn.preprocessing import MinMaxScaler\n",
    "from collections import Counter"
   ]
  },
  {
   "cell_type": "code",
   "execution_count": 5,
   "id": "652a988d",
   "metadata": {},
   "outputs": [
    {
     "data": {
      "text/plain": [
       "['KRA_ADMIN_100m.tif',\n",
       " 'KRA_LANDCOVER_100m.tif',\n",
       " 'KRA_PREC_100m.tif',\n",
       " 'KRA_RELIEF_ASPECT_100m.tif',\n",
       " 'KRA_RELIEF_HEIGHT_100m.tif',\n",
       " 'KRA_RELIEF_SLOPE_100m.tif',\n",
       " 'KRA_SOILTEXTURE_100m.tif',\n",
       " 'KRA_SUNNY_DAYS_APR_OCT_100m.tif',\n",
       " 'KRA_TAVG_100m.tif',\n",
       " 'KRA_TMAX_100m.tif',\n",
       " 'KRA_TMIN_100m.tif',\n",
       " 'KRA_VINEYARDS_100m.tif',\n",
       " 'KRA_WATER_SEASONALYTY_100m.tif',\n",
       " 'README.txt',\n",
       " 'VINEYARDS.geojson',\n",
       " 'VINEYARDS.TXT']"
      ]
     },
     "execution_count": 5,
     "metadata": {},
     "output_type": "execute_result"
    }
   ],
   "source": [
    "list_dir = os.listdir('data')\n",
    "list_dir"
   ]
  },
  {
   "cell_type": "markdown",
   "id": "b905d12c",
   "metadata": {},
   "source": [
    "# area clustering"
   ]
  },
  {
   "cell_type": "code",
   "execution_count": 10,
   "id": "9d229044",
   "metadata": {},
   "outputs": [],
   "source": [
    "img = io.imread('data/KRA_VINEYARDS_100m.tif')"
   ]
  },
  {
   "cell_type": "code",
   "execution_count": 11,
   "id": "edd5e0c7",
   "metadata": {},
   "outputs": [],
   "source": [
    "xy = np.vstack(np.where(img)).T"
   ]
  },
  {
   "cell_type": "code",
   "execution_count": 12,
   "id": "5525a3c2",
   "metadata": {},
   "outputs": [],
   "source": [
    "xy = xy / 4095"
   ]
  },
  {
   "cell_type": "code",
   "execution_count": 24,
   "id": "198944e9",
   "metadata": {},
   "outputs": [],
   "source": [
    "clf = KMeans(216)"
   ]
  },
  {
   "cell_type": "code",
   "execution_count": 25,
   "id": "f010d63f",
   "metadata": {},
   "outputs": [
    {
     "name": "stdout",
     "output_type": "stream",
     "text": [
      "CPU times: total: 40.9 s\n",
      "Wall time: 5.16 s\n"
     ]
    }
   ],
   "source": [
    "%%time\n",
    "label = clf.fit_predict(xy)"
   ]
  },
  {
   "cell_type": "code",
   "execution_count": 182,
   "id": "c84da710",
   "metadata": {},
   "outputs": [
    {
     "data": {
      "text/plain": [
       "<matplotlib.collections.PathCollection at 0x1960af9b910>"
      ]
     },
     "execution_count": 182,
     "metadata": {},
     "output_type": "execute_result"
    },
    {
     "data": {
      "image/png": "[encoded data removed]",
      "text/plain": [
       "<Figure size 432x288 with 1 Axes>"
      ]
     },
     "metadata": {
      "needs_background": "light"
     },
     "output_type": "display_data"
    }
   ],
   "source": [
    "plt.scatter(xy[:,0]*4095, xy[:,1]*4095)\n",
    "plt.scatter(clf.cluster_centers_[:,0]*4095, clf.cluster_centers_[:,1]*4095)"
   ]
  },
  {
   "cell_type": "code",
   "execution_count": 61,
   "id": "b609a90f",
   "metadata": {},
   "outputs": [],
   "source": [
    "xy_data = pd.DataFrame(xy, columns = ['x', 'y']) "
   ]
  },
  {
   "cell_type": "code",
   "execution_count": 62,
   "id": "0fc727e5",
   "metadata": {},
   "outputs": [],
   "source": [
    "xy_data['label'] = label"
   ]
  },
  {
   "cell_type": "code",
   "execution_count": 63,
   "id": "ffe63c8e",
   "metadata": {},
   "outputs": [],
   "source": [
    "xy_data['x'] = (xy_data['x']*4095).astype(np.int32)\n",
    "xy_data['y'] = (xy_data['y']*4095).astype(np.int32)"
   ]
  },
  {
   "cell_type": "markdown",
   "id": "848def0d",
   "metadata": {},
   "source": [
    "# clustering information to need terretory"
   ]
  },
  {
   "cell_type": "code",
   "execution_count": 171,
   "id": "bb9bd289",
   "metadata": {},
   "outputs": [
    {
     "name": "stderr",
     "output_type": "stream",
     "text": [
      "100%|██████████████████████████████████████████████████████████████████████████████| 216/216 [00:00<00:00, 2142.57it/s]\n",
      "100%|██████████████████████████████████████████████████████████████████████████████| 216/216 [00:00<00:00, 2214.92it/s]\n",
      "100%|██████████████████████████████████████████████████████████████████████████████| 216/216 [00:00<00:00, 2412.15it/s]\n",
      "100%|██████████████████████████████████████████████████████████████████████████████| 216/216 [00:00<00:00, 2208.17it/s]\n",
      "100%|██████████████████████████████████████████████████████████████████████████████| 216/216 [00:00<00:00, 2181.16it/s]\n"
     ]
    }
   ],
   "source": [
    "num_data = ['KRA_RELIEF_ASPECT_100m.tif',\n",
    "            'KRA_RELIEF_HEIGHT_100m.tif',\n",
    "            'KRA_RELIEF_SLOPE_100m.tif',\n",
    "            'KRA_SUNNY_DAYS_APR_OCT_100m.tif',\n",
    "           'KRA_WATER_SEASONALYTY_100m.tif']\n",
    "\n",
    "num_many_chanel_data = ['KRA_TAVG_100m.tif',\n",
    "            'KRA_TMIN_100m.tif',\n",
    "            'KRA_TMAX_100m.tif',\n",
    "            'KRA_PREC_100m.tif']\n",
    "path_to_save = 'to_save/'\n",
    "cat_data = ['KRA_SOILTEXTURE_100m.tif']\n",
    "path = 'data/'\n",
    "uniq_label = np.unique(label)\n",
    "\n",
    "#num feat\n",
    "for name in num_data:\n",
    "    img_tmp = io.imread(path + name).astype(np.float32)\n",
    "    name_for_write = name.split('.')[0]\n",
    "    res_list = []\n",
    "    for cluster in tqdm.tqdm(uniq_label):\n",
    "        res_dict = {}\n",
    "        res_dict['index_cluster'] = cluster\n",
    "        xy_tmp = xy_data[xy_data['label'] == cluster][['x', 'y']].values\n",
    "        x, y = xy_tmp[:,0], xy_tmp[:,1]\n",
    "        pixel_wise_value = img_tmp[x,y]\n",
    "        min_val, max_val, mean_val = pixel_wise_value.min(), pixel_wise_value.max(), pixel_wise_value.mean()\n",
    "        res_dict['min_value_' + name_for_write] = min_val\n",
    "        res_dict['max_value_' + name_for_write] = max_val\n",
    "        res_dict['mean_value_' + name_for_write] = mean_val\n",
    "        res_list.append(res_dict)\n",
    "    df_res = pd.DataFrame(res_list, dtype = np.float64)\n",
    "    df_res.to_csv(path_to_save + name_for_write + '.csv', index = False)\n",
    "\n"
   ]
  },
  {
   "cell_type": "code",
   "execution_count": 172,
   "id": "f086c552",
   "metadata": {},
   "outputs": [
    {
     "name": "stderr",
     "output_type": "stream",
     "text": [
      "100%|███████████████████████████████████████████████████████████████████████████████| 216/216 [00:01<00:00, 165.89it/s]\n",
      "100%|███████████████████████████████████████████████████████████████████████████████| 216/216 [00:01<00:00, 181.27it/s]\n",
      "100%|███████████████████████████████████████████████████████████████████████████████| 216/216 [00:01<00:00, 181.29it/s]\n"
     ]
    }
   ],
   "source": [
    "#many chanel data\n",
    "for name in num_many_chanel_data:\n",
    "    img_tmp_ = io.imread(path + name).astype(np.float32)\n",
    "    name_for_write = name.split('.')[0]\n",
    "    res_list = []\n",
    "    img_tmp = img_tmp_[:,:,chanel]\n",
    "    for cluster in tqdm.tqdm(uniq_label):\n",
    "        res_dict = {}\n",
    "        res_dict['index_cluster'] = cluster\n",
    "        for chanel in range(img_tmp_.shape[2]):\n",
    "\n",
    "            xy_tmp = xy_data[xy_data['label'] == cluster][['x', 'y']].values\n",
    "            x, y = xy_tmp[:,0], xy_tmp[:,1]\n",
    "            pixel_wise_value = img_tmp[x,y]\n",
    "            min_val, max_val, mean_val = pixel_wise_value.min(), pixel_wise_value.max(), pixel_wise_value.mean()\n",
    "            res_dict['min_value_' + name_for_write + '_chanel_' + str(chanel)] = min_val\n",
    "            res_dict['max_value_' + name_for_write + '_chanel_' + str(chanel)] = max_val\n",
    "            res_dict['mean_value_' + name_for_write + '_chanel_' + str(chanel)] = mean_val\n",
    "        res_list.append(res_dict)\n",
    "    df_res = pd.DataFrame(res_list, dtype = np.float64)\n",
    "    df_res.to_csv(path_to_save + name_for_write + '.csv', index = False)"
   ]
  },
  {
   "cell_type": "code",
   "execution_count": 173,
   "id": "06d990fb",
   "metadata": {},
   "outputs": [
    {
     "name": "stderr",
     "output_type": "stream",
     "text": [
      "100%|██████████████████████████████████████████████████████████████████████████████| 216/216 [00:00<00:00, 2056.69it/s]\n"
     ]
    }
   ],
   "source": [
    "for name in cat_data:\n",
    "    img_tmp = io.imread(path + name).astype(np.float32)\n",
    "    name_for_write = name.split('.')[0]\n",
    "    res_list = []\n",
    "    uniq_val = np.unique(img_tmp)\n",
    "    \n",
    "    for cluster in tqdm.tqdm(uniq_label):\n",
    "        res_dict = {}\n",
    "            \n",
    "        res_dict['index_cluster'] = cluster\n",
    "        xy_tmp = xy_data[xy_data['label'] == cluster][['x', 'y']].values\n",
    "        x, y = xy_tmp[:,0], xy_tmp[:,1]\n",
    "        pixel_wise_value = img_tmp[x,y]\n",
    "        c = Counter(pixel_wise_value)\n",
    "        for v in uniq_val:\n",
    "            res_dict['count_of_' + str(v)] = c[v]\n",
    "        res_list.append(res_dict)\n",
    "            \n",
    "    df_res = pd.DataFrame(res_list)\n",
    "    df_res.to_csv(path_to_save + name_for_write + '.csv')"
   ]
  },
  {
   "cell_type": "code",
   "execution_count": 174,
   "id": "28c331b4",
   "metadata": {},
   "outputs": [],
   "source": [
    "list_dir = os.listdir('to_save')"
   ]
  },
  {
   "cell_type": "code",
   "execution_count": 175,
   "id": "48a22b43",
   "metadata": {},
   "outputs": [],
   "source": [
    "all_df = pd.DataFrame(label, columns = ['index_cluster'])\n",
    "for f in list_dir:\n",
    "    try:\n",
    "        df = pd.read_csv('to_save/' + f)\n",
    "    except:\n",
    "        continue\n",
    "        \n",
    "    all_df = all_df.merge(df, on = 'index_cluster')\n"
   ]
  },
  {
   "cell_type": "code",
   "execution_count": 176,
   "id": "8655be1c",
   "metadata": {},
   "outputs": [
    {
     "data": {
      "text/plain": [
       "41"
      ]
     },
     "execution_count": 176,
     "metadata": {},
     "output_type": "execute_result"
    }
   ],
   "source": [
    "len([x for x in all_df.columns if 'mean' in x])"
   ]
  },
  {
   "cell_type": "code",
   "execution_count": 179,
   "id": "47a6d211",
   "metadata": {},
   "outputs": [
    {
     "data": {
      "text/plain": [
       "['mean_value_KRA_RELIEF_ASPECT_100m',\n",
       " 'mean_value_KRA_RELIEF_HEIGHT_100m',\n",
       " 'mean_value_KRA_RELIEF_SLOPE_100m',\n",
       " 'mean_value_KRA_SUNNY_DAYS_APR_OCT_100m',\n",
       " 'mean_value_KRA_TAVG_100m_chanel_0',\n",
       " 'mean_value_KRA_TAVG_100m_chanel_1',\n",
       " 'mean_value_KRA_TAVG_100m_chanel_2',\n",
       " 'mean_value_KRA_TAVG_100m_chanel_3',\n",
       " 'mean_value_KRA_TAVG_100m_chanel_4',\n",
       " 'mean_value_KRA_TAVG_100m_chanel_5',\n",
       " 'mean_value_KRA_TAVG_100m_chanel_6',\n",
       " 'mean_value_KRA_TAVG_100m_chanel_7',\n",
       " 'mean_value_KRA_TAVG_100m_chanel_8',\n",
       " 'mean_value_KRA_TAVG_100m_chanel_9',\n",
       " 'mean_value_KRA_TAVG_100m_chanel_10',\n",
       " 'mean_value_KRA_TAVG_100m_chanel_11',\n",
       " 'mean_value_KRA_TMAX_100m_chanel_0',\n",
       " 'mean_value_KRA_TMAX_100m_chanel_1',\n",
       " 'mean_value_KRA_TMAX_100m_chanel_2',\n",
       " 'mean_value_KRA_TMAX_100m_chanel_3',\n",
       " 'mean_value_KRA_TMAX_100m_chanel_4',\n",
       " 'mean_value_KRA_TMAX_100m_chanel_5',\n",
       " 'mean_value_KRA_TMAX_100m_chanel_6',\n",
       " 'mean_value_KRA_TMAX_100m_chanel_7',\n",
       " 'mean_value_KRA_TMAX_100m_chanel_8',\n",
       " 'mean_value_KRA_TMAX_100m_chanel_9',\n",
       " 'mean_value_KRA_TMAX_100m_chanel_10',\n",
       " 'mean_value_KRA_TMAX_100m_chanel_11',\n",
       " 'mean_value_KRA_TMIN_100m_chanel_0',\n",
       " 'mean_value_KRA_TMIN_100m_chanel_1',\n",
       " 'mean_value_KRA_TMIN_100m_chanel_2',\n",
       " 'mean_value_KRA_TMIN_100m_chanel_3',\n",
       " 'mean_value_KRA_TMIN_100m_chanel_4',\n",
       " 'mean_value_KRA_TMIN_100m_chanel_5',\n",
       " 'mean_value_KRA_TMIN_100m_chanel_6',\n",
       " 'mean_value_KRA_TMIN_100m_chanel_7',\n",
       " 'mean_value_KRA_TMIN_100m_chanel_8',\n",
       " 'mean_value_KRA_TMIN_100m_chanel_9',\n",
       " 'mean_value_KRA_TMIN_100m_chanel_10',\n",
       " 'mean_value_KRA_TMIN_100m_chanel_11',\n",
       " 'mean_value_KRA_WATER_SEASONALYTY_100m']"
      ]
     },
     "execution_count": 179,
     "metadata": {},
     "output_type": "execute_result"
    }
   ],
   "source": [
    "[x for x in all_df.columns if 'mean' in x]"
   ]
  },
  {
   "cell_type": "code",
   "execution_count": 162,
   "id": "246987e8",
   "metadata": {},
   "outputs": [],
   "source": [
    "df = pd.read_csv('to_save/' + f)"
   ]
  },
  {
   "cell_type": "code",
   "execution_count": 180,
   "id": "7bf88077",
   "metadata": {},
   "outputs": [
    {
     "ename": "NameError",
     "evalue": "name 'tmp_img' is not defined",
     "output_type": "error",
     "traceback": [
      "\u001b[1;31m---------------------------------------------------------------------------\u001b[0m",
      "\u001b[1;31mNameError\u001b[0m                                 Traceback (most recent call last)",
      "Input \u001b[1;32mIn [180]\u001b[0m, in \u001b[0;36m<cell line: 1>\u001b[1;34m()\u001b[0m\n\u001b[1;32m----> 1\u001b[0m \u001b[43mtmp_img\u001b[49m\n",
      "\u001b[1;31mNameError\u001b[0m: name 'tmp_img' is not defined"
     ]
    }
   ],
   "source": []
  },
  {
   "cell_type": "code",
   "execution_count": null,
   "id": "a7149d16",
   "metadata": {},
   "outputs": [],
   "source": []
  }
 ],
 "metadata": {
  "kernelspec": {
   "display_name": "Python 3 (ipykernel)",
   "language": "python",
   "name": "python3"
  },
  "language_info": {
   "codemirror_mode": {
    "name": "ipython",
    "version": 3
   },
   "file_extension": ".py",
   "mimetype": "text/x-python",
   "name": "python",
   "nbconvert_exporter": "python",
   "pygments_lexer": "ipython3",
   "version": "3.9.12"
  }
 },
 "nbformat": 4,
 "nbformat_minor": 5
}
