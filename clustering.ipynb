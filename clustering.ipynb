{
 "cells": [
  {
   "cell_type": "code",
   "execution_count": 1,
   "id": "f2255a0c",
   "metadata": {},
   "outputs": [],
   "source": [
    "import pandas as pd\n",
    "import numpy as np\n",
    "import matplotlib.pyplot as plt\n",
    "import seaborn as sns\n",
    "import tqdm\n",
    "from sklearn.cluster import KMeans, DBSCAN\n",
    "from sklearn.preprocessing import MinMaxScaler"
   ]
  },
  {
   "cell_type": "code",
   "execution_count": 79,
   "id": "cf625a8c",
   "metadata": {},
   "outputs": [],
   "source": [
    "df = pd.read_csv('to_save/to_cluster_data.csv')"
   ]
  },
  {
   "cell_type": "code",
   "execution_count": 80,
   "id": "c1190130",
   "metadata": {},
   "outputs": [],
   "source": [
    "def get_batch(df, num_batch = (1, 1), size_img = (4096, 4096)):\n",
    "    size_x_batch = size_img[0]//num_batch[0]\n",
    "    size_y_batch = size_img[1]//num_batch[1]\n",
    "    df['batch_x'] = (df['x'] // size_x_batch).astype(str)\n",
    "    df['batch_y'] = (df['y'] // size_y_batch).astype(str)\n",
    "    df['batch'] = df['batch_x'] + df['batch_y']\n",
    "    df = df.drop(['batch_x', 'batch_y'], axis = 1)\n",
    "    return df"
   ]
  },
  {
   "cell_type": "code",
   "execution_count": 81,
   "id": "0e40f6bd",
   "metadata": {},
   "outputs": [],
   "source": [
    "df = get_batch(df)"
   ]
  },
  {
   "cell_type": "markdown",
   "id": "ae9713ca",
   "metadata": {},
   "source": [
    "# Norm data"
   ]
  },
  {
   "cell_type": "code",
   "execution_count": 31,
   "id": "4c275fa8",
   "metadata": {},
   "outputs": [],
   "source": [
    "df['x'] = df['x'] / 4096\n",
    "df['y'] = df['y'] / 4096\n"
   ]
  },
  {
   "cell_type": "code",
   "execution_count": 96,
   "id": "84e227c0",
   "metadata": {},
   "outputs": [
    {
     "data": {
      "text/html": [
       "<div>\n",
       "<style scoped>\n",
       "    .dataframe tbody tr th:only-of-type {\n",
       "        vertical-align: middle;\n",
       "    }\n",
       "\n",
       "    .dataframe tbody tr th {\n",
       "        vertical-align: top;\n",
       "    }\n",
       "\n",
       "    .dataframe thead th {\n",
       "        text-align: right;\n",
       "    }\n",
       "</style>\n",
       "<table border=\"1\" class=\"dataframe\">\n",
       "  <thead>\n",
       "    <tr style=\"text-align: right;\">\n",
       "      <th></th>\n",
       "      <th>Unnamed: 0</th>\n",
       "      <th>x</th>\n",
       "      <th>y</th>\n",
       "      <th>val_KRA_RELIEF_ASPECT_100m</th>\n",
       "      <th>val_KRA_RELIEF_HEIGHT_100m</th>\n",
       "      <th>val_KRA_RELIEF_SLOPE_100m</th>\n",
       "      <th>val_KRA_SUNNY_DAYS_APR_OCT_100m</th>\n",
       "      <th>val_KRA_WATER_SEASONALYTY_100m</th>\n",
       "      <th>val_gausian_KRA_RELIEF_HEIGHT_100m</th>\n",
       "      <th>val_gaus_KRA_RELIEF_SLOPE_100m</th>\n",
       "      <th>...</th>\n",
       "      <th>val_mean_PREC_100m</th>\n",
       "      <th>val_mean_TAVG_100m</th>\n",
       "      <th>val_min_TAVG_100m</th>\n",
       "      <th>val_KRA_SOILTEXTURE_100m_0.0</th>\n",
       "      <th>val_KRA_SOILTEXTURE_100m_4.0</th>\n",
       "      <th>val_KRA_SOILTEXTURE_100m_5.0</th>\n",
       "      <th>val_KRA_SOILTEXTURE_100m_9.0</th>\n",
       "      <th>batch</th>\n",
       "      <th>pred</th>\n",
       "      <th>pred_batch</th>\n",
       "    </tr>\n",
       "  </thead>\n",
       "  <tbody>\n",
       "    <tr>\n",
       "      <th>0</th>\n",
       "      <td>0</td>\n",
       "      <td>177</td>\n",
       "      <td>1518</td>\n",
       "      <td>270.000000</td>\n",
       "      <td>2.0</td>\n",
       "      <td>0.194353</td>\n",
       "      <td>131.0</td>\n",
       "      <td>0.0</td>\n",
       "      <td>8.0</td>\n",
       "      <td>0.194353</td>\n",
       "      <td>...</td>\n",
       "      <td>65535.000000</td>\n",
       "      <td>110.692129</td>\n",
       "      <td>26.063956</td>\n",
       "      <td>1</td>\n",
       "      <td>0</td>\n",
       "      <td>0</td>\n",
       "      <td>0</td>\n",
       "      <td>00</td>\n",
       "      <td>0</td>\n",
       "      <td>0_00</td>\n",
       "    </tr>\n",
       "    <tr>\n",
       "      <th>1</th>\n",
       "      <td>1</td>\n",
       "      <td>177</td>\n",
       "      <td>1519</td>\n",
       "      <td>90.000000</td>\n",
       "      <td>1.0</td>\n",
       "      <td>0.195172</td>\n",
       "      <td>131.0</td>\n",
       "      <td>0.0</td>\n",
       "      <td>8.0</td>\n",
       "      <td>0.195172</td>\n",
       "      <td>...</td>\n",
       "      <td>65535.000000</td>\n",
       "      <td>110.692129</td>\n",
       "      <td>26.063956</td>\n",
       "      <td>1</td>\n",
       "      <td>0</td>\n",
       "      <td>0</td>\n",
       "      <td>0</td>\n",
       "      <td>00</td>\n",
       "      <td>1</td>\n",
       "      <td>1_00</td>\n",
       "    </tr>\n",
       "    <tr>\n",
       "      <th>2</th>\n",
       "      <td>2</td>\n",
       "      <td>178</td>\n",
       "      <td>1517</td>\n",
       "      <td>315.000000</td>\n",
       "      <td>1.0</td>\n",
       "      <td>0.194952</td>\n",
       "      <td>131.0</td>\n",
       "      <td>0.0</td>\n",
       "      <td>8.0</td>\n",
       "      <td>0.194952</td>\n",
       "      <td>...</td>\n",
       "      <td>65535.000000</td>\n",
       "      <td>110.692129</td>\n",
       "      <td>26.063956</td>\n",
       "      <td>1</td>\n",
       "      <td>0</td>\n",
       "      <td>0</td>\n",
       "      <td>0</td>\n",
       "      <td>00</td>\n",
       "      <td>2</td>\n",
       "      <td>2_00</td>\n",
       "    </tr>\n",
       "    <tr>\n",
       "      <th>3</th>\n",
       "      <td>3</td>\n",
       "      <td>178</td>\n",
       "      <td>1518</td>\n",
       "      <td>180.000000</td>\n",
       "      <td>1.0</td>\n",
       "      <td>0.195776</td>\n",
       "      <td>131.0</td>\n",
       "      <td>0.0</td>\n",
       "      <td>8.0</td>\n",
       "      <td>0.195776</td>\n",
       "      <td>...</td>\n",
       "      <td>65535.000000</td>\n",
       "      <td>110.692129</td>\n",
       "      <td>26.063956</td>\n",
       "      <td>1</td>\n",
       "      <td>0</td>\n",
       "      <td>0</td>\n",
       "      <td>0</td>\n",
       "      <td>00</td>\n",
       "      <td>3</td>\n",
       "      <td>3_00</td>\n",
       "    </tr>\n",
       "    <tr>\n",
       "      <th>4</th>\n",
       "      <td>4</td>\n",
       "      <td>178</td>\n",
       "      <td>1519</td>\n",
       "      <td>202.683288</td>\n",
       "      <td>1.0</td>\n",
       "      <td>0.196599</td>\n",
       "      <td>131.0</td>\n",
       "      <td>0.0</td>\n",
       "      <td>8.0</td>\n",
       "      <td>0.196599</td>\n",
       "      <td>...</td>\n",
       "      <td>65535.000000</td>\n",
       "      <td>110.692129</td>\n",
       "      <td>26.063956</td>\n",
       "      <td>1</td>\n",
       "      <td>0</td>\n",
       "      <td>0</td>\n",
       "      <td>0</td>\n",
       "      <td>00</td>\n",
       "      <td>4</td>\n",
       "      <td>4_00</td>\n",
       "    </tr>\n",
       "    <tr>\n",
       "      <th>...</th>\n",
       "      <td>...</td>\n",
       "      <td>...</td>\n",
       "      <td>...</td>\n",
       "      <td>...</td>\n",
       "      <td>...</td>\n",
       "      <td>...</td>\n",
       "      <td>...</td>\n",
       "      <td>...</td>\n",
       "      <td>...</td>\n",
       "      <td>...</td>\n",
       "      <td>...</td>\n",
       "      <td>...</td>\n",
       "      <td>...</td>\n",
       "      <td>...</td>\n",
       "      <td>...</td>\n",
       "      <td>...</td>\n",
       "      <td>...</td>\n",
       "      <td>...</td>\n",
       "      <td>...</td>\n",
       "      <td>...</td>\n",
       "      <td>...</td>\n",
       "    </tr>\n",
       "    <tr>\n",
       "      <th>50958</th>\n",
       "      <td>50958</td>\n",
       "      <td>4041</td>\n",
       "      <td>2716</td>\n",
       "      <td>90.000000</td>\n",
       "      <td>6.0</td>\n",
       "      <td>8.535891</td>\n",
       "      <td>163.0</td>\n",
       "      <td>0.0</td>\n",
       "      <td>242.0</td>\n",
       "      <td>8.535891</td>\n",
       "      <td>...</td>\n",
       "      <td>133.500000</td>\n",
       "      <td>132.333333</td>\n",
       "      <td>71.000000</td>\n",
       "      <td>1</td>\n",
       "      <td>0</td>\n",
       "      <td>0</td>\n",
       "      <td>0</td>\n",
       "      <td>00</td>\n",
       "      <td>38477</td>\n",
       "      <td>38477_00</td>\n",
       "    </tr>\n",
       "    <tr>\n",
       "      <th>50959</th>\n",
       "      <td>50959</td>\n",
       "      <td>4042</td>\n",
       "      <td>2716</td>\n",
       "      <td>90.000000</td>\n",
       "      <td>5.0</td>\n",
       "      <td>8.511122</td>\n",
       "      <td>163.0</td>\n",
       "      <td>0.0</td>\n",
       "      <td>241.0</td>\n",
       "      <td>8.511122</td>\n",
       "      <td>...</td>\n",
       "      <td>133.500000</td>\n",
       "      <td>132.333333</td>\n",
       "      <td>71.000000</td>\n",
       "      <td>1</td>\n",
       "      <td>0</td>\n",
       "      <td>0</td>\n",
       "      <td>0</td>\n",
       "      <td>00</td>\n",
       "      <td>38478</td>\n",
       "      <td>38478_00</td>\n",
       "    </tr>\n",
       "    <tr>\n",
       "      <th>50960</th>\n",
       "      <td>50960</td>\n",
       "      <td>4049</td>\n",
       "      <td>2709</td>\n",
       "      <td>135.000000</td>\n",
       "      <td>1.0</td>\n",
       "      <td>7.915207</td>\n",
       "      <td>164.0</td>\n",
       "      <td>0.0</td>\n",
       "      <td>217.0</td>\n",
       "      <td>7.915207</td>\n",
       "      <td>...</td>\n",
       "      <td>133.416667</td>\n",
       "      <td>132.500000</td>\n",
       "      <td>70.000000</td>\n",
       "      <td>1</td>\n",
       "      <td>0</td>\n",
       "      <td>0</td>\n",
       "      <td>0</td>\n",
       "      <td>00</td>\n",
       "      <td>38479</td>\n",
       "      <td>38479_00</td>\n",
       "    </tr>\n",
       "    <tr>\n",
       "      <th>50961</th>\n",
       "      <td>50961</td>\n",
       "      <td>4050</td>\n",
       "      <td>2708</td>\n",
       "      <td>90.000000</td>\n",
       "      <td>1.0</td>\n",
       "      <td>7.832723</td>\n",
       "      <td>164.0</td>\n",
       "      <td>0.0</td>\n",
       "      <td>213.0</td>\n",
       "      <td>7.832723</td>\n",
       "      <td>...</td>\n",
       "      <td>133.416667</td>\n",
       "      <td>132.500000</td>\n",
       "      <td>70.000000</td>\n",
       "      <td>1</td>\n",
       "      <td>0</td>\n",
       "      <td>0</td>\n",
       "      <td>0</td>\n",
       "      <td>00</td>\n",
       "      <td>38480</td>\n",
       "      <td>38480_00</td>\n",
       "    </tr>\n",
       "    <tr>\n",
       "      <th>50962</th>\n",
       "      <td>50962</td>\n",
       "      <td>4050</td>\n",
       "      <td>2709</td>\n",
       "      <td>135.000000</td>\n",
       "      <td>1.0</td>\n",
       "      <td>7.893647</td>\n",
       "      <td>164.0</td>\n",
       "      <td>12.0</td>\n",
       "      <td>216.0</td>\n",
       "      <td>7.893647</td>\n",
       "      <td>...</td>\n",
       "      <td>133.416667</td>\n",
       "      <td>132.500000</td>\n",
       "      <td>70.000000</td>\n",
       "      <td>1</td>\n",
       "      <td>0</td>\n",
       "      <td>0</td>\n",
       "      <td>0</td>\n",
       "      <td>00</td>\n",
       "      <td>38481</td>\n",
       "      <td>38481_00</td>\n",
       "    </tr>\n",
       "  </tbody>\n",
       "</table>\n",
       "<p>50963 rows × 21 columns</p>\n",
       "</div>"
      ],
      "text/plain": [
       "       Unnamed: 0     x     y  val_KRA_RELIEF_ASPECT_100m  \\\n",
       "0               0   177  1518                  270.000000   \n",
       "1               1   177  1519                   90.000000   \n",
       "2               2   178  1517                  315.000000   \n",
       "3               3   178  1518                  180.000000   \n",
       "4               4   178  1519                  202.683288   \n",
       "...           ...   ...   ...                         ...   \n",
       "50958       50958  4041  2716                   90.000000   \n",
       "50959       50959  4042  2716                   90.000000   \n",
       "50960       50960  4049  2709                  135.000000   \n",
       "50961       50961  4050  2708                   90.000000   \n",
       "50962       50962  4050  2709                  135.000000   \n",
       "\n",
       "       val_KRA_RELIEF_HEIGHT_100m  val_KRA_RELIEF_SLOPE_100m  \\\n",
       "0                             2.0                   0.194353   \n",
       "1                             1.0                   0.195172   \n",
       "2                             1.0                   0.194952   \n",
       "3                             1.0                   0.195776   \n",
       "4                             1.0                   0.196599   \n",
       "...                           ...                        ...   \n",
       "50958                         6.0                   8.535891   \n",
       "50959                         5.0                   8.511122   \n",
       "50960                         1.0                   7.915207   \n",
       "50961                         1.0                   7.832723   \n",
       "50962                         1.0                   7.893647   \n",
       "\n",
       "       val_KRA_SUNNY_DAYS_APR_OCT_100m  val_KRA_WATER_SEASONALYTY_100m  \\\n",
       "0                                131.0                             0.0   \n",
       "1                                131.0                             0.0   \n",
       "2                                131.0                             0.0   \n",
       "3                                131.0                             0.0   \n",
       "4                                131.0                             0.0   \n",
       "...                                ...                             ...   \n",
       "50958                            163.0                             0.0   \n",
       "50959                            163.0                             0.0   \n",
       "50960                            164.0                             0.0   \n",
       "50961                            164.0                             0.0   \n",
       "50962                            164.0                            12.0   \n",
       "\n",
       "       val_gausian_KRA_RELIEF_HEIGHT_100m  val_gaus_KRA_RELIEF_SLOPE_100m  \\\n",
       "0                                     8.0                        0.194353   \n",
       "1                                     8.0                        0.195172   \n",
       "2                                     8.0                        0.194952   \n",
       "3                                     8.0                        0.195776   \n",
       "4                                     8.0                        0.196599   \n",
       "...                                   ...                             ...   \n",
       "50958                               242.0                        8.535891   \n",
       "50959                               241.0                        8.511122   \n",
       "50960                               217.0                        7.915207   \n",
       "50961                               213.0                        7.832723   \n",
       "50962                               216.0                        7.893647   \n",
       "\n",
       "       ...  val_mean_PREC_100m  val_mean_TAVG_100m  val_min_TAVG_100m  \\\n",
       "0      ...        65535.000000          110.692129          26.063956   \n",
       "1      ...        65535.000000          110.692129          26.063956   \n",
       "2      ...        65535.000000          110.692129          26.063956   \n",
       "3      ...        65535.000000          110.692129          26.063956   \n",
       "4      ...        65535.000000          110.692129          26.063956   \n",
       "...    ...                 ...                 ...                ...   \n",
       "50958  ...          133.500000          132.333333          71.000000   \n",
       "50959  ...          133.500000          132.333333          71.000000   \n",
       "50960  ...          133.416667          132.500000          70.000000   \n",
       "50961  ...          133.416667          132.500000          70.000000   \n",
       "50962  ...          133.416667          132.500000          70.000000   \n",
       "\n",
       "       val_KRA_SOILTEXTURE_100m_0.0  val_KRA_SOILTEXTURE_100m_4.0  \\\n",
       "0                                 1                             0   \n",
       "1                                 1                             0   \n",
       "2                                 1                             0   \n",
       "3                                 1                             0   \n",
       "4                                 1                             0   \n",
       "...                             ...                           ...   \n",
       "50958                             1                             0   \n",
       "50959                             1                             0   \n",
       "50960                             1                             0   \n",
       "50961                             1                             0   \n",
       "50962                             1                             0   \n",
       "\n",
       "       val_KRA_SOILTEXTURE_100m_5.0  val_KRA_SOILTEXTURE_100m_9.0  batch  \\\n",
       "0                                 0                             0     00   \n",
       "1                                 0                             0     00   \n",
       "2                                 0                             0     00   \n",
       "3                                 0                             0     00   \n",
       "4                                 0                             0     00   \n",
       "...                             ...                           ...    ...   \n",
       "50958                             0                             0     00   \n",
       "50959                             0                             0     00   \n",
       "50960                             0                             0     00   \n",
       "50961                             0                             0     00   \n",
       "50962                             0                             0     00   \n",
       "\n",
       "        pred pred_batch  \n",
       "0          0       0_00  \n",
       "1          1       1_00  \n",
       "2          2       2_00  \n",
       "3          3       3_00  \n",
       "4          4       4_00  \n",
       "...      ...        ...  \n",
       "50958  38477   38477_00  \n",
       "50959  38478   38478_00  \n",
       "50960  38479   38479_00  \n",
       "50961  38480   38480_00  \n",
       "50962  38481   38481_00  \n",
       "\n",
       "[50963 rows x 21 columns]"
      ]
     },
     "execution_count": 96,
     "metadata": {},
     "output_type": "execute_result"
    }
   ],
   "source": [
    "df"
   ]
  },
  {
   "cell_type": "markdown",
   "id": "66dff0b1",
   "metadata": {},
   "source": [
    "# clustering"
   ]
  },
  {
   "cell_type": "code",
   "execution_count": 35,
   "id": "af0c6052",
   "metadata": {},
   "outputs": [],
   "source": [
    "def get_dbscan_pred_for_batch(eps):\n",
    "    df = pd.read_csv('to_save/to_cluster_data.csv')\n",
    "    df = get_batch(df)\n",
    "    clf = MinMaxScaler()\n",
    "    pred = clf.fit_transform(df[df.columns[3:-1]])\n",
    "    df[df.columns[3:-1]] = pred\n",
    "    \n",
    "    batch_vals = df['batch'].unique()\n",
    "    batch_arr = df['batch'].values\n",
    "    for v in tqdm.tqdm(batch_vals):\n",
    "        dbscan = DBSCAN(eps = eps, min_samples = 1)\n",
    "        df_tmp = df[df['batch'] == v][df.columns[3:-1]]\n",
    "        pred = dbscan.fit_predict(df_tmp)\n",
    "        batch_arr[batch_arr == v] = pred\n",
    "        del df_tmp, pred, dbscan\n",
    "        \n",
    "    df_ = pd.DataFrame(batch_arr, columns = ['pred'])\n",
    "    df_.to_csv('cluster_pred\\dbscan_' + str(eps) + '_without_xy.csv', index = False)\n",
    "    print('FINISHED', eps)"
   ]
  },
  {
   "cell_type": "code",
   "execution_count": 77,
   "id": "ff4cfdc9",
   "metadata": {},
   "outputs": [
    {
     "name": "stderr",
     "output_type": "stream",
     "text": [
      "100%|████████████████████████████████████████████████████████████████████████████████████| 1/1 [00:02<00:00,  2.14s/it]\n"
     ]
    },
    {
     "name": "stdout",
     "output_type": "stream",
     "text": [
      "FINISHED 0.001\n"
     ]
    },
    {
     "name": "stderr",
     "output_type": "stream",
     "text": [
      "100%|████████████████████████████████████████████████████████████████████████████████████| 1/1 [00:02<00:00,  2.02s/it]\n"
     ]
    },
    {
     "name": "stdout",
     "output_type": "stream",
     "text": [
      "FINISHED 0.0001\n"
     ]
    },
    {
     "name": "stderr",
     "output_type": "stream",
     "text": [
      "100%|████████████████████████████████████████████████████████████████████████████████████| 1/1 [00:01<00:00,  1.90s/it]"
     ]
    },
    {
     "name": "stdout",
     "output_type": "stream",
     "text": [
      "FINISHED 1e-05\n"
     ]
    },
    {
     "name": "stderr",
     "output_type": "stream",
     "text": [
      "\n"
     ]
    }
   ],
   "source": [
    "for eps in [0.001, 0.0001, 0.00001]:\n",
    "    get_dbscan_pred_for_batch(eps)"
   ]
  },
  {
   "cell_type": "code",
   "execution_count": null,
   "id": "2b64c8b0",
   "metadata": {},
   "outputs": [],
   "source": []
  },
  {
   "cell_type": "code",
   "execution_count": 37,
   "id": "b86766a0",
   "metadata": {},
   "outputs": [
    {
     "name": "stderr",
     "output_type": "stream",
     "text": [
      "100%|████████████████████████████████████████████████████████████████████████████████████| 1/1 [00:01<00:00,  1.94s/it]"
     ]
    },
    {
     "name": "stdout",
     "output_type": "stream",
     "text": [
      "FINISHED 0.01\n"
     ]
    },
    {
     "name": "stderr",
     "output_type": "stream",
     "text": [
      "\n"
     ]
    }
   ],
   "source": [
    "get_dbscan_pred_for_batch(eps)"
   ]
  },
  {
   "cell_type": "code",
   "execution_count": 82,
   "id": "49cf9939",
   "metadata": {},
   "outputs": [],
   "source": [
    "t = pd.read_csv('cluster_pred\\dbscan_' + str(0.001) + '_without_xy.csv')"
   ]
  },
  {
   "cell_type": "code",
   "execution_count": 83,
   "id": "4cfba553",
   "metadata": {},
   "outputs": [],
   "source": [
    "df['pred'] = t['pred'].astype(str)"
   ]
  },
  {
   "cell_type": "code",
   "execution_count": 84,
   "id": "1b0d5454",
   "metadata": {},
   "outputs": [],
   "source": [
    "df['pred_batch'] = df['pred'] + '_' +df['batch']"
   ]
  },
  {
   "cell_type": "code",
   "execution_count": 58,
   "id": "8d742986",
   "metadata": {},
   "outputs": [
    {
     "data": {
      "text/plain": [
       "1.0"
      ]
     },
     "execution_count": 58,
     "metadata": {},
     "output_type": "execute_result"
    }
   ],
   "source": [
    "np.median(df['pred_batch'].value_counts())"
   ]
  },
  {
   "cell_type": "code",
   "execution_count": 89,
   "id": "f2ca4034",
   "metadata": {},
   "outputs": [],
   "source": [
    "val = df['pred_batch'].value_counts()\n",
    "val = val[val > 5]"
   ]
  },
  {
   "cell_type": "code",
   "execution_count": 98,
   "id": "a05cc6a6",
   "metadata": {},
   "outputs": [],
   "source": [
    "df = df[df['pred_batch'].isin(val.index)]"
   ]
  },
  {
   "cell_type": "code",
   "execution_count": 99,
   "id": "8bd9727a",
   "metadata": {},
   "outputs": [],
   "source": [
    "df.to_csv('pred_cluster.csv', index = False)"
   ]
  },
  {
   "cell_type": "code",
   "execution_count": 2,
   "id": "0d008e35",
   "metadata": {},
   "outputs": [],
   "source": [
    "df = pd.read_csv('pred_cluster.csv')"
   ]
  },
  {
   "cell_type": "code",
   "execution_count": 9,
   "id": "8280eef7",
   "metadata": {},
   "outputs": [
    {
     "data": {
      "image/png": "[encoded data removed]",
      "text/plain": [
       "<Figure size 864x576 with 1 Axes>"
      ]
     },
     "metadata": {
      "needs_background": "light"
     },
     "output_type": "display_data"
    }
   ],
   "source": [
    "plt.figure(figsize = (12, 8))\n",
    "sns.scatterplot(x = df['x'], y = df['y'], hue = df['pred_batch'], legend = None)\n",
    "plt.savefig('cluster on surface.png')"
   ]
  },
  {
   "cell_type": "code",
   "execution_count": null,
   "id": "79e2da53",
   "metadata": {},
   "outputs": [],
   "source": []
  }
 ],
 "metadata": {
  "kernelspec": {
   "display_name": "Python 3 (ipykernel)",
   "language": "python",
   "name": "python3"
  },
  "language_info": {
   "codemirror_mode": {
    "name": "ipython",
    "version": 3
   },
   "file_extension": ".py",
   "mimetype": "text/x-python",
   "name": "python",
   "nbconvert_exporter": "python",
   "pygments_lexer": "ipython3",
   "version": "3.9.12"
  }
 },
 "nbformat": 4,
 "nbformat_minor": 5
}
