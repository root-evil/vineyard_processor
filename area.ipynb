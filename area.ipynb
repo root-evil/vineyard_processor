{
 "cells": [
  {
   "cell_type": "code",
   "execution_count": 1,
   "id": "e8117b36",
   "metadata": {},
   "outputs": [],
   "source": [
    "import pandas as pd\n",
    "import numpy as np\n",
    "import matplotlib.pyplot as plt\n",
    "import seaborn\n",
    "from sklearn.cluster import KMeans, DBSCAN\n",
    "from skimage import io\n",
    "import os\n",
    "import tqdm\n",
    "from sklearn.preprocessing import MinMaxScaler\n",
    "from collections import Counter\n",
    "import pickle\n",
    "import json"
   ]
  },
  {
   "cell_type": "code",
   "execution_count": 2,
   "id": "d27515b8",
   "metadata": {},
   "outputs": [],
   "source": [
    "df = pd.read_csv('cluster_point.csv')"
   ]
  },
  {
   "cell_type": "code",
   "execution_count": 3,
   "id": "faedbacc",
   "metadata": {},
   "outputs": [],
   "source": [
    "df_mask_les = pd.read_csv('mask_ter/tmp_forests_mask.csv').values\n",
    "df_mask_flood = pd.read_csv('mask_ter/tmp_flooded_mask.csv').values\n",
    "df_mask_loan =  pd.read_csv('mask_ter/tmp_loan_mask.csv').values"
   ]
  },
  {
   "cell_type": "code",
   "execution_count": 25,
   "id": "3b33b6da",
   "metadata": {},
   "outputs": [],
   "source": [
    "df_off_mask = pd.read_csv('mask_ter/tmp_off_mask.csv').values\n",
    "df_off_mask = np.vstack(np.where(df_off_mask)).T"
   ]
  },
  {
   "cell_type": "code",
   "execution_count": 4,
   "id": "6a875c76",
   "metadata": {},
   "outputs": [],
   "source": [
    "with open('churka_hui.pickle', 'rb') as f:\n",
    "    dict_pol = pickle.load(f)"
   ]
  },
  {
   "cell_type": "code",
   "execution_count": 5,
   "id": "267c2d36",
   "metadata": {},
   "outputs": [],
   "source": [
    "list_mask = [('les', np.vstack(np.where(df_mask_les)).T),\n",
    "            ('flood', np.vstack(np.where(df_mask_flood)).T),\n",
    "            ('loan', np.vstack(np.where(df_mask_flood)).T)]"
   ]
  },
  {
   "cell_type": "code",
   "execution_count": 6,
   "id": "bd8ddc63",
   "metadata": {},
   "outputs": [],
   "source": [
    "with open('churka_hui.json', 'r') as f:\n",
    "    dict_pol = json.load(f)"
   ]
  },
  {
   "cell_type": "code",
   "execution_count": 9,
   "id": "bceca216",
   "metadata": {},
   "outputs": [
    {
     "name": "stderr",
     "output_type": "stream",
     "text": [
      "  0%|▏                                                                                 | 1/480 [00:05<45:56,  5.75s/it]"
     ]
    },
    {
     "name": "stdout",
     "output_type": "stream",
     "text": [
      "[[ 179 1517]\n",
      " [ 180 1520]\n",
      " [ 180 1522]\n",
      " [ 179 1521]]\n",
      "{'les': False, 'flood': False, 'loan': False}\n"
     ]
    },
    {
     "name": "stderr",
     "output_type": "stream",
     "text": [
      "\r",
      "  0%|▎                                                                                 | 2/480 [00:11<46:00,  5.78s/it]"
     ]
    },
    {
     "name": "stdout",
     "output_type": "stream",
     "text": [
      "[[ 246 1458]\n",
      " [ 246 1459]\n",
      " [ 243 1459]]\n",
      "{'les': False, 'flood': False, 'loan': False}\n"
     ]
    },
    {
     "name": "stderr",
     "output_type": "stream",
     "text": [
      "\r",
      "  1%|▌                                                                                 | 3/480 [00:17<45:54,  5.78s/it]"
     ]
    },
    {
     "name": "stdout",
     "output_type": "stream",
     "text": [
      "[[ 381 1253]\n",
      " [ 381 1254]\n",
      " [ 380 1262]\n",
      " [ 380 1257]]\n",
      "{'les': False, 'flood': False, 'loan': False}\n",
      "<class 'Exception'>\n",
      "('The input points are located on the same line. No convex hull is found!',)\n",
      "<class 'Exception'>\n",
      "('The input points are located on the same line. No convex hull is found!',)\n",
      "<class 'Exception'>\n",
      "('The input points are located on the same line. No convex hull is found!',)\n"
     ]
    },
    {
     "name": "stderr",
     "output_type": "stream",
     "text": [
      "\r",
      "  1%|▋                                                                                 | 4/480 [00:23<46:08,  5.82s/it]"
     ]
    },
    {
     "name": "stdout",
     "output_type": "stream",
     "text": [
      "[[ 386 1320]\n",
      " [ 382 1325]\n",
      " [ 380 1326]]\n",
      "{'les': True, 'flood': True, 'loan': True}\n"
     ]
    },
    {
     "name": "stderr",
     "output_type": "stream",
     "text": [
      "\r",
      "  1%|▊                                                                                 | 5/480 [00:29<46:04,  5.82s/it]"
     ]
    },
    {
     "name": "stdout",
     "output_type": "stream",
     "text": [
      "[[ 381 1256]\n",
      " [ 382 1261]\n",
      " [ 381 1262]]\n",
      "{'les': False, 'flood': False, 'loan': False}\n"
     ]
    },
    {
     "name": "stderr",
     "output_type": "stream",
     "text": [
      "\r",
      "  1%|█                                                                                 | 6/480 [00:34<45:47,  5.80s/it]"
     ]
    },
    {
     "name": "stdout",
     "output_type": "stream",
     "text": [
      "[[ 390 1331]\n",
      " [ 390 1332]\n",
      " [ 385 1332]]\n",
      "{'les': False, 'flood': False, 'loan': False}\n"
     ]
    },
    {
     "name": "stderr",
     "output_type": "stream",
     "text": [
      "\r",
      "  1%|█▏                                                                                | 7/480 [00:40<45:32,  5.78s/it]"
     ]
    },
    {
     "name": "stdout",
     "output_type": "stream",
     "text": [
      "[[ 389 1320]\n",
      " [ 388 1324]\n",
      " [ 386 1323]]\n",
      "{'les': True, 'flood': True, 'loan': True}\n"
     ]
    },
    {
     "name": "stderr",
     "output_type": "stream",
     "text": [
      "\r",
      "  2%|█▎                                                                                | 8/480 [00:46<45:29,  5.78s/it]"
     ]
    },
    {
     "name": "stdout",
     "output_type": "stream",
     "text": [
      "[[ 401 1702]\n",
      " [ 404 1704]\n",
      " [ 404 1705]]\n",
      "{'les': True, 'flood': True, 'loan': True}\n"
     ]
    },
    {
     "name": "stderr",
     "output_type": "stream",
     "text": [
      "\r",
      "  2%|█▌                                                                                | 9/480 [00:52<45:28,  5.79s/it]"
     ]
    },
    {
     "name": "stdout",
     "output_type": "stream",
     "text": [
      "[[ 408 1213]\n",
      " [ 409 1214]\n",
      " [ 404 1216]]\n",
      "{'les': False, 'flood': False, 'loan': False}\n"
     ]
    },
    {
     "name": "stderr",
     "output_type": "stream",
     "text": [
      "\r",
      "  2%|█▋                                                                               | 10/480 [01:02<57:30,  7.34s/it]"
     ]
    },
    {
     "name": "stdout",
     "output_type": "stream",
     "text": [
      "[[ 407 1592]\n",
      " [ 408 1592]\n",
      " [ 407 1593]\n",
      " [ 404 1593]]\n",
      "{'les': False, 'flood': True, 'loan': True}\n"
     ]
    },
    {
     "name": "stderr",
     "output_type": "stream",
     "text": [
      "\r",
      "  2%|█▊                                                                             | 11/480 [01:14<1:06:49,  8.55s/it]"
     ]
    },
    {
     "name": "stdout",
     "output_type": "stream",
     "text": [
      "[[411 951]\n",
      " [412 951]\n",
      " [410 955]\n",
      " [406 955]]\n",
      "{'les': False, 'flood': False, 'loan': False}\n"
     ]
    },
    {
     "name": "stderr",
     "output_type": "stream",
     "text": [
      "\r",
      "  2%|█▉                                                                             | 12/480 [01:20<1:00:08,  7.71s/it]"
     ]
    },
    {
     "name": "stdout",
     "output_type": "stream",
     "text": [
      "[[ 412 1700]\n",
      " [ 412 1704]\n",
      " [ 406 1703]]\n",
      "{'les': True, 'flood': True, 'loan': True}\n"
     ]
    },
    {
     "name": "stderr",
     "output_type": "stream",
     "text": [
      "\r",
      "  3%|██▏                                                                            | 13/480 [01:30<1:07:02,  8.61s/it]"
     ]
    },
    {
     "name": "stdout",
     "output_type": "stream",
     "text": [
      "[[ 411 1626]\n",
      " [ 412 1626]\n",
      " [ 409 1630]\n",
      " [ 407 1629]]\n",
      "{'les': False, 'flood': False, 'loan': False}\n"
     ]
    },
    {
     "name": "stderr",
     "output_type": "stream",
     "text": [
      "\r",
      "  3%|██▎                                                                            | 14/480 [01:36<1:00:18,  7.77s/it]"
     ]
    },
    {
     "name": "stdout",
     "output_type": "stream",
     "text": [
      "[[ 410 1626]\n",
      " [ 412 1629]\n",
      " [ 410 1630]\n",
      " [ 407 1630]]\n",
      "{'les': True, 'flood': True, 'loan': True}\n"
     ]
    },
    {
     "name": "stderr",
     "output_type": "stream",
     "text": [
      "\r",
      "  3%|██▌                                                                              | 15/480 [01:42<55:44,  7.19s/it]"
     ]
    },
    {
     "name": "stdout",
     "output_type": "stream",
     "text": [
      "[[ 408 1642]\n",
      " [ 409 1643]\n",
      " [ 409 1645]]\n",
      "{'les': True, 'flood': True, 'loan': True}\n"
     ]
    },
    {
     "name": "stderr",
     "output_type": "stream",
     "text": [
      "\r",
      "  3%|██▋                                                                              | 16/480 [01:48<52:20,  6.77s/it]"
     ]
    },
    {
     "name": "stdout",
     "output_type": "stream",
     "text": [
      "[[ 412 1208]\n",
      " [ 412 1211]\n",
      " [ 409 1212]]\n",
      "{'les': True, 'flood': False, 'loan': False}\n"
     ]
    },
    {
     "name": "stderr",
     "output_type": "stream",
     "text": [
      "\r",
      "  4%|██▊                                                                              | 17/480 [01:53<50:03,  6.49s/it]"
     ]
    },
    {
     "name": "stdout",
     "output_type": "stream",
     "text": [
      "[[ 412 1207]\n",
      " [ 412 1210]\n",
      " [ 411 1209]]\n",
      "{'les': True, 'flood': False, 'loan': False}\n"
     ]
    },
    {
     "name": "stderr",
     "output_type": "stream",
     "text": [
      "\r",
      "  4%|███                                                                              | 18/480 [01:59<48:34,  6.31s/it]"
     ]
    },
    {
     "name": "stdout",
     "output_type": "stream",
     "text": [
      "[[ 415 1635]\n",
      " [ 417 1636]\n",
      " [ 417 1637]]\n",
      "{'les': True, 'flood': True, 'loan': True}\n"
     ]
    },
    {
     "name": "stderr",
     "output_type": "stream",
     "text": [
      "\r",
      "  4%|███▏                                                                             | 19/480 [02:05<47:24,  6.17s/it]"
     ]
    },
    {
     "name": "stdout",
     "output_type": "stream",
     "text": [
      "[[419 950]\n",
      " [419 952]\n",
      " [417 951]]\n",
      "{'les': True, 'flood': False, 'loan': False}\n"
     ]
    },
    {
     "name": "stderr",
     "output_type": "stream",
     "text": [
      "\r",
      "  4%|███▍                                                                             | 20/480 [02:11<46:26,  6.06s/it]"
     ]
    },
    {
     "name": "stdout",
     "output_type": "stream",
     "text": [
      "[[ 417 1582]\n",
      " [ 418 1584]\n",
      " [ 418 1586]]\n",
      "{'les': True, 'flood': True, 'loan': True}\n"
     ]
    },
    {
     "name": "stderr",
     "output_type": "stream",
     "text": [
      "\r",
      "  4%|███▌                                                                             | 21/480 [02:17<45:44,  5.98s/it]"
     ]
    },
    {
     "name": "stdout",
     "output_type": "stream",
     "text": [
      "[[ 421 1573]\n",
      " [ 421 1575]\n",
      " [ 418 1580]]\n",
      "{'les': True, 'flood': True, 'loan': True}\n"
     ]
    },
    {
     "name": "stderr",
     "output_type": "stream",
     "text": [
      "\r",
      "  5%|███▋                                                                             | 22/480 [02:23<45:27,  5.96s/it]"
     ]
    },
    {
     "name": "stdout",
     "output_type": "stream",
     "text": [
      "[[ 419 1556]\n",
      " [ 420 1557]\n",
      " [ 420 1558]\n",
      " [ 419 1559]]\n",
      "{'les': True, 'flood': True, 'loan': True}\n"
     ]
    },
    {
     "name": "stderr",
     "output_type": "stream",
     "text": [
      "\r",
      "  5%|███▉                                                                             | 23/480 [02:34<56:25,  7.41s/it]"
     ]
    },
    {
     "name": "stdout",
     "output_type": "stream",
     "text": [
      "[[ 420 1565]\n",
      " [ 421 1565]\n",
      " [ 421 1569]]\n",
      "{'les': True, 'flood': True, 'loan': True}\n"
     ]
    },
    {
     "name": "stderr",
     "output_type": "stream",
     "text": [
      "\r",
      "  5%|████                                                                             | 24/480 [02:39<52:36,  6.92s/it]"
     ]
    },
    {
     "name": "stdout",
     "output_type": "stream",
     "text": [
      "[[ 420 1630]\n",
      " [ 421 1631]\n",
      " [ 421 1633]]\n",
      "{'les': True, 'flood': True, 'loan': True}\n"
     ]
    },
    {
     "name": "stderr",
     "output_type": "stream",
     "text": [
      "\r",
      "  5%|████▏                                                                            | 25/480 [02:45<49:57,  6.59s/it]"
     ]
    },
    {
     "name": "stdout",
     "output_type": "stream",
     "text": [
      "[[ 428 1332]\n",
      " [ 429 1341]\n",
      " [ 421 1341]]\n",
      "{'les': False, 'flood': False, 'loan': False}\n"
     ]
    },
    {
     "name": "stderr",
     "output_type": "stream",
     "text": [
      "\r",
      "  5%|████▍                                                                            | 26/480 [02:51<48:17,  6.38s/it]"
     ]
    },
    {
     "name": "stdout",
     "output_type": "stream",
     "text": [
      "[[ 434 1745]\n",
      " [ 434 1746]\n",
      " [ 433 1750]\n",
      " [ 433 1747]]\n",
      "{'les': True, 'flood': True, 'loan': True}\n"
     ]
    },
    {
     "name": "stderr",
     "output_type": "stream",
     "text": [
      "\r",
      "  6%|████▌                                                                            | 27/480 [02:57<46:55,  6.22s/it]"
     ]
    },
    {
     "name": "stdout",
     "output_type": "stream",
     "text": [
      "[[ 446 1121]\n",
      " [ 446 1123]\n",
      " [ 445 1134]]\n",
      "{'les': True, 'flood': True, 'loan': True}\n",
      "<class 'Exception'>\n",
      "('The input points are located on the same line. No convex hull is found!',)\n",
      "<class 'Exception'>\n",
      "('Not enough points are found for convex hull. Please check your input and other information',)\n",
      "<class 'Exception'>\n",
      "('The input points are located on the same line. No convex hull is found!',)\n",
      "<class 'Exception'>\n",
      "('Not enough points are found for convex hull. Please check your input and other information',)\n",
      "<class 'Exception'>\n",
      "('The input points are located on the same line. No convex hull is found!',)\n",
      "<class 'Exception'>\n",
      "('Not enough points are found for convex hull. Please check your input and other information',)\n"
     ]
    },
    {
     "name": "stderr",
     "output_type": "stream",
     "text": [
      "\r",
      "  6%|████▋                                                                            | 28/480 [03:03<45:49,  6.08s/it]"
     ]
    },
    {
     "name": "stdout",
     "output_type": "stream",
     "text": [
      "None\n",
      "{'les': True, 'flood': True, 'loan': True}\n"
     ]
    },
    {
     "name": "stderr",
     "output_type": "stream",
     "text": [
      "\r",
      "  6%|████▉                                                                            | 29/480 [03:08<45:02,  5.99s/it]"
     ]
    },
    {
     "name": "stdout",
     "output_type": "stream",
     "text": [
      "[[ 449 1866]\n",
      " [ 450 1868]\n",
      " [ 450 1869]\n",
      " [ 449 1869]]\n",
      "{'les': True, 'flood': True, 'loan': True}\n"
     ]
    },
    {
     "name": "stderr",
     "output_type": "stream",
     "text": [
      "\r",
      "  6%|█████                                                                            | 30/480 [03:20<56:34,  7.54s/it]"
     ]
    },
    {
     "name": "stdout",
     "output_type": "stream",
     "text": [
      "[[ 450 1238]\n",
      " [ 453 1238]\n",
      " [ 451 1243]]\n",
      "{'les': True, 'flood': True, 'loan': True}\n"
     ]
    },
    {
     "name": "stderr",
     "output_type": "stream",
     "text": [
      "\r",
      "  6%|█████                                                                          | 31/480 [03:31<1:04:35,  8.63s/it]"
     ]
    },
    {
     "name": "stdout",
     "output_type": "stream",
     "text": [
      "[[ 455 1238]\n",
      " [ 457 1238]\n",
      " [ 456 1239]\n",
      " [ 450 1243]]\n",
      "{'les': False, 'flood': False, 'loan': False}\n"
     ]
    },
    {
     "name": "stderr",
     "output_type": "stream",
     "text": [
      "\r",
      "  7%|█████▍                                                                           | 32/480 [03:37<58:08,  7.79s/it]"
     ]
    },
    {
     "name": "stdout",
     "output_type": "stream",
     "text": [
      "[[ 460 1833]\n",
      " [ 460 1836]\n",
      " [ 457 1837]]\n",
      "{'les': True, 'flood': True, 'loan': True}\n"
     ]
    },
    {
     "name": "stderr",
     "output_type": "stream",
     "text": [
      "\r",
      "  7%|█████▌                                                                           | 33/480 [03:42<53:35,  7.19s/it]"
     ]
    },
    {
     "name": "stdout",
     "output_type": "stream",
     "text": [
      "[[ 460 1832]\n",
      " [ 460 1835]\n",
      " [ 458 1836]]\n",
      "{'les': True, 'flood': True, 'loan': True}\n"
     ]
    },
    {
     "name": "stderr",
     "output_type": "stream",
     "text": [
      "\r",
      "  7%|█████▋                                                                           | 34/480 [03:52<59:54,  8.06s/it]"
     ]
    },
    {
     "name": "stdout",
     "output_type": "stream",
     "text": [
      "[[ 459 1882]\n",
      " [ 461 1882]\n",
      " [ 461 1883]\n",
      " [ 460 1883]]\n",
      "{'les': False, 'flood': False, 'loan': False}\n"
     ]
    },
    {
     "name": "stderr",
     "output_type": "stream",
     "text": [
      "\r",
      "  7%|█████▉                                                                           | 35/480 [04:00<58:36,  7.90s/it]"
     ]
    },
    {
     "name": "stdout",
     "output_type": "stream",
     "text": [
      "[[496 974]\n",
      " [498 975]\n",
      " [494 975]]\n",
      "{'les': True, 'flood': True, 'loan': True}\n"
     ]
    },
    {
     "name": "stderr",
     "output_type": "stream",
     "text": [
      "\r",
      "  8%|█████▉                                                                         | 36/480 [04:12<1:06:36,  9.00s/it]"
     ]
    },
    {
     "name": "stdout",
     "output_type": "stream",
     "text": [
      "[[ 513 1072]\n",
      " [ 516 1072]\n",
      " [ 517 1073]\n",
      " [ 516 1074]]\n",
      "{'les': False, 'flood': False, 'loan': False}\n"
     ]
    },
    {
     "name": "stderr",
     "output_type": "stream",
     "text": [
      "\r",
      "  8%|██████                                                                         | 37/480 [04:23<1:11:35,  9.70s/it]"
     ]
    },
    {
     "name": "stdout",
     "output_type": "stream",
     "text": [
      "[[515 982]\n",
      " [517 982]\n",
      " [517 983]\n",
      " [516 983]]\n",
      "{'les': False, 'flood': False, 'loan': False}\n"
     ]
    },
    {
     "name": "stderr",
     "output_type": "stream",
     "text": [
      "\r",
      "  8%|██████▎                                                                        | 38/480 [04:29<1:02:48,  8.53s/it]"
     ]
    },
    {
     "name": "stdout",
     "output_type": "stream",
     "text": [
      "[[519 982]\n",
      " [519 984]\n",
      " [517 984]]\n",
      "{'les': True, 'flood': True, 'loan': True}\n"
     ]
    },
    {
     "name": "stderr",
     "output_type": "stream",
     "text": [
      "\r",
      "  8%|██████▍                                                                        | 39/480 [04:40<1:08:47,  9.36s/it]"
     ]
    },
    {
     "name": "stdout",
     "output_type": "stream",
     "text": [
      "[[ 578 1005]\n",
      " [ 579 1005]\n",
      " [ 579 1006]\n",
      " [ 578 1008]]\n",
      "{'les': True, 'flood': True, 'loan': True}\n"
     ]
    },
    {
     "name": "stderr",
     "output_type": "stream",
     "text": [
      "\r",
      "  8%|██████▌                                                                        | 40/480 [04:51<1:11:51,  9.80s/it]"
     ]
    },
    {
     "name": "stdout",
     "output_type": "stream",
     "text": [
      "[[ 629 1564]\n",
      " [ 630 1564]\n",
      " [ 630 1566]]\n",
      "{'les': True, 'flood': True, 'loan': True}\n"
     ]
    },
    {
     "name": "stderr",
     "output_type": "stream",
     "text": [
      "\r",
      "  9%|██████▋                                                                        | 41/480 [04:57<1:03:11,  8.64s/it]"
     ]
    },
    {
     "name": "stdout",
     "output_type": "stream",
     "text": [
      "[[ 629 1567]\n",
      " [ 631 1568]\n",
      " [ 631 1570]]\n",
      "{'les': True, 'flood': True, 'loan': True}\n"
     ]
    },
    {
     "name": "stderr",
     "output_type": "stream",
     "text": [
      "\r",
      "  9%|███████                                                                          | 42/480 [05:03<56:53,  7.79s/it]"
     ]
    },
    {
     "name": "stdout",
     "output_type": "stream",
     "text": [
      "[[ 656 1244]\n",
      " [ 656 1246]\n",
      " [ 654 1246]]\n",
      "{'les': True, 'flood': True, 'loan': True}\n"
     ]
    },
    {
     "name": "stderr",
     "output_type": "stream",
     "text": [
      "\r",
      "  9%|███████▎                                                                         | 43/480 [05:08<52:26,  7.20s/it]"
     ]
    },
    {
     "name": "stdout",
     "output_type": "stream",
     "text": [
      "[[ 656 1247]\n",
      " [ 656 1249]\n",
      " [ 654 1249]]\n",
      "{'les': True, 'flood': True, 'loan': True}\n",
      "<class 'Exception'>\n",
      "('The input points are located on the same line. No convex hull is found!',)\n",
      "<class 'Exception'>\n",
      "('Not enough points are found for convex hull. Please check your input and other information',)\n",
      "<class 'Exception'>\n",
      "('The input points are located on the same line. No convex hull is found!',)\n",
      "<class 'Exception'>\n",
      "('Not enough points are found for convex hull. Please check your input and other information',)\n",
      "<class 'Exception'>\n",
      "('The input points are located on the same line. No convex hull is found!',)\n",
      "<class 'Exception'>\n",
      "('Not enough points are found for convex hull. Please check your input and other information',)\n"
     ]
    },
    {
     "name": "stderr",
     "output_type": "stream",
     "text": [
      "\r",
      "  9%|███████▍                                                                         | 44/480 [05:14<49:15,  6.78s/it]"
     ]
    },
    {
     "name": "stdout",
     "output_type": "stream",
     "text": [
      "None\n",
      "{'les': True, 'flood': True, 'loan': True}\n"
     ]
    },
    {
     "name": "stderr",
     "output_type": "stream",
     "text": [
      "\r",
      "  9%|███████▌                                                                         | 45/480 [05:20<47:04,  6.49s/it]"
     ]
    },
    {
     "name": "stdout",
     "output_type": "stream",
     "text": [
      "[[ 660 1243]\n",
      " [ 660 1245]\n",
      " [ 658 1246]]\n",
      "{'les': True, 'flood': True, 'loan': True}\n"
     ]
    },
    {
     "name": "stderr",
     "output_type": "stream",
     "text": [
      "\r",
      " 10%|███████▊                                                                         | 46/480 [05:26<45:25,  6.28s/it]"
     ]
    },
    {
     "name": "stdout",
     "output_type": "stream",
     "text": [
      "[[ 664 1248]\n",
      " [ 664 1250]\n",
      " [ 662 1250]]\n",
      "{'les': True, 'flood': True, 'loan': True}\n",
      "<class 'Exception'>\n",
      "('The input points are located on the same line. No convex hull is found!',)\n",
      "<class 'Exception'>\n",
      "('Not enough points are found for convex hull. Please check your input and other information',)\n",
      "<class 'Exception'>\n",
      "('The input points are located on the same line. No convex hull is found!',)\n",
      "<class 'Exception'>\n",
      "('Not enough points are found for convex hull. Please check your input and other information',)\n",
      "<class 'Exception'>\n",
      "('The input points are located on the same line. No convex hull is found!',)\n",
      "<class 'Exception'>\n",
      "('Not enough points are found for convex hull. Please check your input and other information',)\n"
     ]
    },
    {
     "name": "stderr",
     "output_type": "stream",
     "text": [
      "\r",
      " 10%|███████▉                                                                         | 47/480 [05:32<44:13,  6.13s/it]"
     ]
    },
    {
     "name": "stdout",
     "output_type": "stream",
     "text": [
      "None\n",
      "{'les': True, 'flood': True, 'loan': True}\n"
     ]
    },
    {
     "name": "stderr",
     "output_type": "stream",
     "text": [
      "\r",
      " 10%|████████                                                                         | 48/480 [05:37<43:35,  6.05s/it]"
     ]
    },
    {
     "name": "stdout",
     "output_type": "stream",
     "text": [
      "[[ 667 1241]\n",
      " [ 668 1242]\n",
      " [ 668 1244]]\n",
      "{'les': True, 'flood': True, 'loan': True}\n"
     ]
    },
    {
     "name": "stderr",
     "output_type": "stream",
     "text": [
      "\r",
      " 10%|████████▎                                                                        | 49/480 [05:43<43:00,  5.99s/it]"
     ]
    },
    {
     "name": "stdout",
     "output_type": "stream",
     "text": [
      "[[ 671 1243]\n",
      " [ 671 1244]\n",
      " [ 670 1246]\n",
      " [ 669 1245]]\n",
      "{'les': True, 'flood': True, 'loan': True}\n"
     ]
    },
    {
     "name": "stderr",
     "output_type": "stream",
     "text": [
      "\r",
      " 10%|████████▍                                                                        | 50/480 [05:49<42:28,  5.93s/it]"
     ]
    },
    {
     "name": "stdout",
     "output_type": "stream",
     "text": [
      "[[ 680 1111]\n",
      " [ 680 1113]\n",
      " [ 679 1114]]\n",
      "{'les': True, 'flood': True, 'loan': True}\n"
     ]
    },
    {
     "name": "stderr",
     "output_type": "stream",
     "text": [
      "\r",
      " 11%|████████▌                                                                        | 51/480 [06:00<53:47,  7.52s/it]"
     ]
    },
    {
     "name": "stdout",
     "output_type": "stream",
     "text": [
      "[[ 680 1115]\n",
      " [ 681 1115]\n",
      " [ 681 1117]]\n",
      "{'les': True, 'flood': True, 'loan': True}\n"
     ]
    },
    {
     "name": "stderr",
     "output_type": "stream",
     "text": [
      "\r",
      " 11%|████████▊                                                                        | 52/480 [06:06<50:23,  7.06s/it]"
     ]
    },
    {
     "name": "stdout",
     "output_type": "stream",
     "text": [
      "[[ 680 1122]\n",
      " [ 692 1132]\n",
      " [ 692 1134]]\n",
      "{'les': True, 'flood': True, 'loan': True}\n"
     ]
    },
    {
     "name": "stderr",
     "output_type": "stream",
     "text": [
      "\r",
      " 11%|████████▋                                                                      | 53/480 [06:18<1:01:16,  8.61s/it]"
     ]
    },
    {
     "name": "stdout",
     "output_type": "stream",
     "text": [
      "[[ 692 1067]\n",
      " [ 693 1067]\n",
      " [ 693 1072]]\n",
      "{'les': True, 'flood': True, 'loan': True}\n"
     ]
    },
    {
     "name": "stderr",
     "output_type": "stream",
     "text": [
      "\r",
      " 11%|█████████                                                                        | 54/480 [06:24<55:35,  7.83s/it]"
     ]
    },
    {
     "name": "stdout",
     "output_type": "stream",
     "text": [
      "[[ 692 1073]\n",
      " [ 693 1074]\n",
      " [ 692 1077]]\n",
      "{'les': True, 'flood': True, 'loan': True}\n"
     ]
    },
    {
     "name": "stderr",
     "output_type": "stream",
     "text": [
      "\r",
      " 11%|█████████▎                                                                       | 55/480 [06:30<51:17,  7.24s/it]"
     ]
    },
    {
     "name": "stdout",
     "output_type": "stream",
     "text": [
      "[[ 693 1131]\n",
      " [ 695 1139]\n",
      " [ 695 1140]\n",
      " [ 694 1137]]\n",
      "{'les': False, 'flood': False, 'loan': False}\n"
     ]
    },
    {
     "name": "stderr",
     "output_type": "stream",
     "text": [
      "\r",
      " 12%|█████████▍                                                                       | 56/480 [06:36<48:26,  6.86s/it]"
     ]
    },
    {
     "name": "stdout",
     "output_type": "stream",
     "text": [
      "[[ 693 1139]\n",
      " [ 694 1140]\n",
      " [ 694 1141]\n",
      " [ 693 1142]]\n",
      "{'les': True, 'flood': True, 'loan': True}\n"
     ]
    },
    {
     "name": "stderr",
     "output_type": "stream",
     "text": [
      "\r",
      " 12%|█████████▌                                                                       | 57/480 [06:42<46:05,  6.54s/it]"
     ]
    },
    {
     "name": "stdout",
     "output_type": "stream",
     "text": [
      "[[ 695 1142]\n",
      " [ 694 1144]\n",
      " [ 693 1143]]\n",
      "{'les': True, 'flood': True, 'loan': True}\n",
      "<class 'Exception'>\n",
      "('The input points are located on the same line. No convex hull is found!',)\n",
      "<class 'Exception'>\n",
      "('Not enough points are found for convex hull. Please check your input and other information',)\n",
      "<class 'Exception'>\n",
      "('The input points are located on the same line. No convex hull is found!',)\n",
      "<class 'Exception'>\n",
      "('Not enough points are found for convex hull. Please check your input and other information',)\n",
      "<class 'Exception'>\n",
      "('The input points are located on the same line. No convex hull is found!',)\n",
      "<class 'Exception'>\n",
      "('Not enough points are found for convex hull. Please check your input and other information',)\n"
     ]
    },
    {
     "name": "stderr",
     "output_type": "stream",
     "text": [
      "\r",
      " 12%|█████████▊                                                                       | 58/480 [06:48<44:22,  6.31s/it]"
     ]
    },
    {
     "name": "stdout",
     "output_type": "stream",
     "text": [
      "None\n",
      "{'les': True, 'flood': True, 'loan': True}\n"
     ]
    },
    {
     "name": "stderr",
     "output_type": "stream",
     "text": [
      "\r",
      " 12%|█████████▉                                                                       | 59/480 [06:59<54:43,  7.80s/it]"
     ]
    },
    {
     "name": "stdout",
     "output_type": "stream",
     "text": [
      "[[ 693 1146]\n",
      " [ 695 1146]\n",
      " [ 695 1147]\n",
      " [ 694 1147]]\n",
      "{'les': False, 'flood': False, 'loan': False}\n"
     ]
    },
    {
     "name": "stderr",
     "output_type": "stream",
     "text": [
      "\r",
      " 12%|██████████▏                                                                      | 60/480 [07:05<50:39,  7.24s/it]"
     ]
    },
    {
     "name": "stdout",
     "output_type": "stream",
     "text": [
      "[[ 694 1126]\n",
      " [ 695 1127]\n",
      " [ 695 1129]]\n",
      "{'les': True, 'flood': True, 'loan': True}\n"
     ]
    },
    {
     "name": "stderr",
     "output_type": "stream",
     "text": [
      "\r",
      " 13%|██████████▎                                                                      | 61/480 [07:11<47:37,  6.82s/it]"
     ]
    },
    {
     "name": "stdout",
     "output_type": "stream",
     "text": [
      "[[ 694 1607]\n",
      " [ 695 1608]\n",
      " [ 695 1609]\n",
      " [ 694 1610]]\n",
      "{'les': True, 'flood': True, 'loan': True}\n"
     ]
    },
    {
     "name": "stderr",
     "output_type": "stream",
     "text": [
      "\r",
      " 13%|██████████▍                                                                      | 62/480 [07:17<45:23,  6.51s/it]"
     ]
    },
    {
     "name": "stdout",
     "output_type": "stream",
     "text": [
      "[[ 695 1148]\n",
      " [ 696 1152]\n",
      " [ 696 1153]\n",
      " [ 695 1153]]\n",
      "{'les': True, 'flood': True, 'loan': True}\n"
     ]
    },
    {
     "name": "stderr",
     "output_type": "stream",
     "text": [
      "\r",
      " 13%|██████████▋                                                                      | 63/480 [07:28<55:01,  7.92s/it]"
     ]
    },
    {
     "name": "stdout",
     "output_type": "stream",
     "text": [
      "[[ 695 1606]\n",
      " [ 697 1605]\n",
      " [ 697 1608]\n",
      " [ 696 1608]]\n",
      "{'les': False, 'flood': False, 'loan': False}\n"
     ]
    },
    {
     "name": "stderr",
     "output_type": "stream",
     "text": [
      "\r",
      " 13%|██████████▊                                                                      | 64/480 [07:34<50:35,  7.30s/it]"
     ]
    },
    {
     "name": "stdout",
     "output_type": "stream",
     "text": [
      "[[ 697 1144]\n",
      " [ 698 1147]\n",
      " [ 698 1148]\n",
      " [ 697 1150]]\n",
      "{'les': True, 'flood': True, 'loan': True}\n"
     ]
    },
    {
     "name": "stderr",
     "output_type": "stream",
     "text": [
      "\r",
      " 14%|██████████▉                                                                      | 65/480 [07:40<47:28,  6.86s/it]"
     ]
    },
    {
     "name": "stdout",
     "output_type": "stream",
     "text": [
      "[[ 707 1605]\n",
      " [ 707 1606]\n",
      " [ 701 1610]\n",
      " [ 703 1608]]\n",
      "{'les': False, 'flood': False, 'loan': False}\n"
     ]
    },
    {
     "name": "stderr",
     "output_type": "stream",
     "text": [
      "\r",
      " 14%|███████████▏                                                                     | 66/480 [07:45<45:06,  6.54s/it]"
     ]
    },
    {
     "name": "stdout",
     "output_type": "stream",
     "text": [
      "[[ 705 1204]\n",
      " [ 704 1208]\n",
      " [ 703 1206]]\n",
      "{'les': True, 'flood': True, 'loan': True}\n"
     ]
    },
    {
     "name": "stderr",
     "output_type": "stream",
     "text": [
      "\r",
      " 14%|███████████▎                                                                     | 67/480 [07:51<43:30,  6.32s/it]"
     ]
    },
    {
     "name": "stdout",
     "output_type": "stream",
     "text": [
      "[[ 705 1196]\n",
      " [ 705 1198]\n",
      " [ 704 1197]]\n",
      "{'les': True, 'flood': True, 'loan': True}\n"
     ]
    },
    {
     "name": "stderr",
     "output_type": "stream",
     "text": [
      "\r",
      " 14%|███████████▍                                                                     | 68/480 [07:57<42:40,  6.21s/it]"
     ]
    },
    {
     "name": "stdout",
     "output_type": "stream",
     "text": [
      "[[ 734 1245]\n",
      " [ 735 1246]\n",
      " [ 735 1247]\n",
      " [ 734 1248]]\n",
      "{'les': True, 'flood': True, 'loan': True}\n"
     ]
    },
    {
     "name": "stderr",
     "output_type": "stream",
     "text": [
      "\r",
      " 14%|███████████▋                                                                     | 69/480 [08:08<53:00,  7.74s/it]"
     ]
    },
    {
     "name": "stdout",
     "output_type": "stream",
     "text": [
      "[[ 736 1248]\n",
      " [ 738 1248]\n",
      " [ 739 1249]\n",
      " [ 739 1250]]\n",
      "{'les': True, 'flood': True, 'loan': True}\n"
     ]
    },
    {
     "name": "stderr",
     "output_type": "stream",
     "text": [
      "\r",
      " 15%|███████████▊                                                                     | 70/480 [08:14<48:51,  7.15s/it]"
     ]
    },
    {
     "name": "stdout",
     "output_type": "stream",
     "text": [
      "[[ 740 1614]\n",
      " [ 740 1616]\n",
      " [ 739 1615]]\n",
      "{'les': True, 'flood': True, 'loan': True}\n"
     ]
    },
    {
     "name": "stderr",
     "output_type": "stream",
     "text": [
      "\r",
      " 15%|███████████▉                                                                     | 71/480 [08:25<56:01,  8.22s/it]"
     ]
    },
    {
     "name": "stdout",
     "output_type": "stream",
     "text": [
      "[[ 741 1614]\n",
      " [ 742 1614]\n",
      " [ 742 1616]]\n",
      "{'les': True, 'flood': True, 'loan': True}\n",
      "<class 'Exception'>\n",
      "('The input points are located on the same line. No convex hull is found!',)\n",
      "<class 'Exception'>\n",
      "('Not enough points are found for convex hull. Please check your input and other information',)\n",
      "<class 'Exception'>\n",
      "('The input points are located on the same line. No convex hull is found!',)\n",
      "<class 'Exception'>\n",
      "('Not enough points are found for convex hull. Please check your input and other information',)\n",
      "<class 'Exception'>\n",
      "('The input points are located on the same line. No convex hull is found!',)\n",
      "<class 'Exception'>\n",
      "('Not enough points are found for convex hull. Please check your input and other information',)\n"
     ]
    },
    {
     "name": "stderr",
     "output_type": "stream",
     "text": [
      "\r",
      " 15%|████████████▏                                                                    | 72/480 [08:31<51:19,  7.55s/it]"
     ]
    },
    {
     "name": "stdout",
     "output_type": "stream",
     "text": [
      "None\n",
      "{'les': True, 'flood': True, 'loan': True}\n"
     ]
    },
    {
     "name": "stderr",
     "output_type": "stream",
     "text": [
      "\r",
      " 15%|████████████▎                                                                    | 73/480 [08:37<47:57,  7.07s/it]"
     ]
    },
    {
     "name": "stdout",
     "output_type": "stream",
     "text": [
      "[[ 743 1130]\n",
      " [ 744 1131]\n",
      " [ 744 1133]]\n",
      "{'les': True, 'flood': True, 'loan': True}\n"
     ]
    },
    {
     "name": "stderr",
     "output_type": "stream",
     "text": [
      "\r",
      " 15%|████████████▍                                                                    | 74/480 [08:43<45:16,  6.69s/it]"
     ]
    },
    {
     "name": "stdout",
     "output_type": "stream",
     "text": [
      "[[ 769 1556]\n",
      " [ 769 1558]\n",
      " [ 768 1558]]\n",
      "{'les': True, 'flood': True, 'loan': True}\n"
     ]
    },
    {
     "name": "stderr",
     "output_type": "stream",
     "text": [
      "\r",
      " 16%|████████████▋                                                                    | 75/480 [08:54<53:34,  7.94s/it]"
     ]
    },
    {
     "name": "stdout",
     "output_type": "stream",
     "text": [
      "[[ 771 1553]\n",
      " [ 772 1553]\n",
      " [ 772 1555]]\n",
      "{'les': True, 'flood': True, 'loan': True}\n"
     ]
    },
    {
     "name": "stderr",
     "output_type": "stream",
     "text": [
      "\r",
      " 16%|████████████▊                                                                    | 76/480 [08:59<49:07,  7.29s/it]"
     ]
    },
    {
     "name": "stdout",
     "output_type": "stream",
     "text": [
      "[[ 775 1549]\n",
      " [ 775 1551]\n",
      " [ 774 1550]]\n",
      "{'les': True, 'flood': True, 'loan': True}\n"
     ]
    },
    {
     "name": "stderr",
     "output_type": "stream",
     "text": [
      "\r",
      " 16%|████████████▉                                                                    | 77/480 [09:10<56:23,  8.40s/it]"
     ]
    },
    {
     "name": "stdout",
     "output_type": "stream",
     "text": [
      "[[ 775 1554]\n",
      " [ 776 1554]\n",
      " [ 776 1556]]\n",
      "{'les': True, 'flood': True, 'loan': True}\n"
     ]
    },
    {
     "name": "stderr",
     "output_type": "stream",
     "text": [
      "\r",
      " 16%|█████████████▏                                                                   | 78/480 [09:16<51:05,  7.62s/it]"
     ]
    },
    {
     "name": "stdout",
     "output_type": "stream",
     "text": [
      "[[ 784 1551]\n",
      " [ 785 1552]\n",
      " [ 785 1554]]\n",
      "{'les': True, 'flood': True, 'loan': True}\n"
     ]
    },
    {
     "name": "stderr",
     "output_type": "stream",
     "text": [
      "\r",
      " 16%|█████████████▎                                                                   | 79/480 [09:27<57:49,  8.65s/it]"
     ]
    },
    {
     "name": "stdout",
     "output_type": "stream",
     "text": [
      "[[ 862 1345]\n",
      " [ 863 1345]\n",
      " [ 863 1347]]\n",
      "{'les': True, 'flood': True, 'loan': True}\n"
     ]
    },
    {
     "name": "stderr",
     "output_type": "stream",
     "text": [
      "\r",
      " 17%|█████████████▌                                                                   | 80/480 [09:33<52:05,  7.81s/it]"
     ]
    },
    {
     "name": "stdout",
     "output_type": "stream",
     "text": [
      "[[ 875 1456]\n",
      " [ 878 1460]\n",
      " [ 877 1461]]\n",
      "{'les': True, 'flood': True, 'loan': True}\n"
     ]
    },
    {
     "name": "stderr",
     "output_type": "stream",
     "text": [
      "\r",
      " 17%|█████████████▋                                                                   | 81/480 [09:39<48:28,  7.29s/it]"
     ]
    },
    {
     "name": "stdout",
     "output_type": "stream",
     "text": [
      "[[ 894 1370]\n",
      " [ 925 1404]\n",
      " [ 932 1412]\n",
      " [ 933 1414]]\n",
      "{'les': True, 'flood': True, 'loan': True}\n"
     ]
    },
    {
     "name": "stderr",
     "output_type": "stream",
     "text": [
      "\r",
      " 17%|█████████████▊                                                                   | 82/480 [09:45<45:59,  6.93s/it]"
     ]
    },
    {
     "name": "stdout",
     "output_type": "stream",
     "text": [
      "[[ 904 1381]\n",
      " [ 916 1391]\n",
      " [ 934 1415]\n",
      " [ 942 1431]]\n",
      "{'les': True, 'flood': True, 'loan': True}\n"
     ]
    },
    {
     "name": "stderr",
     "output_type": "stream",
     "text": [
      "\r",
      " 17%|██████████████                                                                   | 83/480 [09:55<50:54,  7.69s/it]"
     ]
    },
    {
     "name": "stdout",
     "output_type": "stream",
     "text": [
      "[[ 904 1382]\n",
      " [ 907 1383]\n",
      " [ 907 1385]]\n",
      "{'les': True, 'flood': True, 'loan': True}\n"
     ]
    },
    {
     "name": "stderr",
     "output_type": "stream",
     "text": [
      "\r",
      " 18%|██████████████▏                                                                  | 84/480 [10:06<57:21,  8.69s/it]"
     ]
    },
    {
     "name": "stdout",
     "output_type": "stream",
     "text": [
      "[[ 908 1386]\n",
      " [ 910 1386]\n",
      " [ 910 1387]]\n",
      "{'les': True, 'flood': True, 'loan': True}\n",
      "<class 'Exception'>\n",
      "('The input points are located on the same line. No convex hull is found!',)\n",
      "<class 'Exception'>\n",
      "('The input points are located on the same line. No convex hull is found!',)\n",
      "<class 'Exception'>\n",
      "('The input points are located on the same line. No convex hull is found!',)\n"
     ]
    },
    {
     "name": "stderr",
     "output_type": "stream",
     "text": [
      "\r",
      " 18%|█████████████▉                                                                 | 85/480 [10:17<1:01:34,  9.35s/it]"
     ]
    },
    {
     "name": "stdout",
     "output_type": "stream",
     "text": [
      "[[ 914 1515]\n",
      " [ 917 1515]\n",
      " [ 915 1517]]\n",
      "{'les': True, 'flood': True, 'loan': True}\n"
     ]
    },
    {
     "name": "stderr",
     "output_type": "stream",
     "text": [
      "\r",
      " 18%|██████████████▌                                                                  | 86/480 [10:23<55:20,  8.43s/it]"
     ]
    },
    {
     "name": "stdout",
     "output_type": "stream",
     "text": [
      "[[ 915 1586]\n",
      " [ 917 1587]\n",
      " [ 917 1588]\n",
      " [ 916 1588]]\n",
      "{'les': True, 'flood': True, 'loan': True}\n",
      "<class 'Exception'>\n",
      "('The input points are located on the same line. No convex hull is found!',)\n",
      "<class 'Exception'>\n",
      "('The input points are located on the same line. No convex hull is found!',)\n",
      "<class 'Exception'>\n",
      "('The input points are located on the same line. No convex hull is found!',)\n"
     ]
    },
    {
     "name": "stderr",
     "output_type": "stream",
     "text": [
      "\r",
      " 18%|██████████████▋                                                                  | 87/480 [10:34<59:44,  9.12s/it]"
     ]
    },
    {
     "name": "stdout",
     "output_type": "stream",
     "text": [
      "[[ 915 1610]\n",
      " [ 917 1610]\n",
      " [ 916 1611]]\n",
      "{'les': True, 'flood': True, 'loan': True}\n"
     ]
    },
    {
     "name": "stderr",
     "output_type": "stream",
     "text": [
      "\r",
      " 18%|██████████████▊                                                                  | 88/480 [10:40<53:30,  8.19s/it]"
     ]
    },
    {
     "name": "stdout",
     "output_type": "stream",
     "text": [
      "[[ 937 1422]\n",
      " [ 939 1424]\n",
      " [ 940 1426]\n",
      " [ 936 1424]]\n",
      "{'les': True, 'flood': True, 'loan': True}\n"
     ]
    },
    {
     "name": "stderr",
     "output_type": "stream",
     "text": [
      "\r",
      " 19%|███████████████                                                                  | 89/480 [10:46<48:51,  7.50s/it]"
     ]
    },
    {
     "name": "stdout",
     "output_type": "stream",
     "text": [
      "[[ 958 1587]\n",
      " [ 959 1591]\n",
      " [ 959 1593]\n",
      " [ 958 1595]]\n",
      "{'les': True, 'flood': True, 'loan': True}\n"
     ]
    },
    {
     "name": "stderr",
     "output_type": "stream",
     "text": [
      "\r",
      " 19%|███████████████▏                                                                 | 90/480 [10:56<54:44,  8.42s/it]"
     ]
    },
    {
     "name": "stdout",
     "output_type": "stream",
     "text": [
      "[[ 963 1669]\n",
      " [ 964 1669]\n",
      " [ 964 1671]]\n",
      "{'les': True, 'flood': True, 'loan': True}\n"
     ]
    },
    {
     "name": "stderr",
     "output_type": "stream",
     "text": [
      "\r",
      " 19%|███████████████▎                                                                 | 91/480 [11:02<49:35,  7.65s/it]"
     ]
    },
    {
     "name": "stdout",
     "output_type": "stream",
     "text": [
      "[[ 975 1524]\n",
      " [ 975 1527]\n",
      " [ 972 1530]]\n",
      "{'les': True, 'flood': True, 'loan': True}\n"
     ]
    },
    {
     "name": "stderr",
     "output_type": "stream",
     "text": [
      "\r",
      " 19%|███████████████▌                                                                 | 92/480 [11:08<46:15,  7.15s/it]"
     ]
    },
    {
     "name": "stdout",
     "output_type": "stream",
     "text": [
      "[[1000 1355]\n",
      " [1001 1356]\n",
      " [1001 1357]\n",
      " [1000 1358]]\n",
      "{'les': True, 'flood': True, 'loan': True}\n"
     ]
    },
    {
     "name": "stderr",
     "output_type": "stream",
     "text": [
      "\r",
      " 19%|███████████████▋                                                                 | 93/480 [11:19<53:43,  8.33s/it]"
     ]
    },
    {
     "name": "stdout",
     "output_type": "stream",
     "text": [
      "[[1001 1359]\n",
      " [1004 1359]\n",
      " [1004 1361]]\n",
      "{'les': True, 'flood': True, 'loan': True}\n"
     ]
    },
    {
     "name": "stderr",
     "output_type": "stream",
     "text": [
      "\r",
      " 20%|███████████████▊                                                                 | 94/480 [11:25<48:48,  7.59s/it]"
     ]
    },
    {
     "name": "stdout",
     "output_type": "stream",
     "text": [
      "[[1004 1292]\n",
      " [1004 1294]\n",
      " [1002 1296]]\n",
      "{'les': True, 'flood': True, 'loan': True}\n"
     ]
    },
    {
     "name": "stderr",
     "output_type": "stream",
     "text": [
      "\r",
      " 20%|████████████████                                                                 | 95/480 [11:31<45:11,  7.04s/it]"
     ]
    },
    {
     "name": "stdout",
     "output_type": "stream",
     "text": [
      "[[1012 1800]\n",
      " [1012 1801]\n",
      " [1009 1801]]\n",
      "{'les': True, 'flood': True, 'loan': True}\n"
     ]
    },
    {
     "name": "stderr",
     "output_type": "stream",
     "text": [
      "\r",
      " 20%|████████████████▏                                                                | 96/480 [11:42<52:54,  8.27s/it]"
     ]
    },
    {
     "name": "stdout",
     "output_type": "stream",
     "text": [
      "[[1046 1269]\n",
      " [1049 1269]\n",
      " [1046 1273]]\n",
      "{'les': True, 'flood': True, 'loan': True}\n"
     ]
    },
    {
     "name": "stderr",
     "output_type": "stream",
     "text": [
      "\r",
      " 20%|████████████████▎                                                                | 97/480 [11:53<58:43,  9.20s/it]"
     ]
    },
    {
     "name": "stdout",
     "output_type": "stream",
     "text": [
      "[[1046 1270]\n",
      " [1048 1269]\n",
      " [1048 1271]\n",
      " [1047 1272]]\n",
      "{'les': True, 'flood': True, 'loan': True}\n"
     ]
    },
    {
     "name": "stderr",
     "output_type": "stream",
     "text": [
      "\r",
      " 20%|████████████████▌                                                                | 98/480 [12:01<55:17,  8.69s/it]"
     ]
    },
    {
     "name": "stdout",
     "output_type": "stream",
     "text": [
      "[[1051 1266]\n",
      " [1053 1267]\n",
      " [1052 1268]\n",
      " [1047 1267]]\n",
      "{'les': True, 'flood': True, 'loan': True}\n"
     ]
    },
    {
     "name": "stderr",
     "output_type": "stream",
     "text": [
      "\r",
      " 21%|████████████████▋                                                                | 99/480 [12:06<49:43,  7.83s/it]"
     ]
    },
    {
     "name": "stdout",
     "output_type": "stream",
     "text": [
      "[[1055 1269]\n",
      " [1052 1272]\n",
      " [1050 1272]]\n",
      "{'les': True, 'flood': True, 'loan': True}\n"
     ]
    },
    {
     "name": "stderr",
     "output_type": "stream",
     "text": [
      "\r",
      " 21%|████████████████▋                                                               | 100/480 [12:12<46:00,  7.26s/it]"
     ]
    },
    {
     "name": "stdout",
     "output_type": "stream",
     "text": [
      "[[1094 1462]\n",
      " [1107 1474]\n",
      " [1107 1478]]\n",
      "{'les': True, 'flood': True, 'loan': True}\n"
     ]
    },
    {
     "name": "stderr",
     "output_type": "stream",
     "text": [
      "\r",
      " 21%|████████████████▊                                                               | 101/480 [12:19<43:56,  6.96s/it]"
     ]
    },
    {
     "name": "stdout",
     "output_type": "stream",
     "text": [
      "[[1111 1668]\n",
      " [1113 1669]\n",
      " [1111 1671]]\n",
      "{'les': True, 'flood': True, 'loan': True}\n"
     ]
    },
    {
     "name": "stderr",
     "output_type": "stream",
     "text": [
      "\r",
      " 21%|█████████████████                                                               | 102/480 [12:25<41:50,  6.64s/it]"
     ]
    },
    {
     "name": "stdout",
     "output_type": "stream",
     "text": [
      "[[1142 1656]\n",
      " [1141 1660]\n",
      " [1137 1658]]\n",
      "{'les': True, 'flood': True, 'loan': True}\n"
     ]
    },
    {
     "name": "stderr",
     "output_type": "stream",
     "text": [
      "\r",
      " 21%|█████████████████▏                                                              | 103/480 [12:30<40:14,  6.40s/it]"
     ]
    },
    {
     "name": "stdout",
     "output_type": "stream",
     "text": [
      "[[1141 1086]\n",
      " [1141 1087]\n",
      " [1138 1088]]\n",
      "{'les': True, 'flood': True, 'loan': True}\n"
     ]
    },
    {
     "name": "stderr",
     "output_type": "stream",
     "text": [
      "\r",
      " 22%|█████████████████▎                                                              | 104/480 [12:36<39:19,  6.28s/it]"
     ]
    },
    {
     "name": "stdout",
     "output_type": "stream",
     "text": [
      "[[1154 1254]\n",
      " [1155 1255]\n",
      " [1151 1255]]\n",
      "{'les': True, 'flood': True, 'loan': True}\n"
     ]
    },
    {
     "name": "stderr",
     "output_type": "stream",
     "text": [
      "\r",
      " 22%|█████████████████▌                                                              | 105/480 [12:42<38:31,  6.16s/it]"
     ]
    },
    {
     "name": "stdout",
     "output_type": "stream",
     "text": [
      "[[1155 1764]\n",
      " [1156 1768]\n",
      " [1156 1770]]\n",
      "{'les': True, 'flood': True, 'loan': True}\n"
     ]
    },
    {
     "name": "stderr",
     "output_type": "stream",
     "text": [
      "\r",
      " 22%|█████████████████▋                                                              | 106/480 [12:53<47:25,  7.61s/it]"
     ]
    },
    {
     "name": "stdout",
     "output_type": "stream",
     "text": [
      "[[1196 1194]\n",
      " [1202 1195]\n",
      " [1200 1195]]\n",
      "{'les': True, 'flood': True, 'loan': True}\n"
     ]
    },
    {
     "name": "stderr",
     "output_type": "stream",
     "text": [
      "\r",
      " 22%|█████████████████▊                                                              | 107/480 [13:04<54:00,  8.69s/it]"
     ]
    },
    {
     "name": "stdout",
     "output_type": "stream",
     "text": [
      "[[1201 1193]\n",
      " [1202 1193]\n",
      " [1201 1194]\n",
      " [1199 1194]]\n",
      "{'les': False, 'flood': True, 'loan': True}\n"
     ]
    },
    {
     "name": "stderr",
     "output_type": "stream",
     "text": [
      "\r",
      " 22%|██████████████████                                                              | 108/480 [13:11<49:10,  7.93s/it]"
     ]
    },
    {
     "name": "stdout",
     "output_type": "stream",
     "text": [
      "[[1241 1249]\n",
      " [1243 1252]\n",
      " [1244 1255]\n",
      " [1243 1256]]\n",
      "{'les': True, 'flood': True, 'loan': True}\n"
     ]
    },
    {
     "name": "stderr",
     "output_type": "stream",
     "text": [
      "\r",
      " 23%|██████████████████▏                                                             | 109/480 [13:17<45:17,  7.33s/it]"
     ]
    },
    {
     "name": "stdout",
     "output_type": "stream",
     "text": [
      "[[1243 1249]\n",
      " [1243 1259]\n",
      " [1242 1256]]\n",
      "{'les': False, 'flood': True, 'loan': True}\n"
     ]
    },
    {
     "name": "stderr",
     "output_type": "stream",
     "text": [
      "\r",
      " 23%|██████████████████▎                                                             | 110/480 [13:23<42:45,  6.93s/it]"
     ]
    },
    {
     "name": "stdout",
     "output_type": "stream",
     "text": [
      "[[1247 1260]\n",
      " [1248 1261]\n",
      " [1248 1263]]\n",
      "{'les': True, 'flood': True, 'loan': True}\n"
     ]
    },
    {
     "name": "stderr",
     "output_type": "stream",
     "text": [
      "\r",
      " 23%|██████████████████▌                                                             | 111/480 [13:29<41:17,  6.71s/it]"
     ]
    },
    {
     "name": "stdout",
     "output_type": "stream",
     "text": [
      "[[1249 1265]\n",
      " [1250 1266]\n",
      " [1251 1268]\n",
      " [1250 1267]]\n",
      "{'les': False, 'flood': True, 'loan': True}\n"
     ]
    },
    {
     "name": "stderr",
     "output_type": "stream",
     "text": [
      "\r",
      " 23%|██████████████████▋                                                             | 112/480 [13:39<48:08,  7.85s/it]"
     ]
    },
    {
     "name": "stdout",
     "output_type": "stream",
     "text": [
      "[[1255 1264]\n",
      " [1258 1265]\n",
      " [1258 1266]\n",
      " [1257 1267]]\n",
      "{'les': True, 'flood': True, 'loan': True}\n"
     ]
    },
    {
     "name": "stderr",
     "output_type": "stream",
     "text": [
      "\r",
      " 24%|██████████████████▊                                                             | 113/480 [13:50<54:13,  8.86s/it]"
     ]
    },
    {
     "name": "stdout",
     "output_type": "stream",
     "text": [
      "[[1256 1263]\n",
      " [1258 1263]\n",
      " [1258 1264]\n",
      " [1257 1265]]\n",
      "{'les': True, 'flood': True, 'loan': True}\n"
     ]
    },
    {
     "name": "stderr",
     "output_type": "stream",
     "text": [
      "\r",
      " 24%|███████████████████                                                             | 114/480 [13:56<48:42,  7.98s/it]"
     ]
    },
    {
     "name": "stdout",
     "output_type": "stream",
     "text": [
      "[[1267 1299]\n",
      " [1267 1301]\n",
      " [1265 1300]]\n",
      "{'les': True, 'flood': True, 'loan': True}\n",
      "<class 'Exception'>\n",
      "('The input points are located on the same line. No convex hull is found!',)\n",
      "<class 'Exception'>\n",
      "('The input points are located on the same line. No convex hull is found!',)\n",
      "<class 'Exception'>\n",
      "('The input points are located on the same line. No convex hull is found!',)\n"
     ]
    },
    {
     "name": "stderr",
     "output_type": "stream",
     "text": [
      "\r",
      " 24%|███████████████████▏                                                            | 115/480 [14:03<45:12,  7.43s/it]"
     ]
    },
    {
     "name": "stdout",
     "output_type": "stream",
     "text": [
      "[[1266 1218]\n",
      " [1268 1220]\n",
      " [1267 1220]]\n",
      "{'les': True, 'flood': True, 'loan': True}\n"
     ]
    },
    {
     "name": "stderr",
     "output_type": "stream",
     "text": [
      "\r",
      " 24%|███████████████████▎                                                            | 116/480 [14:14<51:53,  8.55s/it]"
     ]
    },
    {
     "name": "stdout",
     "output_type": "stream",
     "text": [
      "[[1266 1222]\n",
      " [1273 1223]\n",
      " [1271 1223]]\n",
      "{'les': True, 'flood': True, 'loan': True}\n",
      "<class 'Exception'>\n",
      "('The input points are located on the same line. No convex hull is found!',)\n",
      "<class 'Exception'>\n",
      "('Not enough points are found for convex hull. Please check your input and other information',)\n",
      "<class 'Exception'>\n",
      "('The input points are located on the same line. No convex hull is found!',)\n",
      "<class 'Exception'>\n",
      "('Not enough points are found for convex hull. Please check your input and other information',)\n",
      "<class 'Exception'>\n",
      "('The input points are located on the same line. No convex hull is found!',)\n",
      "<class 'Exception'>\n",
      "('Not enough points are found for convex hull. Please check your input and other information',)\n"
     ]
    },
    {
     "name": "stderr",
     "output_type": "stream",
     "text": [
      "\r",
      " 24%|███████████████████▌                                                            | 117/480 [14:19<46:40,  7.72s/it]"
     ]
    },
    {
     "name": "stdout",
     "output_type": "stream",
     "text": [
      "None\n",
      "{'les': True, 'flood': True, 'loan': True}\n"
     ]
    },
    {
     "name": "stderr",
     "output_type": "stream",
     "text": [
      "\r",
      " 25%|███████████████████▋                                                            | 118/480 [14:30<52:18,  8.67s/it]"
     ]
    },
    {
     "name": "stdout",
     "output_type": "stream",
     "text": [
      "[[1270 1221]\n",
      " [1275 1222]\n",
      " [1274 1223]]\n",
      "{'les': True, 'flood': True, 'loan': True}\n"
     ]
    },
    {
     "name": "stderr",
     "output_type": "stream",
     "text": [
      "\r",
      " 25%|███████████████████▊                                                            | 119/480 [14:42<56:47,  9.44s/it]"
     ]
    },
    {
     "name": "stdout",
     "output_type": "stream",
     "text": [
      "[[1288 1209]\n",
      " [1289 1209]\n",
      " [1288 1210]\n",
      " [1271 1220]]\n",
      "{'les': True, 'flood': True, 'loan': True}\n",
      "<class 'Exception'>\n",
      "('The input points are located on the same line. No convex hull is found!',)\n",
      "<class 'Exception'>\n",
      "('Not enough points are found for convex hull. Please check your input and other information',)\n",
      "<class 'Exception'>\n",
      "('The input points are located on the same line. No convex hull is found!',)\n",
      "<class 'Exception'>\n",
      "('Not enough points are found for convex hull. Please check your input and other information',)\n",
      "<class 'Exception'>\n",
      "('The input points are located on the same line. No convex hull is found!',)\n",
      "<class 'Exception'>\n",
      "('Not enough points are found for convex hull. Please check your input and other information',)\n"
     ]
    },
    {
     "name": "stderr",
     "output_type": "stream",
     "text": [
      "\r",
      " 25%|████████████████████                                                            | 120/480 [14:47<50:01,  8.34s/it]"
     ]
    },
    {
     "name": "stdout",
     "output_type": "stream",
     "text": [
      "None\n",
      "{'les': True, 'flood': True, 'loan': True}\n",
      "<class 'Exception'>\n",
      "('The input points are located on the same line. No convex hull is found!',)\n",
      "<class 'Exception'>\n",
      "('The input points are located on the same line. No convex hull is found!',)\n",
      "<class 'Exception'>\n",
      "('The input points are located on the same line. No convex hull is found!',)\n"
     ]
    },
    {
     "name": "stderr",
     "output_type": "stream",
     "text": [
      "\r",
      " 25%|████████████████████▏                                                           | 121/480 [14:59<54:56,  9.18s/it]"
     ]
    },
    {
     "name": "stdout",
     "output_type": "stream",
     "text": [
      "[[1273 1273]\n",
      " [1275 1273]\n",
      " [1274 1274]]\n",
      "{'les': True, 'flood': True, 'loan': True}\n"
     ]
    },
    {
     "name": "stderr",
     "output_type": "stream",
     "text": [
      "\r",
      " 25%|████████████████████▎                                                           | 122/480 [15:05<49:09,  8.24s/it]"
     ]
    },
    {
     "name": "stdout",
     "output_type": "stream",
     "text": [
      "[[1273 1279]\n",
      " [1274 1280]\n",
      " [1274 1282]]\n",
      "{'les': True, 'flood': True, 'loan': True}\n"
     ]
    },
    {
     "name": "stderr",
     "output_type": "stream",
     "text": [
      "\r",
      " 26%|████████████████████▌                                                           | 123/480 [15:16<54:19,  9.13s/it]"
     ]
    },
    {
     "name": "stdout",
     "output_type": "stream",
     "text": [
      "[[1273 1299]\n",
      " [1275 1299]\n",
      " [1275 1300]\n",
      " [1274 1301]]\n",
      "{'les': True, 'flood': True, 'loan': True}\n"
     ]
    },
    {
     "name": "stderr",
     "output_type": "stream",
     "text": [
      "\r",
      " 26%|████████████████████▋                                                           | 124/480 [15:22<48:30,  8.17s/it]"
     ]
    },
    {
     "name": "stdout",
     "output_type": "stream",
     "text": [
      "[[1273 1301]\n",
      " [1274 1303]\n",
      " [1273 1305]]\n",
      "{'les': True, 'flood': True, 'loan': True}\n"
     ]
    },
    {
     "name": "stderr",
     "output_type": "stream",
     "text": [
      "\r",
      " 26%|████████████████████▊                                                           | 125/480 [15:28<44:19,  7.49s/it]"
     ]
    },
    {
     "name": "stdout",
     "output_type": "stream",
     "text": [
      "[[1275 1274]\n",
      " [1275 1276]\n",
      " [1274 1275]]\n",
      "{'les': True, 'flood': True, 'loan': True}\n"
     ]
    },
    {
     "name": "stderr",
     "output_type": "stream",
     "text": [
      "\r",
      " 26%|█████████████████████                                                           | 126/480 [15:39<50:45,  8.60s/it]"
     ]
    },
    {
     "name": "stdout",
     "output_type": "stream",
     "text": [
      "[[1275 1280]\n",
      " [1277 1279]\n",
      " [1276 1282]]\n",
      "{'les': True, 'flood': True, 'loan': True}\n"
     ]
    },
    {
     "name": "stderr",
     "output_type": "stream",
     "text": [
      "\r",
      " 26%|█████████████████████▏                                                          | 127/480 [15:50<55:17,  9.40s/it]"
     ]
    },
    {
     "name": "stdout",
     "output_type": "stream",
     "text": [
      "[[1277 1283]\n",
      " [1279 1283]\n",
      " [1279 1284]\n",
      " [1278 1285]]\n",
      "{'les': True, 'flood': True, 'loan': True}\n",
      "<class 'Exception'>\n",
      "('The input points are located on the same line. No convex hull is found!',)\n",
      "<class 'Exception'>\n",
      "('Not enough points are found for convex hull. Please check your input and other information',)\n",
      "<class 'Exception'>\n",
      "('The input points are located on the same line. No convex hull is found!',)\n",
      "<class 'Exception'>\n",
      "('Not enough points are found for convex hull. Please check your input and other information',)\n",
      "<class 'Exception'>\n",
      "('The input points are located on the same line. No convex hull is found!',)\n",
      "<class 'Exception'>\n",
      "('Not enough points are found for convex hull. Please check your input and other information',)\n"
     ]
    },
    {
     "name": "stderr",
     "output_type": "stream",
     "text": [
      "\r",
      " 27%|█████████████████████▎                                                          | 128/480 [15:56<48:46,  8.31s/it]"
     ]
    },
    {
     "name": "stdout",
     "output_type": "stream",
     "text": [
      "None\n",
      "{'les': True, 'flood': True, 'loan': True}\n"
     ]
    },
    {
     "name": "stderr",
     "output_type": "stream",
     "text": [
      "\r",
      " 27%|█████████████████████▌                                                          | 129/480 [16:02<44:49,  7.66s/it]"
     ]
    },
    {
     "name": "stdout",
     "output_type": "stream",
     "text": [
      "[[1293 1136]\n",
      " [1294 1138]\n",
      " [1292 1143]\n",
      " [1287 1142]]\n",
      "{'les': True, 'flood': True, 'loan': True}\n"
     ]
    },
    {
     "name": "stderr",
     "output_type": "stream",
     "text": [
      "\r",
      " 27%|█████████████████████▋                                                          | 130/480 [16:13<50:49,  8.71s/it]"
     ]
    },
    {
     "name": "stdout",
     "output_type": "stream",
     "text": [
      "[[1291 1209]\n",
      " [1293 1209]\n",
      " [1293 1211]]\n",
      "{'les': True, 'flood': True, 'loan': True}\n"
     ]
    },
    {
     "name": "stderr",
     "output_type": "stream",
     "text": [
      "\r",
      " 27%|█████████████████████▊                                                          | 131/480 [16:24<55:08,  9.48s/it]"
     ]
    },
    {
     "name": "stdout",
     "output_type": "stream",
     "text": [
      "[[1294 1288]\n",
      " [1295 1288]\n",
      " [1295 1290]\n",
      " [1294 1291]]\n",
      "{'les': True, 'flood': True, 'loan': True}\n"
     ]
    },
    {
     "name": "stderr",
     "output_type": "stream",
     "text": [
      "\r",
      " 28%|██████████████████████                                                          | 132/480 [16:36<57:54,  9.98s/it]"
     ]
    },
    {
     "name": "stdout",
     "output_type": "stream",
     "text": [
      "[[1296 1227]\n",
      " [1299 1227]\n",
      " [1299 1230]]\n",
      "{'les': True, 'flood': True, 'loan': True}\n"
     ]
    },
    {
     "name": "stderr",
     "output_type": "stream",
     "text": [
      "\r",
      " 28%|██████████████████████▏                                                         | 133/480 [16:42<50:41,  8.76s/it]"
     ]
    },
    {
     "name": "stdout",
     "output_type": "stream",
     "text": [
      "[[1303 1229]\n",
      " [1302 1232]\n",
      " [1301 1231]]\n",
      "{'les': False, 'flood': True, 'loan': True}\n"
     ]
    },
    {
     "name": "stderr",
     "output_type": "stream",
     "text": [
      "\r",
      " 28%|██████████████████████▎                                                         | 134/480 [16:53<54:49,  9.51s/it]"
     ]
    },
    {
     "name": "stdout",
     "output_type": "stream",
     "text": [
      "[[1302 1112]\n",
      " [1303 1108]\n",
      " [1302 1117]]\n",
      "{'les': True, 'flood': True, 'loan': True}\n"
     ]
    },
    {
     "name": "stderr",
     "output_type": "stream",
     "text": [
      "\r",
      " 28%|██████████████████████▌                                                         | 135/480 [17:04<57:48, 10.05s/it]"
     ]
    },
    {
     "name": "stdout",
     "output_type": "stream",
     "text": [
      "[[1305 1234]\n",
      " [1308 1234]\n",
      " [1308 1235]\n",
      " [1307 1235]]\n",
      "{'les': False, 'flood': True, 'loan': True}\n"
     ]
    },
    {
     "name": "stderr",
     "output_type": "stream",
     "text": [
      "\r",
      " 28%|██████████████████████▋                                                         | 136/480 [17:10<50:45,  8.85s/it]"
     ]
    },
    {
     "name": "stdout",
     "output_type": "stream",
     "text": [
      "[[1316 1236]\n",
      " [1316 1237]\n",
      " [1315 1238]\n",
      " [1311 1238]]\n",
      "{'les': True, 'flood': True, 'loan': True}\n"
     ]
    },
    {
     "name": "stderr",
     "output_type": "stream",
     "text": [
      "\r",
      " 29%|██████████████████████▊                                                         | 137/480 [17:21<54:36,  9.55s/it]"
     ]
    },
    {
     "name": "stdout",
     "output_type": "stream",
     "text": [
      "[[1312 1325]\n",
      " [1313 1325]\n",
      " [1313 1326]\n",
      " [1312 1328]]\n",
      "{'les': True, 'flood': True, 'loan': True}\n"
     ]
    },
    {
     "name": "stderr",
     "output_type": "stream",
     "text": [
      "\r",
      " 29%|███████████████████████                                                         | 138/480 [17:28<48:49,  8.56s/it]"
     ]
    },
    {
     "name": "stdout",
     "output_type": "stream",
     "text": [
      "[[1321 1219]\n",
      " [1322 1220]\n",
      " [1321 1221]\n",
      " [1319 1220]]\n",
      "{'les': True, 'flood': True, 'loan': True}\n"
     ]
    },
    {
     "name": "stderr",
     "output_type": "stream",
     "text": [
      "\r",
      " 29%|███████████████████████▏                                                        | 139/480 [17:39<53:19,  9.38s/it]"
     ]
    },
    {
     "name": "stdout",
     "output_type": "stream",
     "text": [
      "[[1323 1242]\n",
      " [1324 1242]\n",
      " [1323 1245]\n",
      " [1321 1244]]\n",
      "{'les': False, 'flood': False, 'loan': False}\n"
     ]
    },
    {
     "name": "stderr",
     "output_type": "stream",
     "text": [
      "\r",
      " 29%|███████████████████████▎                                                        | 140/480 [17:50<56:11,  9.92s/it]"
     ]
    },
    {
     "name": "stdout",
     "output_type": "stream",
     "text": [
      "[[1322 1202]\n",
      " [1323 1202]\n",
      " [1323 1204]]\n",
      "{'les': True, 'flood': True, 'loan': True}\n"
     ]
    },
    {
     "name": "stderr",
     "output_type": "stream",
     "text": [
      "\r",
      " 29%|███████████████████████▌                                                        | 141/480 [18:01<58:14, 10.31s/it]"
     ]
    },
    {
     "name": "stdout",
     "output_type": "stream",
     "text": [
      "[[1323 1207]\n",
      " [1325 1206]\n",
      " [1325 1209]]\n",
      "{'les': True, 'flood': True, 'loan': True}\n"
     ]
    },
    {
     "name": "stderr",
     "output_type": "stream",
     "text": [
      "\r",
      " 30%|███████████████████████▋                                                        | 142/480 [18:07<50:52,  9.03s/it]"
     ]
    },
    {
     "name": "stdout",
     "output_type": "stream",
     "text": [
      "[[1328 1212]\n",
      " [1332 1227]\n",
      " [1331 1227]\n",
      " [1323 1225]]\n",
      "{'les': True, 'flood': True, 'loan': True}\n"
     ]
    },
    {
     "name": "stderr",
     "output_type": "stream",
     "text": [
      "\r",
      " 30%|███████████████████████▏                                                      | 143/480 [18:23<1:01:36, 10.97s/it]"
     ]
    },
    {
     "name": "stdout",
     "output_type": "stream",
     "text": [
      "[[1327 1110]\n",
      " [1335 1111]\n",
      " [1337 1112]\n",
      " [1342 1115]]\n",
      "{'les': True, 'flood': True, 'loan': True}\n"
     ]
    },
    {
     "name": "stderr",
     "output_type": "stream",
     "text": [
      "\r",
      " 30%|████████████████████████                                                        | 144/480 [18:29<53:04,  9.48s/it]"
     ]
    },
    {
     "name": "stdout",
     "output_type": "stream",
     "text": [
      "[[1335 1208]\n",
      " [1335 1227]\n",
      " [1333 1227]]\n",
      "{'les': True, 'flood': True, 'loan': True}\n"
     ]
    },
    {
     "name": "stderr",
     "output_type": "stream",
     "text": [
      "\r",
      " 30%|████████████████████████▏                                                       | 145/480 [18:41<57:37, 10.32s/it]"
     ]
    },
    {
     "name": "stdout",
     "output_type": "stream",
     "text": [
      "[[1338 1229]\n",
      " [1337 1227]\n",
      " [1345 1232]\n",
      " [1340 1230]]\n",
      "{'les': False, 'flood': False, 'loan': False}\n"
     ]
    },
    {
     "name": "stderr",
     "output_type": "stream",
     "text": [
      "\r",
      " 30%|████████████████████████▎                                                       | 146/480 [18:47<50:16,  9.03s/it]"
     ]
    },
    {
     "name": "stdout",
     "output_type": "stream",
     "text": [
      "[[1342 1206]\n",
      " [1342 1207]\n",
      " [1339 1207]]\n",
      "{'les': True, 'flood': True, 'loan': True}\n"
     ]
    },
    {
     "name": "stderr",
     "output_type": "stream",
     "text": [
      "\r",
      " 31%|████████████████████████▌                                                       | 147/480 [18:58<53:39,  9.67s/it]"
     ]
    },
    {
     "name": "stdout",
     "output_type": "stream",
     "text": [
      "[[1339 1208]\n",
      " [1341 1208]\n",
      " [1341 1223]]\n",
      "{'les': True, 'flood': True, 'loan': True}\n"
     ]
    },
    {
     "name": "stderr",
     "output_type": "stream",
     "text": [
      "\r",
      " 31%|████████████████████████▋                                                       | 148/480 [19:10<56:06, 10.14s/it]"
     ]
    },
    {
     "name": "stdout",
     "output_type": "stream",
     "text": [
      "[[1343 1336]\n",
      " [1344 1336]\n",
      " [1344 1337]\n",
      " [1340 1341]]\n",
      "{'les': True, 'flood': True, 'loan': True}\n",
      "<class 'Exception'>\n",
      "('The input points are located on the same line. No convex hull is found!',)\n",
      "<class 'Exception'>\n",
      "('The input points are located on the same line. No convex hull is found!',)\n",
      "<class 'Exception'>\n",
      "('The input points are located on the same line. No convex hull is found!',)\n"
     ]
    },
    {
     "name": "stderr",
     "output_type": "stream",
     "text": [
      "\r",
      " 31%|████████████████████████▊                                                       | 149/480 [19:21<57:38, 10.45s/it]"
     ]
    },
    {
     "name": "stdout",
     "output_type": "stream",
     "text": [
      "[[1342 1229]\n",
      " [1344 1229]\n",
      " [1343 1230]]\n",
      "{'les': True, 'flood': True, 'loan': True}\n"
     ]
    },
    {
     "name": "stderr",
     "output_type": "stream",
     "text": [
      "\r",
      " 31%|█████████████████████████                                                       | 150/480 [19:31<57:24, 10.44s/it]"
     ]
    },
    {
     "name": "stdout",
     "output_type": "stream",
     "text": [
      "[[1343 1270]\n",
      " [1349 1272]\n",
      " [1346 1272]]\n",
      "{'les': True, 'flood': True, 'loan': True}\n"
     ]
    },
    {
     "name": "stderr",
     "output_type": "stream",
     "text": [
      "\r",
      " 31%|█████████████████████████▏                                                      | 151/480 [19:37<49:30,  9.03s/it]"
     ]
    },
    {
     "name": "stdout",
     "output_type": "stream",
     "text": [
      "[[1344 3632]\n",
      " [1345 3632]\n",
      " [1345 3634]]\n",
      "{'les': True, 'flood': False, 'loan': False}\n"
     ]
    },
    {
     "name": "stderr",
     "output_type": "stream",
     "text": [
      "\r",
      " 32%|█████████████████████████▎                                                      | 152/480 [19:43<44:39,  8.17s/it]"
     ]
    },
    {
     "name": "stdout",
     "output_type": "stream",
     "text": [
      "[[1348 1222]\n",
      " [1348 1223]\n",
      " [1347 1229]\n",
      " [1346 1226]]\n",
      "{'les': True, 'flood': True, 'loan': True}\n"
     ]
    },
    {
     "name": "stderr",
     "output_type": "stream",
     "text": [
      "\r",
      " 32%|█████████████████████████▌                                                      | 153/480 [19:54<49:26,  9.07s/it]"
     ]
    },
    {
     "name": "stdout",
     "output_type": "stream",
     "text": [
      "[[1347 1337]\n",
      " [1349 1337]\n",
      " [1349 1338]\n",
      " [1348 1338]]\n",
      "{'les': False, 'flood': True, 'loan': True}\n"
     ]
    },
    {
     "name": "stderr",
     "output_type": "stream",
     "text": [
      "\r",
      " 32%|█████████████████████████▋                                                      | 154/480 [20:04<50:22,  9.27s/it]"
     ]
    },
    {
     "name": "stdout",
     "output_type": "stream",
     "text": [
      "[[1358 1193]\n",
      " [1360 1194]\n",
      " [1355 1194]]\n",
      "{'les': True, 'flood': True, 'loan': True}\n"
     ]
    },
    {
     "name": "stderr",
     "output_type": "stream",
     "text": [
      "\r",
      " 32%|█████████████████████████▊                                                      | 155/480 [20:15<53:19,  9.84s/it]"
     ]
    },
    {
     "name": "stdout",
     "output_type": "stream",
     "text": [
      "[[1355 1220]\n",
      " [1357 1219]\n",
      " [1357 1222]]\n",
      "{'les': True, 'flood': True, 'loan': True}\n"
     ]
    },
    {
     "name": "stderr",
     "output_type": "stream",
     "text": [
      "\r",
      " 32%|██████████████████████████                                                      | 156/480 [20:21<47:10,  8.74s/it]"
     ]
    },
    {
     "name": "stdout",
     "output_type": "stream",
     "text": [
      "[[1360 1219]\n",
      " [1361 1220]\n",
      " [1356 1220]]\n",
      "{'les': True, 'flood': True, 'loan': True}\n"
     ]
    },
    {
     "name": "stderr",
     "output_type": "stream",
     "text": [
      "\r",
      " 33%|██████████████████████████▏                                                     | 157/480 [20:27<42:49,  7.95s/it]"
     ]
    },
    {
     "name": "stdout",
     "output_type": "stream",
     "text": [
      "[[1363 1194]\n",
      " [1363 1196]\n",
      " [1362 1198]\n",
      " [1357 1197]]\n",
      "{'les': True, 'flood': True, 'loan': True}\n"
     ]
    },
    {
     "name": "stderr",
     "output_type": "stream",
     "text": [
      "\r",
      " 33%|██████████████████████████▎                                                     | 158/480 [20:38<47:40,  8.88s/it]"
     ]
    },
    {
     "name": "stdout",
     "output_type": "stream",
     "text": [
      "[[1358 1337]\n",
      " [1360 1337]\n",
      " [1359 1339]]\n",
      "{'les': True, 'flood': True, 'loan': True}\n"
     ]
    },
    {
     "name": "stderr",
     "output_type": "stream",
     "text": [
      "\r",
      " 33%|██████████████████████████▌                                                     | 159/480 [20:45<43:01,  8.04s/it]"
     ]
    },
    {
     "name": "stdout",
     "output_type": "stream",
     "text": [
      "[[1361 1223]\n",
      " [1365 1232]\n",
      " [1364 1233]]\n",
      "{'les': True, 'flood': True, 'loan': True}\n",
      "<class 'Exception'>\n",
      "('The input points are located on the same line. No convex hull is found!',)\n",
      "<class 'Exception'>\n",
      "('Not enough points are found for convex hull. Please check your input and other information',)\n",
      "<class 'Exception'>\n",
      "('The input points are located on the same line. No convex hull is found!',)\n",
      "<class 'Exception'>\n",
      "('Not enough points are found for convex hull. Please check your input and other information',)\n",
      "<class 'Exception'>\n",
      "('The input points are located on the same line. No convex hull is found!',)\n",
      "<class 'Exception'>\n",
      "('Not enough points are found for convex hull. Please check your input and other information',)\n"
     ]
    },
    {
     "name": "stderr",
     "output_type": "stream",
     "text": [
      "\r",
      " 33%|██████████████████████████▋                                                     | 160/480 [20:50<39:31,  7.41s/it]"
     ]
    },
    {
     "name": "stdout",
     "output_type": "stream",
     "text": [
      "None\n",
      "{'les': True, 'flood': True, 'loan': True}\n"
     ]
    },
    {
     "name": "stderr",
     "output_type": "stream",
     "text": [
      "\r",
      " 34%|██████████████████████████▊                                                     | 161/480 [21:02<45:32,  8.57s/it]"
     ]
    },
    {
     "name": "stdout",
     "output_type": "stream",
     "text": [
      "[[1377 1013]\n",
      " [1378 1013]\n",
      " [1376 1015]\n",
      " [1373 1015]]\n",
      "{'les': False, 'flood': True, 'loan': True}\n"
     ]
    },
    {
     "name": "stderr",
     "output_type": "stream",
     "text": [
      "\r",
      " 34%|███████████████████████████                                                     | 162/480 [21:13<49:09,  9.28s/it]"
     ]
    },
    {
     "name": "stdout",
     "output_type": "stream",
     "text": [
      "[[1374 1246]\n",
      " [1380 1247]\n",
      " [1379 1248]]\n",
      "{'les': True, 'flood': True, 'loan': True}\n",
      "<class 'Exception'>\n",
      "('The input points are located on the same line. No convex hull is found!',)\n",
      "<class 'Exception'>\n",
      "('Not enough points are found for convex hull. Please check your input and other information',)\n",
      "<class 'Exception'>\n",
      "('The input points are located on the same line. No convex hull is found!',)\n",
      "<class 'Exception'>\n",
      "('Not enough points are found for convex hull. Please check your input and other information',)\n",
      "<class 'Exception'>\n",
      "('The input points are located on the same line. No convex hull is found!',)\n",
      "<class 'Exception'>\n",
      "('Not enough points are found for convex hull. Please check your input and other information',)\n"
     ]
    },
    {
     "name": "stderr",
     "output_type": "stream",
     "text": [
      "\r",
      " 34%|███████████████████████████▏                                                    | 163/480 [21:20<45:22,  8.59s/it]"
     ]
    },
    {
     "name": "stdout",
     "output_type": "stream",
     "text": [
      "None\n",
      "{'les': True, 'flood': True, 'loan': True}\n",
      "<class 'Exception'>\n",
      "('The input points are located on the same line. No convex hull is found!',)\n",
      "<class 'Exception'>\n",
      "('Not enough points are found for convex hull. Please check your input and other information',)\n",
      "<class 'Exception'>\n",
      "('The input points are located on the same line. No convex hull is found!',)\n",
      "<class 'Exception'>\n",
      "('Not enough points are found for convex hull. Please check your input and other information',)\n",
      "<class 'Exception'>\n",
      "('The input points are located on the same line. No convex hull is found!',)\n",
      "<class 'Exception'>\n",
      "('Not enough points are found for convex hull. Please check your input and other information',)\n"
     ]
    },
    {
     "name": "stderr",
     "output_type": "stream",
     "text": [
      "\r",
      " 34%|███████████████████████████▎                                                    | 164/480 [21:25<40:48,  7.75s/it]"
     ]
    },
    {
     "name": "stdout",
     "output_type": "stream",
     "text": [
      "None\n",
      "{'les': True, 'flood': True, 'loan': True}\n",
      "<class 'Exception'>\n",
      "('The input points are located on the same line. No convex hull is found!',)\n",
      "<class 'Exception'>\n",
      "('The input points are located on the same line. No convex hull is found!',)\n",
      "<class 'Exception'>\n",
      "('The input points are located on the same line. No convex hull is found!',)\n"
     ]
    },
    {
     "name": "stderr",
     "output_type": "stream",
     "text": [
      "\r",
      " 34%|███████████████████████████▌                                                    | 165/480 [21:37<46:00,  8.76s/it]"
     ]
    },
    {
     "name": "stdout",
     "output_type": "stream",
     "text": [
      "[[1385 1289]\n",
      " [1387 1289]\n",
      " [1386 1290]]\n",
      "{'les': True, 'flood': True, 'loan': True}\n"
     ]
    },
    {
     "name": "stderr",
     "output_type": "stream",
     "text": [
      "\r",
      " 35%|███████████████████████████▋                                                    | 166/480 [21:48<49:32,  9.46s/it]"
     ]
    },
    {
     "name": "stdout",
     "output_type": "stream",
     "text": [
      "[[1389 1251]\n",
      " [1390 1251]\n",
      " [1390 1254]]\n",
      "{'les': True, 'flood': True, 'loan': True}\n"
     ]
    },
    {
     "name": "stderr",
     "output_type": "stream",
     "text": [
      "\r",
      " 35%|███████████████████████████▊                                                    | 167/480 [21:54<44:38,  8.56s/it]"
     ]
    },
    {
     "name": "stdout",
     "output_type": "stream",
     "text": [
      "[[1403 1243]\n",
      " [1404 1244]\n",
      " [1404 1245]\n",
      " [1398 1245]]\n",
      "{'les': True, 'flood': True, 'loan': True}\n",
      "<class 'Exception'>\n",
      "('The input points are located on the same line. No convex hull is found!',)\n",
      "<class 'Exception'>\n",
      "('The input points are located on the same line. No convex hull is found!',)\n",
      "<class 'Exception'>\n",
      "('The input points are located on the same line. No convex hull is found!',)\n"
     ]
    },
    {
     "name": "stderr",
     "output_type": "stream",
     "text": [
      "\r",
      " 35%|████████████████████████████                                                    | 168/480 [22:00<40:10,  7.73s/it]"
     ]
    },
    {
     "name": "stdout",
     "output_type": "stream",
     "text": [
      "[[1398 3437]\n",
      " [1400 3437]\n",
      " [1399 3438]]\n",
      "{'les': True, 'flood': False, 'loan': False}\n"
     ]
    },
    {
     "name": "stderr",
     "output_type": "stream",
     "text": [
      "\r",
      " 35%|████████████████████████████▏                                                   | 169/480 [22:10<43:10,  8.33s/it]"
     ]
    },
    {
     "name": "stdout",
     "output_type": "stream",
     "text": [
      "[[1403 1414]\n",
      " [1411 1417]\n",
      " [1404 1418]]\n",
      "{'les': True, 'flood': True, 'loan': True}\n"
     ]
    },
    {
     "name": "stderr",
     "output_type": "stream",
     "text": [
      "\r",
      " 35%|████████████████████████████▎                                                   | 170/480 [22:21<47:18,  9.15s/it]"
     ]
    },
    {
     "name": "stdout",
     "output_type": "stream",
     "text": [
      "[[1412 1304]\n",
      " [1413 1304]\n",
      " [1410 1305]\n",
      " [1406 1306]]\n",
      "{'les': True, 'flood': True, 'loan': True}\n"
     ]
    },
    {
     "name": "stderr",
     "output_type": "stream",
     "text": [
      "\r",
      " 36%|████████████████████████████▌                                                   | 171/480 [22:27<42:36,  8.27s/it]"
     ]
    },
    {
     "name": "stdout",
     "output_type": "stream",
     "text": [
      "[[1414 1300]\n",
      " [1414 1301]\n",
      " [1413 1305]\n",
      " [1407 1304]]\n",
      "{'les': True, 'flood': True, 'loan': True}\n",
      "<class 'Exception'>\n",
      "('The input points are located on the same line. No convex hull is found!',)\n",
      "<class 'Exception'>\n",
      "('The input points are located on the same line. No convex hull is found!',)\n",
      "<class 'Exception'>\n",
      "('The input points are located on the same line. No convex hull is found!',)\n"
     ]
    },
    {
     "name": "stderr",
     "output_type": "stream",
     "text": [
      "\r",
      " 36%|████████████████████████████▋                                                   | 172/480 [22:35<41:48,  8.15s/it]"
     ]
    },
    {
     "name": "stdout",
     "output_type": "stream",
     "text": [
      "[[1408 2294]\n",
      " [1411 2294]\n",
      " [1410 2295]]\n",
      "{'les': True, 'flood': True, 'loan': True}\n"
     ]
    },
    {
     "name": "stderr",
     "output_type": "stream",
     "text": [
      "\r",
      " 36%|████████████████████████████▊                                                   | 173/480 [22:41<38:39,  7.56s/it]"
     ]
    },
    {
     "name": "stdout",
     "output_type": "stream",
     "text": [
      "[[1413 1195]\n",
      " [1413 1196]\n",
      " [1412 1200]\n",
      " [1412 1197]]\n",
      "{'les': False, 'flood': True, 'loan': True}\n"
     ]
    },
    {
     "name": "stderr",
     "output_type": "stream",
     "text": [
      "\r",
      " 36%|█████████████████████████████                                                   | 174/480 [22:47<36:18,  7.12s/it]"
     ]
    },
    {
     "name": "stdout",
     "output_type": "stream",
     "text": [
      "[[1415 1201]\n",
      " [1415 1202]\n",
      " [1414 1203]\n",
      " [1413 1202]]\n",
      "{'les': True, 'flood': True, 'loan': True}\n"
     ]
    },
    {
     "name": "stderr",
     "output_type": "stream",
     "text": [
      "\r",
      " 36%|█████████████████████████████▏                                                  | 175/480 [22:58<42:06,  8.28s/it]"
     ]
    },
    {
     "name": "stdout",
     "output_type": "stream",
     "text": [
      "[[1419 1529]\n",
      " [1421 1527]\n",
      " [1420 1532]]\n",
      "{'les': True, 'flood': True, 'loan': True}\n"
     ]
    },
    {
     "name": "stderr",
     "output_type": "stream",
     "text": [
      "\r",
      " 37%|█████████████████████████████▎                                                  | 176/480 [23:09<46:09,  9.11s/it]"
     ]
    },
    {
     "name": "stdout",
     "output_type": "stream",
     "text": [
      "[[1419 1543]\n",
      " [1421 1542]\n",
      " [1432 1547]]\n",
      "{'les': True, 'flood': True, 'loan': True}\n"
     ]
    },
    {
     "name": "stderr",
     "output_type": "stream",
     "text": [
      "\r",
      " 37%|█████████████████████████████▌                                                  | 177/480 [23:19<47:43,  9.45s/it]"
     ]
    },
    {
     "name": "stdout",
     "output_type": "stream",
     "text": [
      "[[1419 1550]\n",
      " [1423 1551]\n",
      " [1424 1552]\n",
      " [1420 1557]]\n",
      "{'les': True, 'flood': True, 'loan': True}\n"
     ]
    },
    {
     "name": "stderr",
     "output_type": "stream",
     "text": [
      "\r",
      " 37%|█████████████████████████████▋                                                  | 178/480 [23:26<42:59,  8.54s/it]"
     ]
    },
    {
     "name": "stdout",
     "output_type": "stream",
     "text": [
      "[[1424 1550]\n",
      " [1427 1552]\n",
      " [1419 1556]]\n",
      "{'les': True, 'flood': True, 'loan': True}\n"
     ]
    },
    {
     "name": "stderr",
     "output_type": "stream",
     "text": [
      "\r",
      " 37%|█████████████████████████████▊                                                  | 179/480 [23:32<39:15,  7.82s/it]"
     ]
    },
    {
     "name": "stdout",
     "output_type": "stream",
     "text": [
      "[[1422 1591]\n",
      " [1422 1592]\n",
      " [1421 1594]\n",
      " [1420 1593]]\n",
      "{'les': True, 'flood': True, 'loan': True}\n"
     ]
    },
    {
     "name": "stderr",
     "output_type": "stream",
     "text": [
      "\r",
      " 38%|██████████████████████████████                                                  | 180/480 [23:39<37:39,  7.53s/it]"
     ]
    },
    {
     "name": "stdout",
     "output_type": "stream",
     "text": [
      "[[1420 1636]\n",
      " [1422 1637]\n",
      " [1422 1638]\n",
      " [1421 1638]]\n",
      "{'les': True, 'flood': True, 'loan': True}\n"
     ]
    },
    {
     "name": "stderr",
     "output_type": "stream",
     "text": [
      "\r",
      " 38%|██████████████████████████████▏                                                 | 181/480 [23:45<35:12,  7.06s/it]"
     ]
    },
    {
     "name": "stdout",
     "output_type": "stream",
     "text": [
      "[[1421 3315]\n",
      " [1421 3318]\n",
      " [1420 3317]]\n",
      "{'les': True, 'flood': True, 'loan': True}\n"
     ]
    },
    {
     "name": "stderr",
     "output_type": "stream",
     "text": [
      "\r",
      " 38%|██████████████████████████████▎                                                 | 182/480 [23:51<33:28,  6.74s/it]"
     ]
    },
    {
     "name": "stdout",
     "output_type": "stream",
     "text": [
      "[[1442 1547]\n",
      " [1430 1557]\n",
      " [1421 1556]]\n",
      "{'les': True, 'flood': True, 'loan': True}\n"
     ]
    },
    {
     "name": "stderr",
     "output_type": "stream",
     "text": [
      "\r",
      " 38%|██████████████████████████████▌                                                 | 183/480 [23:57<32:31,  6.57s/it]"
     ]
    },
    {
     "name": "stdout",
     "output_type": "stream",
     "text": [
      "[[1423 1634]\n",
      " [1423 1635]\n",
      " [1422 1636]\n",
      " [1421 1635]]\n",
      "{'les': True, 'flood': True, 'loan': True}\n"
     ]
    },
    {
     "name": "stderr",
     "output_type": "stream",
     "text": [
      "\r",
      " 38%|██████████████████████████████▋                                                 | 184/480 [24:03<31:48,  6.45s/it]"
     ]
    },
    {
     "name": "stdout",
     "output_type": "stream",
     "text": [
      "[[1424 1253]\n",
      " [1424 1254]\n",
      " [1423 1255]\n",
      " [1422 1254]]\n",
      "{'les': True, 'flood': True, 'loan': True}\n"
     ]
    },
    {
     "name": "stderr",
     "output_type": "stream",
     "text": [
      "\r",
      " 39%|██████████████████████████████▊                                                 | 185/480 [24:09<31:01,  6.31s/it]"
     ]
    },
    {
     "name": "stdout",
     "output_type": "stream",
     "text": [
      "[[1426 1249]\n",
      " [1426 1250]\n",
      " [1424 1250]]\n",
      "{'les': True, 'flood': True, 'loan': True}\n"
     ]
    },
    {
     "name": "stderr",
     "output_type": "stream",
     "text": [
      "\r",
      " 39%|███████████████████████████████                                                 | 186/480 [24:15<30:46,  6.28s/it]"
     ]
    },
    {
     "name": "stdout",
     "output_type": "stream",
     "text": [
      "[[1443 1541]\n",
      " [1442 1543]\n",
      " [1431 1546]\n",
      " [1424 1546]]\n",
      "{'les': True, 'flood': True, 'loan': True}\n"
     ]
    },
    {
     "name": "stderr",
     "output_type": "stream",
     "text": [
      "\r",
      " 39%|███████████████████████████████▏                                                | 187/480 [24:21<30:14,  6.19s/it]"
     ]
    },
    {
     "name": "stdout",
     "output_type": "stream",
     "text": [
      "[[1427 1532]\n",
      " [1427 1535]\n",
      " [1425 1534]]\n",
      "{'les': True, 'flood': True, 'loan': True}\n"
     ]
    },
    {
     "name": "stderr",
     "output_type": "stream",
     "text": [
      "\r",
      " 39%|███████████████████████████████▎                                                | 188/480 [24:27<29:50,  6.13s/it]"
     ]
    },
    {
     "name": "stdout",
     "output_type": "stream",
     "text": [
      "[[1431 1527]\n",
      " [1431 1529]\n",
      " [1427 1530]]\n",
      "{'les': True, 'flood': True, 'loan': True}\n"
     ]
    },
    {
     "name": "stderr",
     "output_type": "stream",
     "text": [
      "\r",
      " 39%|███████████████████████████████▌                                                | 189/480 [24:38<36:36,  7.55s/it]"
     ]
    },
    {
     "name": "stdout",
     "output_type": "stream",
     "text": [
      "[[1428 1530]\n",
      " [1430 1530]\n",
      " [1430 1532]]\n",
      "{'les': True, 'flood': True, 'loan': True}\n"
     ]
    },
    {
     "name": "stderr",
     "output_type": "stream",
     "text": [
      "\r",
      " 40%|███████████████████████████████▋                                                | 190/480 [24:49<41:37,  8.61s/it]"
     ]
    },
    {
     "name": "stdout",
     "output_type": "stream",
     "text": [
      "[[1433 1557]\n",
      " [1435 1556]\n",
      " [1433 1559]\n",
      " [1428 1561]]\n",
      "{'les': False, 'flood': False, 'loan': False}\n"
     ]
    },
    {
     "name": "stderr",
     "output_type": "stream",
     "text": [
      "\r",
      " 40%|███████████████████████████████▊                                                | 191/480 [24:55<38:07,  7.92s/it]"
     ]
    },
    {
     "name": "stdout",
     "output_type": "stream",
     "text": [
      "[[1429 1169]\n",
      " [1430 1171]\n",
      " [1433 1178]\n",
      " [1432 1178]]\n",
      "{'les': True, 'flood': True, 'loan': True}\n",
      "<class 'Exception'>\n",
      "('The input points are located on the same line. No convex hull is found!',)\n",
      "<class 'Exception'>\n",
      "('Not enough points are found for convex hull. Please check your input and other information',)\n",
      "<class 'Exception'>\n",
      "('The input points are located on the same line. No convex hull is found!',)\n",
      "<class 'Exception'>\n",
      "('Not enough points are found for convex hull. Please check your input and other information',)\n",
      "<class 'Exception'>\n",
      "('The input points are located on the same line. No convex hull is found!',)\n",
      "<class 'Exception'>\n",
      "('Not enough points are found for convex hull. Please check your input and other information',)\n"
     ]
    },
    {
     "name": "stderr",
     "output_type": "stream",
     "text": [
      "\r",
      " 40%|████████████████████████████████                                                | 192/480 [25:01<34:52,  7.26s/it]"
     ]
    },
    {
     "name": "stdout",
     "output_type": "stream",
     "text": [
      "None\n",
      "{'les': True, 'flood': True, 'loan': True}\n"
     ]
    },
    {
     "name": "stderr",
     "output_type": "stream",
     "text": [
      "\r",
      " 40%|████████████████████████████████▏                                               | 193/480 [25:12<40:26,  8.46s/it]"
     ]
    },
    {
     "name": "stdout",
     "output_type": "stream",
     "text": [
      "[[1430 1352]\n",
      " [1432 1351]\n",
      " [1432 1353]\n",
      " [1431 1357]]\n",
      "{'les': True, 'flood': True, 'loan': True}\n"
     ]
    },
    {
     "name": "stderr",
     "output_type": "stream",
     "text": [
      "\r",
      " 40%|████████████████████████████████▎                                               | 194/480 [25:18<36:42,  7.70s/it]"
     ]
    },
    {
     "name": "stdout",
     "output_type": "stream",
     "text": [
      "[[1432 1510]\n",
      " [1437 1518]\n",
      " [1432 1515]]\n",
      "{'les': True, 'flood': True, 'loan': True}\n"
     ]
    },
    {
     "name": "stderr",
     "output_type": "stream",
     "text": [
      "\r",
      " 41%|████████████████████████████████▌                                               | 195/480 [25:29<41:10,  8.67s/it]"
     ]
    },
    {
     "name": "stdout",
     "output_type": "stream",
     "text": [
      "[[1436 1524]\n",
      " [1437 1524]\n",
      " [1434 1527]\n",
      " [1432 1526]]\n",
      "{'les': False, 'flood': False, 'loan': False}\n"
     ]
    },
    {
     "name": "stderr",
     "output_type": "stream",
     "text": [
      "\r",
      " 41%|████████████████████████████████▋                                               | 196/480 [25:36<37:34,  7.94s/it]"
     ]
    },
    {
     "name": "stdout",
     "output_type": "stream",
     "text": [
      "[[1436 1554]\n",
      " [1436 1555]\n",
      " [1435 1558]\n",
      " [1432 1558]]\n",
      "{'les': True, 'flood': True, 'loan': True}\n"
     ]
    },
    {
     "name": "stderr",
     "output_type": "stream",
     "text": [
      "\r",
      " 41%|████████████████████████████████▊                                               | 197/480 [25:42<34:41,  7.35s/it]"
     ]
    },
    {
     "name": "stdout",
     "output_type": "stream",
     "text": [
      "[[1435 1510]\n",
      " [1434 1515]\n",
      " [1433 1513]]\n",
      "{'les': True, 'flood': True, 'loan': True}\n"
     ]
    },
    {
     "name": "stderr",
     "output_type": "stream",
     "text": [
      "\r",
      " 41%|█████████████████████████████████                                               | 198/480 [25:47<32:35,  6.93s/it]"
     ]
    },
    {
     "name": "stdout",
     "output_type": "stream",
     "text": [
      "[[1435 1523]\n",
      " [1434 1525]\n",
      " [1433 1524]]\n",
      "{'les': True, 'flood': True, 'loan': True}\n"
     ]
    },
    {
     "name": "stderr",
     "output_type": "stream",
     "text": [
      "\r",
      " 41%|█████████████████████████████████▏                                              | 199/480 [25:54<31:24,  6.71s/it]"
     ]
    },
    {
     "name": "stdout",
     "output_type": "stream",
     "text": [
      "[[1436 1531]\n",
      " [1436 1533]\n",
      " [1435 1534]\n",
      " [1433 1533]]\n",
      "{'les': True, 'flood': True, 'loan': True}\n"
     ]
    },
    {
     "name": "stderr",
     "output_type": "stream",
     "text": [
      "\r",
      " 42%|█████████████████████████████████▎                                              | 200/480 [26:04<36:59,  7.93s/it]"
     ]
    },
    {
     "name": "stdout",
     "output_type": "stream",
     "text": [
      "[[1433 1535]\n",
      " [1437 1535]\n",
      " [1437 1536]]\n",
      "{'les': True, 'flood': True, 'loan': True}\n"
     ]
    },
    {
     "name": "stderr",
     "output_type": "stream",
     "text": [
      "\r",
      " 42%|█████████████████████████████████▌                                              | 201/480 [26:15<41:15,  8.87s/it]"
     ]
    },
    {
     "name": "stdout",
     "output_type": "stream",
     "text": [
      "[[1433 1545]\n",
      " [1437 1545]\n",
      " [1437 1546]\n",
      " [1436 1546]]\n",
      "{'les': True, 'flood': True, 'loan': True}\n"
     ]
    },
    {
     "name": "stderr",
     "output_type": "stream",
     "text": [
      "\r",
      " 42%|█████████████████████████████████▋                                              | 202/480 [26:22<37:11,  8.03s/it]"
     ]
    },
    {
     "name": "stdout",
     "output_type": "stream",
     "text": [
      "[[1436 1548]\n",
      " [1435 1552]\n",
      " [1434 1550]]\n",
      "{'les': True, 'flood': True, 'loan': True}\n"
     ]
    },
    {
     "name": "stderr",
     "output_type": "stream",
     "text": [
      "\r",
      " 42%|█████████████████████████████████▊                                              | 203/480 [26:30<37:28,  8.12s/it]"
     ]
    },
    {
     "name": "stdout",
     "output_type": "stream",
     "text": [
      "[[1435 1259]\n",
      " [1444 1264]\n",
      " [1442 1264]]\n",
      "{'les': True, 'flood': True, 'loan': True}\n"
     ]
    },
    {
     "name": "stderr",
     "output_type": "stream",
     "text": [
      "\r",
      " 42%|██████████████████████████████████                                              | 204/480 [26:41<41:36,  9.04s/it]"
     ]
    },
    {
     "name": "stdout",
     "output_type": "stream",
     "text": [
      "[[1436 1543]\n",
      " [1438 1542]\n",
      " [1438 1543]\n",
      " [1437 1547]]\n",
      "{'les': True, 'flood': True, 'loan': True}\n"
     ]
    },
    {
     "name": "stderr",
     "output_type": "stream",
     "text": [
      "\r",
      " 43%|██████████████████████████████████▏                                             | 205/480 [26:52<43:44,  9.54s/it]"
     ]
    },
    {
     "name": "stdout",
     "output_type": "stream",
     "text": [
      "[[1436 1635]\n",
      " [1438 1635]\n",
      " [1437 1638]]\n",
      "{'les': True, 'flood': True, 'loan': True}\n"
     ]
    },
    {
     "name": "stderr",
     "output_type": "stream",
     "text": [
      "\r",
      " 43%|██████████████████████████████████▎                                             | 206/480 [27:03<45:28,  9.96s/it]"
     ]
    },
    {
     "name": "stdout",
     "output_type": "stream",
     "text": [
      "[[1437 1484]\n",
      " [1439 1484]\n",
      " [1439 1485]]\n",
      "{'les': True, 'flood': True, 'loan': True}\n"
     ]
    },
    {
     "name": "stderr",
     "output_type": "stream",
     "text": [
      "\r",
      " 43%|██████████████████████████████████▌                                             | 207/480 [27:14<47:15, 10.39s/it]"
     ]
    },
    {
     "name": "stdout",
     "output_type": "stream",
     "text": [
      "[[1439 1208]\n",
      " [1440 1208]\n",
      " [1440 1209]\n",
      " [1439 1211]]\n",
      "{'les': True, 'flood': True, 'loan': True}\n"
     ]
    },
    {
     "name": "stderr",
     "output_type": "stream",
     "text": [
      "\r",
      " 43%|██████████████████████████████████▋                                             | 208/480 [27:20<41:06,  9.07s/it]"
     ]
    },
    {
     "name": "stdout",
     "output_type": "stream",
     "text": [
      "[[1440 1211]\n",
      " [1440 1213]\n",
      " [1439 1212]]\n",
      "{'les': True, 'flood': True, 'loan': True}\n"
     ]
    },
    {
     "name": "stderr",
     "output_type": "stream",
     "text": [
      "\r",
      " 44%|██████████████████████████████████▊                                             | 209/480 [27:31<43:17,  9.59s/it]"
     ]
    },
    {
     "name": "stdout",
     "output_type": "stream",
     "text": [
      "[[1439 1249]\n",
      " [1443 1250]\n",
      " [1442 1251]]\n",
      "{'les': True, 'flood': True, 'loan': True}\n",
      "<class 'Exception'>\n",
      "('The input points are located on the same line. No convex hull is found!',)\n",
      "<class 'Exception'>\n",
      "('The input points are located on the same line. No convex hull is found!',)\n",
      "<class 'Exception'>\n",
      "('The input points are located on the same line. No convex hull is found!',)\n"
     ]
    },
    {
     "name": "stderr",
     "output_type": "stream",
     "text": [
      "\r",
      " 44%|███████████████████████████████████                                             | 210/480 [27:41<44:15,  9.83s/it]"
     ]
    },
    {
     "name": "stdout",
     "output_type": "stream",
     "text": [
      "[[1439 1716]\n",
      " [1442 1716]\n",
      " [1441 1717]]\n",
      "{'les': True, 'flood': True, 'loan': True}\n"
     ]
    },
    {
     "name": "stderr",
     "output_type": "stream",
     "text": [
      "\r",
      " 44%|███████████████████████████████████▏                                            | 211/480 [27:52<45:33, 10.16s/it]"
     ]
    },
    {
     "name": "stdout",
     "output_type": "stream",
     "text": [
      "[[1441 1458]\n",
      " [1442 1458]\n",
      " [1441 1462]]\n",
      "{'les': True, 'flood': True, 'loan': True}\n"
     ]
    },
    {
     "name": "stderr",
     "output_type": "stream",
     "text": [
      "\r",
      " 44%|███████████████████████████████████▎                                            | 212/480 [27:58<39:49,  8.92s/it]"
     ]
    },
    {
     "name": "stdout",
     "output_type": "stream",
     "text": [
      "[[1442 1479]\n",
      " [1442 1481]\n",
      " [1441 1484]]\n",
      "{'les': True, 'flood': True, 'loan': True}\n"
     ]
    },
    {
     "name": "stderr",
     "output_type": "stream",
     "text": [
      "\r",
      " 44%|███████████████████████████████████▌                                            | 213/480 [28:09<42:11,  9.48s/it]"
     ]
    },
    {
     "name": "stdout",
     "output_type": "stream",
     "text": [
      "[[1441 1542]\n",
      " [1442 1542]\n",
      " [1442 1546]]\n",
      "{'les': True, 'flood': True, 'loan': True}\n"
     ]
    },
    {
     "name": "stderr",
     "output_type": "stream",
     "text": [
      "\r",
      " 45%|███████████████████████████████████▋                                            | 214/480 [28:20<44:10,  9.96s/it]"
     ]
    },
    {
     "name": "stdout",
     "output_type": "stream",
     "text": [
      "[[1442 1259]\n",
      " [1443 1259]\n",
      " [1442 1263]]\n",
      "{'les': True, 'flood': True, 'loan': True}\n"
     ]
    },
    {
     "name": "stderr",
     "output_type": "stream",
     "text": [
      "\r",
      " 45%|███████████████████████████████████▊                                            | 215/480 [28:31<45:09, 10.23s/it]"
     ]
    },
    {
     "name": "stdout",
     "output_type": "stream",
     "text": [
      "[[1442 1265]\n",
      " [1451 1267]\n",
      " [1449 1267]]\n",
      "{'les': True, 'flood': True, 'loan': True}\n"
     ]
    },
    {
     "name": "stderr",
     "output_type": "stream",
     "text": [
      "\r",
      " 45%|████████████████████████████████████                                            | 216/480 [28:37<39:29,  8.98s/it]"
     ]
    },
    {
     "name": "stdout",
     "output_type": "stream",
     "text": [
      "[[1447 1536]\n",
      " [1445 1539]\n",
      " [1442 1539]]\n",
      "{'les': True, 'flood': True, 'loan': True}\n"
     ]
    },
    {
     "name": "stderr",
     "output_type": "stream",
     "text": [
      "\r",
      " 45%|████████████████████████████████████▏                                           | 217/480 [28:48<41:53,  9.56s/it]"
     ]
    },
    {
     "name": "stdout",
     "output_type": "stream",
     "text": [
      "[[1444 1462]\n",
      " [1445 1462]\n",
      " [1445 1464]]\n",
      "{'les': True, 'flood': True, 'loan': True}\n"
     ]
    },
    {
     "name": "stderr",
     "output_type": "stream",
     "text": [
      "\r",
      " 45%|████████████████████████████████████▎                                           | 218/480 [28:58<42:46,  9.80s/it]"
     ]
    },
    {
     "name": "stdout",
     "output_type": "stream",
     "text": [
      "[[1444 1515]\n",
      " [1448 1516]\n",
      " [1449 1517]\n",
      " [1448 1521]]\n",
      "{'les': True, 'flood': True, 'loan': True}\n"
     ]
    },
    {
     "name": "stderr",
     "output_type": "stream",
     "text": [
      "\r",
      " 46%|████████████████████████████████████▌                                           | 219/480 [29:09<43:30, 10.00s/it]"
     ]
    },
    {
     "name": "stdout",
     "output_type": "stream",
     "text": [
      "[[1445 1265]\n",
      " [1448 1266]\n",
      " [1448 1267]]\n",
      "{'les': True, 'flood': True, 'loan': True}\n"
     ]
    },
    {
     "name": "stderr",
     "output_type": "stream",
     "text": [
      "\r",
      " 46%|████████████████████████████████████▋                                           | 220/480 [29:18<42:52,  9.89s/it]"
     ]
    },
    {
     "name": "stdout",
     "output_type": "stream",
     "text": [
      "[[1445 1516]\n",
      " [1448 1517]\n",
      " [1448 1519]]\n",
      "{'les': True, 'flood': True, 'loan': True}\n"
     ]
    },
    {
     "name": "stderr",
     "output_type": "stream",
     "text": [
      "\r",
      " 46%|████████████████████████████████████▊                                           | 221/480 [29:24<37:41,  8.73s/it]"
     ]
    },
    {
     "name": "stdout",
     "output_type": "stream",
     "text": [
      "[[1453 1452]\n",
      " [1451 1455]\n",
      " [1450 1454]]\n",
      "{'les': True, 'flood': True, 'loan': True}\n"
     ]
    },
    {
     "name": "stderr",
     "output_type": "stream",
     "text": [
      "\r",
      " 46%|█████████████████████████████████████                                           | 222/480 [29:31<34:24,  8.00s/it]"
     ]
    },
    {
     "name": "stdout",
     "output_type": "stream",
     "text": [
      "[[1455 1520]\n",
      " [1455 1521]\n",
      " [1454 1522]\n",
      " [1450 1525]]\n",
      "{'les': True, 'flood': True, 'loan': True}\n"
     ]
    },
    {
     "name": "stderr",
     "output_type": "stream",
     "text": [
      "\r",
      " 46%|█████████████████████████████████████▏                                          | 223/480 [29:40<36:21,  8.49s/it]"
     ]
    },
    {
     "name": "stdout",
     "output_type": "stream",
     "text": [
      "[[1451 1533]\n",
      " [1454 1534]\n",
      " [1452 1534]]\n",
      "{'les': True, 'flood': True, 'loan': True}\n"
     ]
    },
    {
     "name": "stderr",
     "output_type": "stream",
     "text": [
      "\r",
      " 47%|█████████████████████████████████████▎                                          | 224/480 [29:51<39:23,  9.23s/it]"
     ]
    },
    {
     "name": "stdout",
     "output_type": "stream",
     "text": [
      "[[1454 1510]\n",
      " [1456 1510]\n",
      " [1456 1511]\n",
      " [1455 1517]]\n",
      "{'les': True, 'flood': True, 'loan': True}\n"
     ]
    },
    {
     "name": "stderr",
     "output_type": "stream",
     "text": [
      "\r",
      " 47%|█████████████████████████████████████▌                                          | 225/480 [30:02<41:18,  9.72s/it]"
     ]
    },
    {
     "name": "stdout",
     "output_type": "stream",
     "text": [
      "[[1455 1504]\n",
      " [1456 1504]\n",
      " [1456 1506]]\n",
      "{'les': True, 'flood': True, 'loan': True}\n"
     ]
    },
    {
     "name": "stderr",
     "output_type": "stream",
     "text": [
      "\r",
      " 47%|█████████████████████████████████████▋                                          | 226/480 [30:08<36:27,  8.61s/it]"
     ]
    },
    {
     "name": "stdout",
     "output_type": "stream",
     "text": [
      "[[1459 1512]\n",
      " [1459 1527]\n",
      " [1456 1523]]\n",
      "{'les': True, 'flood': True, 'loan': True}\n",
      "<class 'Exception'>\n",
      "('The input points are located on the same line. No convex hull is found!',)\n",
      "<class 'Exception'>\n",
      "('The input points are located on the same line. No convex hull is found!',)\n",
      "<class 'Exception'>\n",
      "('The input points are located on the same line. No convex hull is found!',)\n"
     ]
    },
    {
     "name": "stderr",
     "output_type": "stream",
     "text": [
      "\r",
      " 47%|█████████████████████████████████████▊                                          | 227/480 [30:19<38:36,  9.16s/it]"
     ]
    },
    {
     "name": "stdout",
     "output_type": "stream",
     "text": [
      "[[1460 1720]\n",
      " [1463 1720]\n",
      " [1462 1721]]\n",
      "{'les': True, 'flood': True, 'loan': True}\n"
     ]
    },
    {
     "name": "stderr",
     "output_type": "stream",
     "text": [
      "\r",
      " 48%|██████████████████████████████████████                                          | 228/480 [30:30<40:42,  9.69s/it]"
     ]
    },
    {
     "name": "stdout",
     "output_type": "stream",
     "text": [
      "[[1462 1458]\n",
      " [1463 1458]\n",
      " [1462 1462]]\n",
      "{'les': True, 'flood': True, 'loan': True}\n"
     ]
    },
    {
     "name": "stderr",
     "output_type": "stream",
     "text": [
      "\r",
      " 48%|██████████████████████████████████████▏                                         | 229/480 [30:36<36:11,  8.65s/it]"
     ]
    },
    {
     "name": "stdout",
     "output_type": "stream",
     "text": [
      "[[1463 1481]\n",
      " [1464 1482]\n",
      " [1464 1483]\n",
      " [1463 1489]]\n",
      "{'les': True, 'flood': True, 'loan': True}\n",
      "<class 'Exception'>\n",
      "('The input points are located on the same line. No convex hull is found!',)\n",
      "<class 'Exception'>\n",
      "('Not enough points are found for convex hull. Please check your input and other information',)\n",
      "<class 'Exception'>\n",
      "('The input points are located on the same line. No convex hull is found!',)\n",
      "<class 'Exception'>\n",
      "('Not enough points are found for convex hull. Please check your input and other information',)\n",
      "<class 'Exception'>\n",
      "('The input points are located on the same line. No convex hull is found!',)\n",
      "<class 'Exception'>\n",
      "('Not enough points are found for convex hull. Please check your input and other information',)\n"
     ]
    },
    {
     "name": "stderr",
     "output_type": "stream",
     "text": [
      "\r",
      " 48%|██████████████████████████████████████▎                                         | 230/480 [30:42<32:24,  7.78s/it]"
     ]
    },
    {
     "name": "stdout",
     "output_type": "stream",
     "text": [
      "None\n",
      "{'les': True, 'flood': True, 'loan': True}\n"
     ]
    },
    {
     "name": "stderr",
     "output_type": "stream",
     "text": [
      "\r",
      " 48%|██████████████████████████████████████▌                                         | 231/480 [30:48<30:07,  7.26s/it]"
     ]
    },
    {
     "name": "stdout",
     "output_type": "stream",
     "text": [
      "[[1467 1473]\n",
      " [1471 1477]\n",
      " [1469 1477]]\n",
      "{'les': True, 'flood': True, 'loan': True}\n"
     ]
    },
    {
     "name": "stderr",
     "output_type": "stream",
     "text": [
      "\r",
      " 48%|██████████████████████████████████████▋                                         | 232/480 [30:59<34:55,  8.45s/it]"
     ]
    },
    {
     "name": "stdout",
     "output_type": "stream",
     "text": [
      "[[1472 1474]\n",
      " [1477 1473]\n",
      " [1478 1474]\n",
      " [1478 1483]]\n",
      "{'les': True, 'flood': True, 'loan': True}\n"
     ]
    },
    {
     "name": "stderr",
     "output_type": "stream",
     "text": [
      "\r",
      " 49%|██████████████████████████████████████▊                                         | 233/480 [31:10<38:02,  9.24s/it]"
     ]
    },
    {
     "name": "stdout",
     "output_type": "stream",
     "text": [
      "[[1474 1482]\n",
      " [1475 1482]\n",
      " [1476 1483]\n",
      " [1475 1483]]\n",
      "{'les': True, 'flood': True, 'loan': True}\n",
      "<class 'Exception'>\n",
      "('The input points are located on the same line. No convex hull is found!',)\n",
      "<class 'Exception'>\n",
      "('The input points are located on the same line. No convex hull is found!',)\n",
      "<class 'Exception'>\n",
      "('The input points are located on the same line. No convex hull is found!',)\n"
     ]
    },
    {
     "name": "stderr",
     "output_type": "stream",
     "text": [
      "\r",
      " 49%|███████████████████████████████████████                                         | 234/480 [31:21<39:47,  9.71s/it]"
     ]
    },
    {
     "name": "stdout",
     "output_type": "stream",
     "text": [
      "[[1479 1582]\n",
      " [1484 1582]\n",
      " [1483 1583]]\n",
      "{'les': True, 'flood': True, 'loan': True}\n"
     ]
    },
    {
     "name": "stderr",
     "output_type": "stream",
     "text": [
      "\r",
      " 49%|███████████████████████████████████████▏                                        | 235/480 [31:27<35:06,  8.60s/it]"
     ]
    },
    {
     "name": "stdout",
     "output_type": "stream",
     "text": [
      "[[1503 1515]\n",
      " [1506 1519]\n",
      " [1505 1520]]\n",
      "{'les': True, 'flood': True, 'loan': True}\n"
     ]
    },
    {
     "name": "stderr",
     "output_type": "stream",
     "text": [
      "\r",
      " 49%|███████████████████████████████████████▎                                        | 236/480 [31:36<36:23,  8.95s/it]"
     ]
    },
    {
     "name": "stdout",
     "output_type": "stream",
     "text": [
      "[[1506 1520]\n",
      " [1509 1521]\n",
      " [1511 1529]]\n",
      "{'les': True, 'flood': True, 'loan': True}\n"
     ]
    },
    {
     "name": "stderr",
     "output_type": "stream",
     "text": [
      "\r",
      " 49%|███████████████████████████████████████▌                                        | 237/480 [31:48<38:47,  9.58s/it]"
     ]
    },
    {
     "name": "stdout",
     "output_type": "stream",
     "text": [
      "[[1506 1522]\n",
      " [1508 1521]\n",
      " [1508 1527]]\n",
      "{'les': True, 'flood': True, 'loan': True}\n"
     ]
    },
    {
     "name": "stderr",
     "output_type": "stream",
     "text": [
      "\r",
      " 50%|███████████████████████████████████████▋                                        | 238/480 [31:59<40:31, 10.05s/it]"
     ]
    },
    {
     "name": "stdout",
     "output_type": "stream",
     "text": [
      "[[1517 1538]\n",
      " [1521 1535]\n",
      " [1519 1540]\n",
      " [1518 1541]]\n",
      "{'les': True, 'flood': True, 'loan': True}\n"
     ]
    },
    {
     "name": "stderr",
     "output_type": "stream",
     "text": [
      "\r",
      " 50%|███████████████████████████████████████▊                                        | 239/480 [32:05<35:51,  8.93s/it]"
     ]
    },
    {
     "name": "stdout",
     "output_type": "stream",
     "text": [
      "[[1643  925]\n",
      " [1644  927]\n",
      " [1644  928]\n",
      " [1643  928]]\n",
      "{'les': False, 'flood': True, 'loan': True}\n"
     ]
    },
    {
     "name": "stderr",
     "output_type": "stream",
     "text": [
      "\r",
      " 50%|████████████████████████████████████████                                        | 240/480 [32:16<38:23,  9.60s/it]"
     ]
    },
    {
     "name": "stdout",
     "output_type": "stream",
     "text": [
      "[[1740  852]\n",
      " [1749  855]\n",
      " [1721  886]]\n",
      "{'les': True, 'flood': True, 'loan': True}\n"
     ]
    },
    {
     "name": "stderr",
     "output_type": "stream",
     "text": [
      "\r",
      " 50%|████████████████████████████████████████▏                                       | 241/480 [32:27<40:11, 10.09s/it]"
     ]
    },
    {
     "name": "stdout",
     "output_type": "stream",
     "text": [
      "[[1763  854]\n",
      " [1766  855]\n",
      " [1750  882]]\n",
      "{'les': True, 'flood': True, 'loan': True}\n"
     ]
    },
    {
     "name": "stderr",
     "output_type": "stream",
     "text": [
      "\r",
      " 50%|████████████████████████████████████████▎                                       | 242/480 [32:39<41:24, 10.44s/it]"
     ]
    },
    {
     "name": "stdout",
     "output_type": "stream",
     "text": [
      "[[1755  177]\n",
      " [1756  178]\n",
      " [1754  179]\n",
      " [1753  178]]\n",
      "{'les': True, 'flood': False, 'loan': False}\n"
     ]
    },
    {
     "name": "stderr",
     "output_type": "stream",
     "text": [
      "\r",
      " 51%|████████████████████████████████████████▌                                       | 243/480 [32:50<42:21, 10.72s/it]"
     ]
    },
    {
     "name": "stdout",
     "output_type": "stream",
     "text": [
      "[[1757  231]\n",
      " [1759  231]\n",
      " [1758  233]]\n",
      "{'les': True, 'flood': True, 'loan': True}\n"
     ]
    },
    {
     "name": "stderr",
     "output_type": "stream",
     "text": [
      "\r",
      " 51%|████████████████████████████████████████▋                                       | 244/480 [33:01<42:20, 10.76s/it]"
     ]
    },
    {
     "name": "stdout",
     "output_type": "stream",
     "text": [
      "[[1761 1516]\n",
      " [1762 1516]\n",
      " [1761 1520]]\n",
      "{'les': True, 'flood': True, 'loan': True}\n"
     ]
    },
    {
     "name": "stderr",
     "output_type": "stream",
     "text": [
      "\r",
      " 51%|████████████████████████████████████████▊                                       | 245/480 [33:12<42:44, 10.91s/it]"
     ]
    },
    {
     "name": "stdout",
     "output_type": "stream",
     "text": [
      "[[1771  863]\n",
      " [1783  866]\n",
      " [1781  866]]\n",
      "{'les': True, 'flood': True, 'loan': True}\n"
     ]
    },
    {
     "name": "stderr",
     "output_type": "stream",
     "text": [
      "\r",
      " 51%|█████████████████████████████████████████                                       | 246/480 [33:18<36:39,  9.40s/it]"
     ]
    },
    {
     "name": "stdout",
     "output_type": "stream",
     "text": [
      "[[1775  274]\n",
      " [1774  276]\n",
      " [1773  275]]\n",
      "{'les': True, 'flood': True, 'loan': True}\n"
     ]
    },
    {
     "name": "stderr",
     "output_type": "stream",
     "text": [
      "\r",
      " 51%|█████████████████████████████████████████▏                                      | 247/480 [33:24<32:35,  8.39s/it]"
     ]
    },
    {
     "name": "stdout",
     "output_type": "stream",
     "text": [
      "[[1780  846]\n",
      " [1780  848]\n",
      " [1775  855]]\n",
      "{'les': True, 'flood': True, 'loan': True}\n",
      "<class 'Exception'>\n",
      "('The input points are located on the same line. No convex hull is found!',)\n",
      "<class 'Exception'>\n",
      "('Not enough points are found for convex hull. Please check your input and other information',)\n",
      "<class 'Exception'>\n",
      "('The input points are located on the same line. No convex hull is found!',)\n",
      "<class 'Exception'>\n",
      "('Not enough points are found for convex hull. Please check your input and other information',)\n",
      "<class 'Exception'>\n",
      "('The input points are located on the same line. No convex hull is found!',)\n",
      "<class 'Exception'>\n",
      "('Not enough points are found for convex hull. Please check your input and other information',)\n"
     ]
    },
    {
     "name": "stderr",
     "output_type": "stream",
     "text": [
      "\r",
      " 52%|█████████████████████████████████████████▎                                      | 248/480 [33:30<29:23,  7.60s/it]"
     ]
    },
    {
     "name": "stdout",
     "output_type": "stream",
     "text": [
      "None\n",
      "{'les': True, 'flood': True, 'loan': True}\n"
     ]
    },
    {
     "name": "stderr",
     "output_type": "stream",
     "text": [
      "\r",
      " 52%|█████████████████████████████████████████▌                                      | 249/480 [33:36<27:28,  7.14s/it]"
     ]
    },
    {
     "name": "stdout",
     "output_type": "stream",
     "text": [
      "[[1782  154]\n",
      " [1782  155]\n",
      " [1779  155]]\n",
      "{'les': False, 'flood': False, 'loan': False}\n"
     ]
    },
    {
     "name": "stderr",
     "output_type": "stream",
     "text": [
      "\r",
      " 52%|█████████████████████████████████████████▋                                      | 250/480 [33:47<32:10,  8.39s/it]"
     ]
    },
    {
     "name": "stdout",
     "output_type": "stream",
     "text": [
      "[[1790  161]\n",
      " [1793  163]\n",
      " [1791  163]]\n",
      "{'les': False, 'flood': False, 'loan': False}\n",
      "<class 'Exception'>\n",
      "('The input points are located on the same line. No convex hull is found!',)\n",
      "<class 'Exception'>\n",
      "('The input points are located on the same line. No convex hull is found!',)\n",
      "<class 'Exception'>\n",
      "('The input points are located on the same line. No convex hull is found!',)\n"
     ]
    },
    {
     "name": "stderr",
     "output_type": "stream",
     "text": [
      "\r",
      " 52%|█████████████████████████████████████████▊                                      | 251/480 [33:58<35:12,  9.22s/it]"
     ]
    },
    {
     "name": "stdout",
     "output_type": "stream",
     "text": [
      "[[1796 1226]\n",
      " [1799 1226]\n",
      " [1798 1227]]\n",
      "{'les': True, 'flood': True, 'loan': True}\n"
     ]
    },
    {
     "name": "stderr",
     "output_type": "stream",
     "text": [
      "\r",
      " 52%|██████████████████████████████████████████                                      | 252/480 [34:09<37:11,  9.79s/it]"
     ]
    },
    {
     "name": "stdout",
     "output_type": "stream",
     "text": [
      "[[1798 1222]\n",
      " [1799 1222]\n",
      " [1799 1224]]\n",
      "{'les': True, 'flood': True, 'loan': True}\n"
     ]
    },
    {
     "name": "stderr",
     "output_type": "stream",
     "text": [
      "\r",
      " 53%|██████████████████████████████████████████▏                                     | 253/480 [34:21<38:46, 10.25s/it]"
     ]
    },
    {
     "name": "stdout",
     "output_type": "stream",
     "text": [
      "[[1801  843]\n",
      " [1803  844]\n",
      " [1804  856]]\n",
      "{'les': True, 'flood': True, 'loan': True}\n"
     ]
    },
    {
     "name": "stderr",
     "output_type": "stream",
     "text": [
      "\r",
      " 53%|██████████████████████████████████████████▎                                     | 254/480 [34:27<33:51,  8.99s/it]"
     ]
    },
    {
     "name": "stdout",
     "output_type": "stream",
     "text": [
      "[[1804  844]\n",
      " [1811  867]\n",
      " [1809  867]]\n",
      "{'les': True, 'flood': True, 'loan': True}\n"
     ]
    },
    {
     "name": "stderr",
     "output_type": "stream",
     "text": [
      "\r",
      " 53%|██████████████████████████████████████████▌                                     | 255/480 [34:38<36:20,  9.69s/it]"
     ]
    },
    {
     "name": "stdout",
     "output_type": "stream",
     "text": [
      "[[1819  766]\n",
      " [1820  765]\n",
      " [1818  769]\n",
      " [1810  776]]\n",
      "{'les': True, 'flood': False, 'loan': False}\n"
     ]
    },
    {
     "name": "stderr",
     "output_type": "stream",
     "text": [
      "\r",
      " 53%|██████████████████████████████████████████▋                                     | 256/480 [34:46<34:08,  9.14s/it]"
     ]
    },
    {
     "name": "stdout",
     "output_type": "stream",
     "text": [
      "[[1812  326]\n",
      " [1816  332]\n",
      " [1813  331]]\n",
      "{'les': True, 'flood': False, 'loan': False}\n"
     ]
    },
    {
     "name": "stderr",
     "output_type": "stream",
     "text": [
      "\r",
      " 54%|██████████████████████████████████████████▊                                     | 257/480 [34:57<36:19,  9.78s/it]"
     ]
    },
    {
     "name": "stdout",
     "output_type": "stream",
     "text": [
      "[[1815  911]\n",
      " [1828  913]\n",
      " [1826  913]]\n",
      "{'les': False, 'flood': True, 'loan': True}\n"
     ]
    },
    {
     "name": "stderr",
     "output_type": "stream",
     "text": [
      "\r",
      " 54%|███████████████████████████████████████████                                     | 258/480 [35:04<32:17,  8.73s/it]"
     ]
    },
    {
     "name": "stdout",
     "output_type": "stream",
     "text": [
      "[[1819  891]\n",
      " [1819  892]\n",
      " [1818  893]\n",
      " [1817  893]]\n",
      "{'les': True, 'flood': True, 'loan': True}\n"
     ]
    },
    {
     "name": "stderr",
     "output_type": "stream",
     "text": [
      "\r",
      " 54%|███████████████████████████████████████████▏                                    | 259/480 [35:15<35:12,  9.56s/it]"
     ]
    },
    {
     "name": "stdout",
     "output_type": "stream",
     "text": [
      "[[1851  189]\n",
      " [1852  188]\n",
      " [1851  190]\n",
      " [1848  194]]\n",
      "{'les': True, 'flood': True, 'loan': True}\n"
     ]
    },
    {
     "name": "stderr",
     "output_type": "stream",
     "text": [
      "\r",
      " 54%|███████████████████████████████████████████▎                                    | 260/480 [35:26<36:38,  9.99s/it]"
     ]
    },
    {
     "name": "stdout",
     "output_type": "stream",
     "text": [
      "[[1851  863]\n",
      " [1856  866]\n",
      " [1852  865]]\n",
      "{'les': False, 'flood': True, 'loan': True}\n"
     ]
    },
    {
     "name": "stderr",
     "output_type": "stream",
     "text": [
      "\r",
      " 54%|███████████████████████████████████████████▌                                    | 261/480 [35:37<37:55, 10.39s/it]"
     ]
    },
    {
     "name": "stdout",
     "output_type": "stream",
     "text": [
      "[[1865  641]\n",
      " [1866  641]\n",
      " [1866  646]]\n",
      "{'les': True, 'flood': True, 'loan': True}\n"
     ]
    },
    {
     "name": "stderr",
     "output_type": "stream",
     "text": [
      "\r",
      " 55%|███████████████████████████████████████████▋                                    | 262/480 [35:49<38:44, 10.66s/it]"
     ]
    },
    {
     "name": "stdout",
     "output_type": "stream",
     "text": [
      "[[1865  647]\n",
      " [1866  647]\n",
      " [1866  649]]\n",
      "{'les': True, 'flood': True, 'loan': True}\n"
     ]
    },
    {
     "name": "stderr",
     "output_type": "stream",
     "text": [
      "\r",
      " 55%|███████████████████████████████████████████▊                                    | 263/480 [36:00<39:31, 10.93s/it]"
     ]
    },
    {
     "name": "stdout",
     "output_type": "stream",
     "text": [
      "[[1867  636]\n",
      " [1869  637]\n",
      " [1869  638]\n",
      " [1868  638]]\n",
      "{'les': False, 'flood': False, 'loan': False}\n",
      "<class 'Exception'>\n",
      "('The input points are located on the same line. No convex hull is found!',)\n",
      "<class 'Exception'>\n",
      "('The input points are located on the same line. No convex hull is found!',)\n",
      "<class 'Exception'>\n",
      "('The input points are located on the same line. No convex hull is found!',)\n"
     ]
    },
    {
     "name": "stderr",
     "output_type": "stream",
     "text": [
      "\r",
      " 55%|████████████████████████████████████████████                                    | 264/480 [36:11<39:42, 11.03s/it]"
     ]
    },
    {
     "name": "stdout",
     "output_type": "stream",
     "text": [
      "[[1868  639]\n",
      " [1871  639]\n",
      " [1870  640]]\n",
      "{'les': True, 'flood': True, 'loan': True}\n"
     ]
    },
    {
     "name": "stderr",
     "output_type": "stream",
     "text": [
      "\r",
      " 55%|████████████████████████████████████████████▏                                   | 265/480 [36:18<34:09,  9.53s/it]"
     ]
    },
    {
     "name": "stdout",
     "output_type": "stream",
     "text": [
      "[[1873  276]\n",
      " [1872  287]\n",
      " [1872  283]]\n",
      "{'les': False, 'flood': True, 'loan': True}\n"
     ]
    },
    {
     "name": "stderr",
     "output_type": "stream",
     "text": [
      "\r",
      " 55%|████████████████████████████████████████████▎                                   | 266/480 [36:29<36:00, 10.10s/it]"
     ]
    },
    {
     "name": "stdout",
     "output_type": "stream",
     "text": [
      "[[1880  645]\n",
      " [1881  645]\n",
      " [1880  646]\n",
      " [1877  646]]\n",
      "{'les': False, 'flood': False, 'loan': False}\n"
     ]
    },
    {
     "name": "stderr",
     "output_type": "stream",
     "text": [
      "\r",
      " 56%|████████████████████████████████████████████▌                                   | 267/480 [36:35<31:29,  8.87s/it]"
     ]
    },
    {
     "name": "stdout",
     "output_type": "stream",
     "text": [
      "[[1881  628]\n",
      " [1880  630]\n",
      " [1878  630]]\n",
      "{'les': True, 'flood': True, 'loan': True}\n",
      "<class 'Exception'>\n",
      "('The input points are located on the same line. No convex hull is found!',)\n",
      "<class 'Exception'>\n",
      "('Not enough points are found for convex hull. Please check your input and other information',)\n",
      "<class 'Exception'>\n",
      "('The input points are located on the same line. No convex hull is found!',)\n",
      "<class 'Exception'>\n",
      "('Not enough points are found for convex hull. Please check your input and other information',)\n",
      "<class 'Exception'>\n",
      "('The input points are located on the same line. No convex hull is found!',)\n",
      "<class 'Exception'>\n",
      "('Not enough points are found for convex hull. Please check your input and other information',)\n"
     ]
    },
    {
     "name": "stderr",
     "output_type": "stream",
     "text": [
      "\r",
      " 56%|████████████████████████████████████████████▋                                   | 268/480 [36:41<28:05,  7.95s/it]"
     ]
    },
    {
     "name": "stdout",
     "output_type": "stream",
     "text": [
      "None\n",
      "{'les': True, 'flood': True, 'loan': True}\n",
      "<class 'Exception'>\n",
      "('The input points are located on the same line. No convex hull is found!',)\n",
      "<class 'Exception'>\n",
      "('Not enough points are found for convex hull. Please check your input and other information',)\n",
      "<class 'Exception'>\n",
      "('The input points are located on the same line. No convex hull is found!',)\n",
      "<class 'Exception'>\n",
      "('Not enough points are found for convex hull. Please check your input and other information',)\n",
      "<class 'Exception'>\n",
      "('The input points are located on the same line. No convex hull is found!',)\n",
      "<class 'Exception'>\n",
      "('Not enough points are found for convex hull. Please check your input and other information',)\n"
     ]
    },
    {
     "name": "stderr",
     "output_type": "stream",
     "text": [
      "\r",
      " 56%|████████████████████████████████████████████▊                                   | 269/480 [36:47<25:40,  7.30s/it]"
     ]
    },
    {
     "name": "stdout",
     "output_type": "stream",
     "text": [
      "None\n",
      "{'les': True, 'flood': True, 'loan': True}\n"
     ]
    },
    {
     "name": "stderr",
     "output_type": "stream",
     "text": [
      "\r",
      " 56%|█████████████████████████████████████████████                                   | 270/480 [37:01<32:48,  9.37s/it]"
     ]
    },
    {
     "name": "stdout",
     "output_type": "stream",
     "text": [
      "[[1900  842]\n",
      " [1903  843]\n",
      " [1904  844]\n",
      " [1903  844]]\n",
      "{'les': False, 'flood': True, 'loan': True}\n"
     ]
    },
    {
     "name": "stderr",
     "output_type": "stream",
     "text": [
      "\r",
      " 56%|█████████████████████████████████████████████▏                                  | 271/480 [37:07<29:31,  8.48s/it]"
     ]
    },
    {
     "name": "stdout",
     "output_type": "stream",
     "text": [
      "[[1903  834]\n",
      " [1903  836]\n",
      " [1901  841]\n",
      " [1901  837]]\n",
      "{'les': False, 'flood': True, 'loan': True}\n"
     ]
    },
    {
     "name": "stderr",
     "output_type": "stream",
     "text": [
      "\r",
      " 57%|█████████████████████████████████████████████▎                                  | 272/480 [37:17<31:15,  9.02s/it]"
     ]
    },
    {
     "name": "stdout",
     "output_type": "stream",
     "text": [
      "[[1922 1789]\n",
      " [1924 1789]\n",
      " [1923 1791]]\n",
      "{'les': True, 'flood': True, 'loan': True}\n"
     ]
    },
    {
     "name": "stderr",
     "output_type": "stream",
     "text": [
      "\r",
      " 57%|█████████████████████████████████████████████▌                                  | 273/480 [37:23<28:02,  8.13s/it]"
     ]
    },
    {
     "name": "stdout",
     "output_type": "stream",
     "text": [
      "[[1963  243]\n",
      " [1963  245]\n",
      " [1962  245]]\n",
      "{'les': True, 'flood': True, 'loan': True}\n"
     ]
    },
    {
     "name": "stderr",
     "output_type": "stream",
     "text": [
      "\r",
      " 57%|█████████████████████████████████████████████▋                                  | 274/480 [37:30<25:47,  7.51s/it]"
     ]
    },
    {
     "name": "stdout",
     "output_type": "stream",
     "text": [
      "[[1964  238]\n",
      " [1964  249]\n",
      " [1963  246]]\n",
      "{'les': False, 'flood': False, 'loan': False}\n"
     ]
    },
    {
     "name": "stderr",
     "output_type": "stream",
     "text": [
      "\r",
      " 57%|█████████████████████████████████████████████▊                                  | 275/480 [37:41<29:55,  8.76s/it]"
     ]
    },
    {
     "name": "stdout",
     "output_type": "stream",
     "text": [
      "[[1968  221]\n",
      " [1970  221]\n",
      " [1970  223]\n",
      " [1969  223]]\n",
      "{'les': False, 'flood': False, 'loan': False}\n"
     ]
    },
    {
     "name": "stderr",
     "output_type": "stream",
     "text": [
      "\r",
      " 57%|██████████████████████████████████████████████                                  | 276/480 [37:53<32:41,  9.61s/it]"
     ]
    },
    {
     "name": "stdout",
     "output_type": "stream",
     "text": [
      "[[1969  196]\n",
      " [1970  195]\n",
      " [1970  196]\n",
      " [1969  207]]\n",
      "{'les': True, 'flood': True, 'loan': True}\n"
     ]
    },
    {
     "name": "stderr",
     "output_type": "stream",
     "text": [
      "\r",
      " 58%|██████████████████████████████████████████████▏                                 | 277/480 [37:59<28:56,  8.55s/it]"
     ]
    },
    {
     "name": "stdout",
     "output_type": "stream",
     "text": [
      "[[1971  192]\n",
      " [1971  200]\n",
      " [1969  204]]\n",
      "{'les': True, 'flood': True, 'loan': True}\n"
     ]
    },
    {
     "name": "stderr",
     "output_type": "stream",
     "text": [
      "\r",
      " 58%|██████████████████████████████████████████████▎                                 | 278/480 [38:11<31:56,  9.49s/it]"
     ]
    },
    {
     "name": "stdout",
     "output_type": "stream",
     "text": [
      "[[1976  166]\n",
      " [1978  166]\n",
      " [1978  167]\n",
      " [1977  167]]\n",
      "{'les': True, 'flood': False, 'loan': False}\n"
     ]
    },
    {
     "name": "stderr",
     "output_type": "stream",
     "text": [
      "\r",
      " 58%|██████████████████████████████████████████████▌                                 | 279/480 [38:22<33:33, 10.02s/it]"
     ]
    },
    {
     "name": "stdout",
     "output_type": "stream",
     "text": [
      "[[1977  162]\n",
      " [1978  160]\n",
      " [1978  163]\n",
      " [1977  165]]\n",
      "{'les': True, 'flood': True, 'loan': True}\n"
     ]
    },
    {
     "name": "stderr",
     "output_type": "stream",
     "text": [
      "\r",
      " 58%|██████████████████████████████████████████████▋                                 | 280/480 [38:32<33:29, 10.05s/it]"
     ]
    },
    {
     "name": "stdout",
     "output_type": "stream",
     "text": [
      "[[2073 1867]\n",
      " [2074 1867]\n",
      " [2074 1869]]\n",
      "{'les': True, 'flood': True, 'loan': True}\n"
     ]
    },
    {
     "name": "stderr",
     "output_type": "stream",
     "text": [
      "\r",
      " 59%|██████████████████████████████████████████████▊                                 | 281/480 [38:39<30:20,  9.15s/it]"
     ]
    },
    {
     "name": "stdout",
     "output_type": "stream",
     "text": [
      "[[2203  420]\n",
      " [2206  428]\n",
      " [2206  429]]\n",
      "{'les': True, 'flood': True, 'loan': True}\n"
     ]
    },
    {
     "name": "stderr",
     "output_type": "stream",
     "text": [
      "\r",
      " 59%|███████████████████████████████████████████████                                 | 282/480 [38:50<32:27,  9.83s/it]"
     ]
    },
    {
     "name": "stdout",
     "output_type": "stream",
     "text": [
      "[[2223  455]\n",
      " [2225  456]\n",
      " [2224  457]]\n",
      "{'les': True, 'flood': True, 'loan': True}\n"
     ]
    },
    {
     "name": "stderr",
     "output_type": "stream",
     "text": [
      "\r",
      " 59%|███████████████████████████████████████████████▏                                | 283/480 [39:01<32:47,  9.99s/it]"
     ]
    },
    {
     "name": "stdout",
     "output_type": "stream",
     "text": [
      "[[2249 1767]\n",
      " [2250 1767]\n",
      " [2250 1768]\n",
      " [2249 1770]]\n",
      "{'les': True, 'flood': True, 'loan': True}\n"
     ]
    },
    {
     "name": "stderr",
     "output_type": "stream",
     "text": [
      "\r",
      " 59%|███████████████████████████████████████████████▎                                | 284/480 [39:07<28:49,  8.82s/it]"
     ]
    },
    {
     "name": "stdout",
     "output_type": "stream",
     "text": [
      "[[2250 1770]\n",
      " [2250 1772]\n",
      " [2249 1771]]\n",
      "{'les': True, 'flood': True, 'loan': True}\n"
     ]
    },
    {
     "name": "stderr",
     "output_type": "stream",
     "text": [
      "\r",
      " 59%|███████████████████████████████████████████████▌                                | 285/480 [39:14<27:23,  8.43s/it]"
     ]
    },
    {
     "name": "stdout",
     "output_type": "stream",
     "text": [
      "[[2304 2371]\n",
      " [2308 2371]\n",
      " [2305 2373]]\n",
      "{'les': True, 'flood': True, 'loan': True}\n"
     ]
    },
    {
     "name": "stderr",
     "output_type": "stream",
     "text": [
      "\r",
      " 60%|███████████████████████████████████████████████▋                                | 286/480 [39:23<27:15,  8.43s/it]"
     ]
    },
    {
     "name": "stdout",
     "output_type": "stream",
     "text": [
      "[[2306 2372]\n",
      " [2307 2372]\n",
      " [2307 2374]]\n",
      "{'les': True, 'flood': True, 'loan': True}\n"
     ]
    },
    {
     "name": "stderr",
     "output_type": "stream",
     "text": [
      "\r",
      " 60%|███████████████████████████████████████████████▊                                | 287/480 [39:30<25:43,  8.00s/it]"
     ]
    },
    {
     "name": "stdout",
     "output_type": "stream",
     "text": [
      "[[2310 2383]\n",
      " [2312 2387]\n",
      " [2311 2388]]\n",
      "{'les': True, 'flood': True, 'loan': True}\n"
     ]
    },
    {
     "name": "stderr",
     "output_type": "stream",
     "text": [
      "\r",
      " 60%|████████████████████████████████████████████████                                | 288/480 [39:37<24:49,  7.76s/it]"
     ]
    },
    {
     "name": "stdout",
     "output_type": "stream",
     "text": [
      "[[2310 2400]\n",
      " [2312 2400]\n",
      " [2314 2402]]\n",
      "{'les': True, 'flood': True, 'loan': True}\n"
     ]
    },
    {
     "name": "stderr",
     "output_type": "stream",
     "text": [
      "\r",
      " 60%|████████████████████████████████████████████████▏                               | 289/480 [39:43<23:26,  7.37s/it]"
     ]
    },
    {
     "name": "stdout",
     "output_type": "stream",
     "text": [
      "[[2314 2388]\n",
      " [2314 2389]\n",
      " [2313 2390]\n",
      " [2312 2389]]\n",
      "{'les': True, 'flood': True, 'loan': True}\n"
     ]
    },
    {
     "name": "stderr",
     "output_type": "stream",
     "text": [
      "\r",
      " 60%|████████████████████████████████████████████████▎                               | 290/480 [39:51<23:13,  7.33s/it]"
     ]
    },
    {
     "name": "stdout",
     "output_type": "stream",
     "text": [
      "[[2314 2393]\n",
      " [2315 2393]\n",
      " [2313 2395]\n",
      " [2312 2394]]\n",
      "{'les': False, 'flood': False, 'loan': False}\n"
     ]
    },
    {
     "name": "stderr",
     "output_type": "stream",
     "text": [
      "\r",
      " 61%|████████████████████████████████████████████████▌                               | 291/480 [39:58<22:45,  7.22s/it]"
     ]
    },
    {
     "name": "stdout",
     "output_type": "stream",
     "text": [
      "[[2316 2395]\n",
      " [2315 2396]\n",
      " [2313 2396]]\n",
      "{'les': True, 'flood': True, 'loan': True}\n"
     ]
    },
    {
     "name": "stderr",
     "output_type": "stream",
     "text": [
      "\r",
      " 61%|████████████████████████████████████████████████▋                               | 292/480 [40:04<21:52,  6.98s/it]"
     ]
    },
    {
     "name": "stdout",
     "output_type": "stream",
     "text": [
      "[[2315 2394]\n",
      " [2317 2397]\n",
      " [2318 2399]\n",
      " [2316 2398]]\n",
      "{'les': True, 'flood': True, 'loan': True}\n"
     ]
    },
    {
     "name": "stderr",
     "output_type": "stream",
     "text": [
      "\r",
      " 61%|████████████████████████████████████████████████▊                               | 293/480 [40:11<22:01,  7.06s/it]"
     ]
    },
    {
     "name": "stdout",
     "output_type": "stream",
     "text": [
      "[[2317 2389]\n",
      " [2319 2389]\n",
      " [2318 2390]\n",
      " [2316 2391]]\n",
      "{'les': True, 'flood': True, 'loan': True}\n"
     ]
    },
    {
     "name": "stderr",
     "output_type": "stream",
     "text": [
      "\r",
      " 61%|█████████████████████████████████████████████████                               | 294/480 [40:17<21:00,  6.78s/it]"
     ]
    },
    {
     "name": "stdout",
     "output_type": "stream",
     "text": [
      "[[2319 2431]\n",
      " [2319 2432]\n",
      " [2316 2435]]\n",
      "{'les': True, 'flood': True, 'loan': True}\n"
     ]
    },
    {
     "name": "stderr",
     "output_type": "stream",
     "text": [
      "\r",
      " 61%|█████████████████████████████████████████████████▏                              | 295/480 [40:28<23:56,  7.76s/it]"
     ]
    },
    {
     "name": "stdout",
     "output_type": "stream",
     "text": [
      "[[2319 2409]\n",
      " [2321 2407]\n",
      " [2321 2411]\n",
      " [2320 2412]]\n",
      "{'les': False, 'flood': False, 'loan': False}\n"
     ]
    },
    {
     "name": "stderr",
     "output_type": "stream",
     "text": [
      "\r",
      " 62%|█████████████████████████████████████████████████▎                              | 296/480 [40:35<23:14,  7.58s/it]"
     ]
    },
    {
     "name": "stdout",
     "output_type": "stream",
     "text": [
      "[[2323 2406]\n",
      " [2324 2406]\n",
      " [2321 2410]]\n",
      "{'les': True, 'flood': True, 'loan': True}\n"
     ]
    },
    {
     "name": "stderr",
     "output_type": "stream",
     "text": [
      "\r",
      " 62%|█████████████████████████████████████████████████▌                              | 297/480 [40:41<21:47,  7.15s/it]"
     ]
    },
    {
     "name": "stdout",
     "output_type": "stream",
     "text": [
      "[[2322 2439]\n",
      " [2323 2440]\n",
      " [2323 2441]\n",
      " [2322 2443]]\n",
      "{'les': True, 'flood': True, 'loan': True}\n",
      "<class 'Exception'>\n",
      "('The input points are located on the same line. No convex hull is found!',)\n",
      "<class 'Exception'>\n",
      "('The input points are located on the same line. No convex hull is found!',)\n",
      "<class 'Exception'>\n",
      "('The input points are located on the same line. No convex hull is found!',)\n"
     ]
    },
    {
     "name": "stderr",
     "output_type": "stream",
     "text": [
      "\r",
      " 62%|█████████████████████████████████████████████████▋                              | 298/480 [40:48<21:34,  7.11s/it]"
     ]
    },
    {
     "name": "stdout",
     "output_type": "stream",
     "text": [
      "[[2331 2441]\n",
      " [2334 2441]\n",
      " [2333 2443]]\n",
      "{'les': True, 'flood': True, 'loan': True}\n"
     ]
    },
    {
     "name": "stderr",
     "output_type": "stream",
     "text": [
      "\r",
      " 62%|█████████████████████████████████████████████████▊                              | 299/480 [40:55<21:20,  7.08s/it]"
     ]
    },
    {
     "name": "stdout",
     "output_type": "stream",
     "text": [
      "[[2332 2440]\n",
      " [2334 2440]\n",
      " [2335 2443]\n",
      " [2333 2445]]\n",
      "{'les': True, 'flood': True, 'loan': True}\n"
     ]
    },
    {
     "name": "stderr",
     "output_type": "stream",
     "text": [
      "\r",
      " 62%|██████████████████████████████████████████████████                              | 300/480 [41:02<20:56,  6.98s/it]"
     ]
    },
    {
     "name": "stdout",
     "output_type": "stream",
     "text": [
      "[[2341 2401]\n",
      " [2341 2402]\n",
      " [2340 2404]\n",
      " [2339 2404]]\n",
      "{'les': True, 'flood': True, 'loan': True}\n"
     ]
    },
    {
     "name": "stderr",
     "output_type": "stream",
     "text": [
      "\r",
      " 63%|██████████████████████████████████████████████████▏                             | 301/480 [41:08<20:02,  6.72s/it]"
     ]
    },
    {
     "name": "stdout",
     "output_type": "stream",
     "text": [
      "[[2340 2545]\n",
      " [2340 2547]\n",
      " [2339 2546]]\n",
      "{'les': True, 'flood': True, 'loan': True}\n"
     ]
    },
    {
     "name": "stderr",
     "output_type": "stream",
     "text": [
      "\r",
      " 63%|██████████████████████████████████████████████████▎                             | 302/480 [41:14<19:45,  6.66s/it]"
     ]
    },
    {
     "name": "stdout",
     "output_type": "stream",
     "text": [
      "[[2340 2552]\n",
      " [2341 2552]\n",
      " [2342 2555]\n",
      " [2341 2554]]\n",
      "{'les': False, 'flood': False, 'loan': False}\n"
     ]
    },
    {
     "name": "stderr",
     "output_type": "stream",
     "text": [
      "\r",
      " 63%|██████████████████████████████████████████████████▌                             | 303/480 [41:21<19:30,  6.61s/it]"
     ]
    },
    {
     "name": "stdout",
     "output_type": "stream",
     "text": [
      "[[2342 2551]\n",
      " [2342 2553]\n",
      " [2341 2556]\n",
      " [2340 2554]]\n",
      "{'les': True, 'flood': True, 'loan': True}\n"
     ]
    },
    {
     "name": "stderr",
     "output_type": "stream",
     "text": [
      "\r",
      " 63%|██████████████████████████████████████████████████▋                             | 304/480 [41:27<18:42,  6.38s/it]"
     ]
    },
    {
     "name": "stdout",
     "output_type": "stream",
     "text": [
      "[[2344 2553]\n",
      " [2346 2554]\n",
      " [2342 2557]]\n",
      "{'les': True, 'flood': True, 'loan': True}\n"
     ]
    },
    {
     "name": "stderr",
     "output_type": "stream",
     "text": [
      "\r",
      " 64%|██████████████████████████████████████████████████▊                             | 305/480 [41:33<18:41,  6.41s/it]"
     ]
    },
    {
     "name": "stdout",
     "output_type": "stream",
     "text": [
      "[[2345 2555]\n",
      " [2346 2555]\n",
      " [2345 2557]\n",
      " [2343 2556]]\n",
      "{'les': False, 'flood': False, 'loan': False}\n"
     ]
    },
    {
     "name": "stderr",
     "output_type": "stream",
     "text": [
      "\r",
      " 64%|███████████████████████████████████████████████████                             | 306/480 [41:39<18:37,  6.42s/it]"
     ]
    },
    {
     "name": "stdout",
     "output_type": "stream",
     "text": [
      "[[2348 2558]\n",
      " [2350 2558]\n",
      " [2348 2559]\n",
      " [2345 2559]]\n",
      "{'les': True, 'flood': False, 'loan': False}\n"
     ]
    },
    {
     "name": "stderr",
     "output_type": "stream",
     "text": [
      "\r",
      " 64%|███████████████████████████████████████████████████▏                            | 307/480 [41:45<18:05,  6.28s/it]"
     ]
    },
    {
     "name": "stdout",
     "output_type": "stream",
     "text": [
      "[[2347 2545]\n",
      " [2348 2546]\n",
      " [2347 2549]]\n",
      "{'les': True, 'flood': True, 'loan': True}\n"
     ]
    },
    {
     "name": "stderr",
     "output_type": "stream",
     "text": [
      "\r",
      " 64%|███████████████████████████████████████████████████▎                            | 308/480 [41:55<21:06,  7.36s/it]"
     ]
    },
    {
     "name": "stdout",
     "output_type": "stream",
     "text": [
      "[[2349 2546]\n",
      " [2350 2545]\n",
      " [2349 2550]]\n",
      "{'les': True, 'flood': False, 'loan': False}\n"
     ]
    },
    {
     "name": "stderr",
     "output_type": "stream",
     "text": [
      "\r",
      " 64%|███████████████████████████████████████████████████▌                            | 309/480 [42:01<19:58,  7.01s/it]"
     ]
    },
    {
     "name": "stdout",
     "output_type": "stream",
     "text": [
      "[[2352 2551]\n",
      " [2351 2556]\n",
      " [2349 2554]]\n",
      "{'les': True, 'flood': True, 'loan': True}\n",
      "<class 'Exception'>\n",
      "('The input points are located on the same line. No convex hull is found!',)\n",
      "<class 'Exception'>\n",
      "('The input points are located on the same line. No convex hull is found!',)\n",
      "<class 'Exception'>\n",
      "('The input points are located on the same line. No convex hull is found!',)\n"
     ]
    },
    {
     "name": "stderr",
     "output_type": "stream",
     "text": [
      "\r",
      " 65%|███████████████████████████████████████████████████▋                            | 310/480 [42:08<19:22,  6.84s/it]"
     ]
    },
    {
     "name": "stdout",
     "output_type": "stream",
     "text": [
      "[[2349 2561]\n",
      " [2351 2561]\n",
      " [2350 2562]]\n",
      "{'les': True, 'flood': True, 'loan': True}\n"
     ]
    },
    {
     "name": "stderr",
     "output_type": "stream",
     "text": [
      "\r",
      " 65%|███████████████████████████████████████████████████▊                            | 311/480 [42:14<18:39,  6.62s/it]"
     ]
    },
    {
     "name": "stdout",
     "output_type": "stream",
     "text": [
      "[[2355 2552]\n",
      " [2355 2554]\n",
      " [2352 2556]]\n",
      "{'les': True, 'flood': True, 'loan': True}\n"
     ]
    },
    {
     "name": "stderr",
     "output_type": "stream",
     "text": [
      "\r",
      " 65%|████████████████████████████████████████████████████                            | 312/480 [42:25<21:52,  7.81s/it]"
     ]
    },
    {
     "name": "stdout",
     "output_type": "stream",
     "text": [
      "[[2358 2555]\n",
      " [2359 2553]\n",
      " [2358 2558]\n",
      " [2356 2563]]\n",
      "{'les': False, 'flood': False, 'loan': False}\n"
     ]
    },
    {
     "name": "stderr",
     "output_type": "stream",
     "text": [
      "\r",
      " 65%|████████████████████████████████████████████████████▏                           | 313/480 [42:31<20:19,  7.31s/it]"
     ]
    },
    {
     "name": "stdout",
     "output_type": "stream",
     "text": [
      "[[2360 2541]\n",
      " [2360 2542]\n",
      " [2357 2544]]\n",
      "{'les': True, 'flood': True, 'loan': True}\n"
     ]
    },
    {
     "name": "stderr",
     "output_type": "stream",
     "text": [
      "\r",
      " 65%|████████████████████████████████████████████████████▎                           | 314/480 [42:37<19:31,  7.06s/it]"
     ]
    },
    {
     "name": "stdout",
     "output_type": "stream",
     "text": [
      "[[2361 2553]\n",
      " [2362 2553]\n",
      " [2362 2554]\n",
      " [2358 2560]]\n",
      "{'les': True, 'flood': True, 'loan': True}\n"
     ]
    },
    {
     "name": "stderr",
     "output_type": "stream",
     "text": [
      "\r",
      " 66%|████████████████████████████████████████████████████▌                           | 315/480 [42:44<18:56,  6.89s/it]"
     ]
    },
    {
     "name": "stdout",
     "output_type": "stream",
     "text": [
      "[[2360 2558]\n",
      " [2360 2559]\n",
      " [2359 2563]\n",
      " [2358 2562]]\n",
      "{'les': True, 'flood': True, 'loan': True}\n"
     ]
    },
    {
     "name": "stderr",
     "output_type": "stream",
     "text": [
      "\r",
      " 66%|████████████████████████████████████████████████████▋                           | 316/480 [42:50<18:26,  6.75s/it]"
     ]
    },
    {
     "name": "stdout",
     "output_type": "stream",
     "text": [
      "[[2361 2564]\n",
      " [2362 2564]\n",
      " [2358 2568]]\n",
      "{'les': True, 'flood': True, 'loan': True}\n"
     ]
    },
    {
     "name": "stderr",
     "output_type": "stream",
     "text": [
      "\r",
      " 66%|████████████████████████████████████████████████████▊                           | 317/480 [42:57<18:06,  6.67s/it]"
     ]
    },
    {
     "name": "stdout",
     "output_type": "stream",
     "text": [
      "[[2364 2562]\n",
      " [2364 2564]\n",
      " [2362 2567]\n",
      " [2358 2569]]\n",
      "{'les': True, 'flood': True, 'loan': True}\n"
     ]
    },
    {
     "name": "stderr",
     "output_type": "stream",
     "text": [
      "\r",
      " 66%|█████████████████████████████████████████████████████                           | 318/480 [43:03<17:48,  6.60s/it]"
     ]
    },
    {
     "name": "stdout",
     "output_type": "stream",
     "text": [
      "[[2360 2566]\n",
      " [2361 2566]\n",
      " [2361 2568]\n",
      " [2360 2570]]\n",
      "{'les': True, 'flood': True, 'loan': True}\n"
     ]
    },
    {
     "name": "stderr",
     "output_type": "stream",
     "text": [
      "\r",
      " 66%|█████████████████████████████████████████████████████▏                          | 319/480 [43:10<17:36,  6.56s/it]"
     ]
    },
    {
     "name": "stdout",
     "output_type": "stream",
     "text": [
      "[[2366 2532]\n",
      " [2366 2534]\n",
      " [2365 2535]\n",
      " [2361 2536]]\n",
      "{'les': True, 'flood': True, 'loan': True}\n"
     ]
    },
    {
     "name": "stderr",
     "output_type": "stream",
     "text": [
      "\r",
      " 67%|█████████████████████████████████████████████████████▎                          | 320/480 [43:16<17:12,  6.45s/it]"
     ]
    },
    {
     "name": "stdout",
     "output_type": "stream",
     "text": [
      "[[2365 2552]\n",
      " [2363 2560]\n",
      " [2361 2558]]\n",
      "{'les': True, 'flood': True, 'loan': True}\n"
     ]
    },
    {
     "name": "stderr",
     "output_type": "stream",
     "text": [
      "\r",
      " 67%|█████████████████████████████████████████████████████▌                          | 321/480 [43:22<17:06,  6.45s/it]"
     ]
    },
    {
     "name": "stdout",
     "output_type": "stream",
     "text": [
      "[[2367 2525]\n",
      " [2366 2527]\n",
      " [2364 2527]]\n",
      "{'les': True, 'flood': True, 'loan': True}\n"
     ]
    },
    {
     "name": "stderr",
     "output_type": "stream",
     "text": [
      "\r",
      " 67%|█████████████████████████████████████████████████████▋                          | 322/480 [43:28<16:43,  6.35s/it]"
     ]
    },
    {
     "name": "stdout",
     "output_type": "stream",
     "text": [
      "[[2367 2555]\n",
      " [2367 2556]\n",
      " [2364 2560]]\n",
      "{'les': True, 'flood': True, 'loan': True}\n"
     ]
    },
    {
     "name": "stderr",
     "output_type": "stream",
     "text": [
      "\r",
      " 67%|█████████████████████████████████████████████████████▊                          | 323/480 [43:34<16:25,  6.28s/it]"
     ]
    },
    {
     "name": "stdout",
     "output_type": "stream",
     "text": [
      "[[2369 2538]\n",
      " [2369 2542]\n",
      " [2365 2544]]\n",
      "{'les': True, 'flood': True, 'loan': True}\n"
     ]
    },
    {
     "name": "stderr",
     "output_type": "stream",
     "text": [
      "\r",
      " 68%|██████████████████████████████████████████████████████                          | 324/480 [43:42<17:34,  6.76s/it]"
     ]
    },
    {
     "name": "stdout",
     "output_type": "stream",
     "text": [
      "[[2365 2558]\n",
      " [2368 2557]\n",
      " [2367 2559]\n",
      " [2366 2559]]\n",
      "{'les': False, 'flood': False, 'loan': False}\n"
     ]
    },
    {
     "name": "stderr",
     "output_type": "stream",
     "text": [
      "\r",
      " 68%|██████████████████████████████████████████████████████▏                         | 325/480 [43:49<17:14,  6.67s/it]"
     ]
    },
    {
     "name": "stdout",
     "output_type": "stream",
     "text": [
      "[[2365 2560]\n",
      " [2366 2560]\n",
      " [2366 2561]\n",
      " [2365 2563]]\n",
      "{'les': True, 'flood': True, 'loan': True}\n"
     ]
    },
    {
     "name": "stderr",
     "output_type": "stream",
     "text": [
      "\r",
      " 68%|██████████████████████████████████████████████████████▎                         | 326/480 [43:55<16:57,  6.61s/it]"
     ]
    },
    {
     "name": "stdout",
     "output_type": "stream",
     "text": [
      "[[2367 2564]\n",
      " [2367 2567]\n",
      " [2366 2569]\n",
      " [2365 2569]]\n",
      "{'les': True, 'flood': True, 'loan': True}\n"
     ]
    },
    {
     "name": "stderr",
     "output_type": "stream",
     "text": [
      "\r",
      " 68%|██████████████████████████████████████████████████████▌                         | 327/480 [44:01<16:28,  6.46s/it]"
     ]
    },
    {
     "name": "stdout",
     "output_type": "stream",
     "text": [
      "[[2369 2525]\n",
      " [2369 2527]\n",
      " [2366 2529]]\n",
      "{'les': True, 'flood': True, 'loan': True}\n"
     ]
    },
    {
     "name": "stderr",
     "output_type": "stream",
     "text": [
      "\r",
      " 68%|██████████████████████████████████████████████████████▋                         | 328/480 [44:08<16:10,  6.38s/it]"
     ]
    },
    {
     "name": "stdout",
     "output_type": "stream",
     "text": [
      "[[2370 2558]\n",
      " [2369 2562]\n",
      " [2367 2563]]\n",
      "{'les': True, 'flood': True, 'loan': True}\n"
     ]
    },
    {
     "name": "stderr",
     "output_type": "stream",
     "text": [
      "\r",
      " 69%|██████████████████████████████████████████████████████▊                         | 329/480 [44:14<16:23,  6.51s/it]"
     ]
    },
    {
     "name": "stdout",
     "output_type": "stream",
     "text": [
      "[[2374 2541]\n",
      " [2373 2544]\n",
      " [2368 2552]\n",
      " [2371 2546]]\n",
      "{'les': False, 'flood': False, 'loan': False}\n"
     ]
    },
    {
     "name": "stderr",
     "output_type": "stream",
     "text": [
      "\r",
      " 69%|███████████████████████████████████████████████████████                         | 330/480 [44:24<18:44,  7.50s/it]"
     ]
    },
    {
     "name": "stdout",
     "output_type": "stream",
     "text": [
      "[[2371 2550]\n",
      " [2372 2549]\n",
      " [2371 2554]\n",
      " [2368 2555]]\n",
      "{'les': False, 'flood': False, 'loan': False}\n"
     ]
    },
    {
     "name": "stderr",
     "output_type": "stream",
     "text": [
      "\r",
      " 69%|███████████████████████████████████████████████████████▏                        | 331/480 [44:31<17:49,  7.18s/it]"
     ]
    },
    {
     "name": "stdout",
     "output_type": "stream",
     "text": [
      "[[2370 2597]\n",
      " [2370 2601]\n",
      " [2369 2602]\n",
      " [2368 2602]]\n",
      "{'les': True, 'flood': True, 'loan': True}\n"
     ]
    },
    {
     "name": "stderr",
     "output_type": "stream",
     "text": [
      "\r",
      " 69%|███████████████████████████████████████████████████████▎                        | 332/480 [44:37<17:10,  6.96s/it]"
     ]
    },
    {
     "name": "stdout",
     "output_type": "stream",
     "text": [
      "[[2371 2539]\n",
      " [2371 2540]\n",
      " [2370 2542]\n",
      " [2369 2543]]\n",
      "{'les': True, 'flood': True, 'loan': True}\n"
     ]
    },
    {
     "name": "stderr",
     "output_type": "stream",
     "text": [
      "\r",
      " 69%|███████████████████████████████████████████████████████▌                        | 333/480 [44:44<16:46,  6.85s/it]"
     ]
    },
    {
     "name": "stdout",
     "output_type": "stream",
     "text": [
      "[[2372 2547]\n",
      " [2373 2547]\n",
      " [2373 2550]\n",
      " [2369 2553]]\n",
      "{'les': True, 'flood': True, 'loan': True}\n"
     ]
    },
    {
     "name": "stderr",
     "output_type": "stream",
     "text": [
      "\r",
      " 70%|███████████████████████████████████████████████████████▋                        | 334/480 [44:50<16:26,  6.76s/it]"
     ]
    },
    {
     "name": "stdout",
     "output_type": "stream",
     "text": [
      "[[2372 2597]\n",
      " [2371 2599]\n",
      " [2369 2598]]\n",
      "{'les': True, 'flood': True, 'loan': True}\n"
     ]
    },
    {
     "name": "stderr",
     "output_type": "stream",
     "text": [
      "\r",
      " 70%|███████████████████████████████████████████████████████▊                        | 335/480 [44:57<16:06,  6.66s/it]"
     ]
    },
    {
     "name": "stdout",
     "output_type": "stream",
     "text": [
      "[[2372 2522]\n",
      " [2372 2523]\n",
      " [2371 2524]\n",
      " [2370 2523]]\n",
      "{'les': True, 'flood': True, 'loan': True}\n"
     ]
    },
    {
     "name": "stderr",
     "output_type": "stream",
     "text": [
      "\r",
      " 70%|████████████████████████████████████████████████████████                        | 336/480 [45:03<15:34,  6.49s/it]"
     ]
    },
    {
     "name": "stdout",
     "output_type": "stream",
     "text": [
      "[[2371 2557]\n",
      " [2371 2560]\n",
      " [2370 2560]]\n",
      "{'les': True, 'flood': True, 'loan': True}\n"
     ]
    },
    {
     "name": "stderr",
     "output_type": "stream",
     "text": [
      "\r",
      " 70%|████████████████████████████████████████████████████████▏                       | 337/480 [45:09<15:26,  6.48s/it]"
     ]
    },
    {
     "name": "stdout",
     "output_type": "stream",
     "text": [
      "[[2374 2588]\n",
      " [2374 2589]\n",
      " [2373 2590]\n",
      " [2370 2590]]\n",
      "{'les': True, 'flood': True, 'loan': True}\n"
     ]
    },
    {
     "name": "stderr",
     "output_type": "stream",
     "text": [
      "\r",
      " 70%|████████████████████████████████████████████████████████▎                       | 338/480 [45:16<15:19,  6.48s/it]"
     ]
    },
    {
     "name": "stdout",
     "output_type": "stream",
     "text": [
      "[[2372 2589]\n",
      " [2372 2590]\n",
      " [2371 2591]\n",
      " [2370 2591]]\n",
      "{'les': True, 'flood': True, 'loan': True}\n"
     ]
    },
    {
     "name": "stderr",
     "output_type": "stream",
     "text": [
      "\r",
      " 71%|████████████████████████████████████████████████████████▌                       | 339/480 [45:22<14:57,  6.37s/it]"
     ]
    },
    {
     "name": "stdout",
     "output_type": "stream",
     "text": [
      "[[2375 2597]\n",
      " [2375 2599]\n",
      " [2371 2601]]\n",
      "{'les': True, 'flood': True, 'loan': True}\n"
     ]
    },
    {
     "name": "stderr",
     "output_type": "stream",
     "text": [
      "\r",
      " 71%|████████████████████████████████████████████████████████▋                       | 340/480 [45:28<14:40,  6.29s/it]"
     ]
    },
    {
     "name": "stdout",
     "output_type": "stream",
     "text": [
      "[[2374 2525]\n",
      " [2374 2528]\n",
      " [2372 2529]]\n",
      "{'les': True, 'flood': True, 'loan': True}\n"
     ]
    },
    {
     "name": "stderr",
     "output_type": "stream",
     "text": [
      "\r",
      " 71%|████████████████████████████████████████████████████████▊                       | 341/480 [45:35<14:49,  6.40s/it]"
     ]
    },
    {
     "name": "stdout",
     "output_type": "stream",
     "text": [
      "[[2374 2527]\n",
      " [2375 2527]\n",
      " [2374 2530]\n",
      " [2372 2530]]\n",
      "{'les': False, 'flood': False, 'loan': False}\n"
     ]
    },
    {
     "name": "stderr",
     "output_type": "stream",
     "text": [
      "\r",
      " 71%|█████████████████████████████████████████████████████████                       | 342/480 [45:41<14:36,  6.35s/it]"
     ]
    },
    {
     "name": "stdout",
     "output_type": "stream",
     "text": [
      "[[2377 2547]\n",
      " [2375 2553]\n",
      " [2372 2555]]\n",
      "{'les': True, 'flood': True, 'loan': True}\n"
     ]
    },
    {
     "name": "stderr",
     "output_type": "stream",
     "text": [
      "\r",
      " 71%|█████████████████████████████████████████████████████████▏                      | 343/480 [45:47<14:12,  6.22s/it]"
     ]
    },
    {
     "name": "stdout",
     "output_type": "stream",
     "text": [
      "[[2375 2584]\n",
      " [2376 2585]\n",
      " [2372 2587]]\n",
      "{'les': True, 'flood': True, 'loan': True}\n"
     ]
    },
    {
     "name": "stderr",
     "output_type": "stream",
     "text": [
      "\r",
      " 72%|█████████████████████████████████████████████████████████▎                      | 344/480 [45:53<14:02,  6.19s/it]"
     ]
    },
    {
     "name": "stdout",
     "output_type": "stream",
     "text": [
      "[[2375 2557]\n",
      " [2375 2559]\n",
      " [2373 2562]]\n",
      "{'les': True, 'flood': True, 'loan': True}\n"
     ]
    },
    {
     "name": "stderr",
     "output_type": "stream",
     "text": [
      "\r",
      " 72%|█████████████████████████████████████████████████████████▌                      | 345/480 [45:59<14:05,  6.27s/it]"
     ]
    },
    {
     "name": "stdout",
     "output_type": "stream",
     "text": [
      "[[2377 2586]\n",
      " [2377 2589]\n",
      " [2375 2593]\n",
      " [2373 2591]]\n",
      "{'les': True, 'flood': True, 'loan': True}\n"
     ]
    },
    {
     "name": "stderr",
     "output_type": "stream",
     "text": [
      "\r",
      " 72%|█████████████████████████████████████████████████████████▋                      | 346/480 [46:05<13:55,  6.23s/it]"
     ]
    },
    {
     "name": "stdout",
     "output_type": "stream",
     "text": [
      "[[2375 2588]\n",
      " [2374 2594]\n",
      " [2373 2592]]\n",
      "{'les': True, 'flood': True, 'loan': True}\n"
     ]
    },
    {
     "name": "stderr",
     "output_type": "stream",
     "text": [
      "\r",
      " 72%|█████████████████████████████████████████████████████████▊                      | 347/480 [46:12<13:44,  6.20s/it]"
     ]
    },
    {
     "name": "stdout",
     "output_type": "stream",
     "text": [
      "[[2378 2522]\n",
      " [2378 2523]\n",
      " [2374 2524]]\n",
      "{'les': True, 'flood': True, 'loan': True}\n"
     ]
    },
    {
     "name": "stderr",
     "output_type": "stream",
     "text": [
      "\r",
      " 72%|██████████████████████████████████████████████████████████                      | 348/480 [46:18<13:51,  6.30s/it]"
     ]
    },
    {
     "name": "stdout",
     "output_type": "stream",
     "text": [
      "[[2377 2549]\n",
      " [2379 2549]\n",
      " [2378 2550]\n",
      " [2374 2551]]\n",
      "{'les': True, 'flood': True, 'loan': True}\n"
     ]
    },
    {
     "name": "stderr",
     "output_type": "stream",
     "text": [
      "\r",
      " 73%|██████████████████████████████████████████████████████████▏                     | 349/480 [46:24<13:36,  6.24s/it]"
     ]
    },
    {
     "name": "stdout",
     "output_type": "stream",
     "text": [
      "[[2376 2558]\n",
      " [2376 2560]\n",
      " [2374 2559]]\n",
      "{'les': True, 'flood': True, 'loan': True}\n"
     ]
    },
    {
     "name": "stderr",
     "output_type": "stream",
     "text": [
      "\r",
      " 73%|██████████████████████████████████████████████████████████▎                     | 350/480 [46:31<13:39,  6.31s/it]"
     ]
    },
    {
     "name": "stdout",
     "output_type": "stream",
     "text": [
      "[[2377 2527]\n",
      " [2377 2528]\n",
      " [2376 2531]\n",
      " [2375 2529]]\n",
      "{'les': True, 'flood': True, 'loan': True}\n"
     ]
    },
    {
     "name": "stderr",
     "output_type": "stream",
     "text": [
      "\r",
      " 73%|██████████████████████████████████████████████████████████▌                     | 351/480 [46:37<13:32,  6.30s/it]"
     ]
    },
    {
     "name": "stdout",
     "output_type": "stream",
     "text": [
      "[[2375 2582]\n",
      " [2378 2582]\n",
      " [2378 2583]\n",
      " [2377 2584]]\n",
      "{'les': True, 'flood': True, 'loan': True}\n"
     ]
    },
    {
     "name": "stderr",
     "output_type": "stream",
     "text": [
      "\r",
      " 73%|██████████████████████████████████████████████████████████▋                     | 352/480 [46:43<13:23,  6.28s/it]"
     ]
    },
    {
     "name": "stdout",
     "output_type": "stream",
     "text": [
      "[[2380 2587]\n",
      " [2379 2593]\n",
      " [2376 2593]]\n",
      "{'les': True, 'flood': True, 'loan': True}\n"
     ]
    },
    {
     "name": "stderr",
     "output_type": "stream",
     "text": [
      "\r",
      " 74%|██████████████████████████████████████████████████████████▊                     | 353/480 [46:49<13:14,  6.26s/it]"
     ]
    },
    {
     "name": "stdout",
     "output_type": "stream",
     "text": [
      "[[2377 2594]\n",
      " [2378 2594]\n",
      " [2377 2596]\n",
      " [2376 2595]]\n",
      "{'les': False, 'flood': False, 'loan': False}\n"
     ]
    },
    {
     "name": "stderr",
     "output_type": "stream",
     "text": [
      "\r",
      " 74%|███████████████████████████████████████████████████████████                     | 354/480 [46:59<15:23,  7.33s/it]"
     ]
    },
    {
     "name": "stdout",
     "output_type": "stream",
     "text": [
      "[[2380 2555]\n",
      " [2382 2553]\n",
      " [2382 2554]\n",
      " [2377 2560]]\n",
      "{'les': True, 'flood': False, 'loan': False}\n"
     ]
    },
    {
     "name": "stderr",
     "output_type": "stream",
     "text": [
      "\r",
      " 74%|███████████████████████████████████████████████████████████▏                    | 355/480 [47:05<14:29,  6.96s/it]"
     ]
    },
    {
     "name": "stdout",
     "output_type": "stream",
     "text": [
      "[[2379 2589]\n",
      " [2379 2590]\n",
      " [2377 2595]]\n",
      "{'les': True, 'flood': True, 'loan': True}\n"
     ]
    },
    {
     "name": "stderr",
     "output_type": "stream",
     "text": [
      "\r",
      " 74%|███████████████████████████████████████████████████████████▎                    | 356/480 [47:11<13:54,  6.73s/it]"
     ]
    },
    {
     "name": "stdout",
     "output_type": "stream",
     "text": [
      "[[2381 2521]\n",
      " [2380 2524]\n",
      " [2378 2525]]\n",
      "{'les': True, 'flood': True, 'loan': True}\n"
     ]
    },
    {
     "name": "stderr",
     "output_type": "stream",
     "text": [
      "\r",
      " 74%|███████████████████████████████████████████████████████████▌                    | 357/480 [47:18<13:23,  6.53s/it]"
     ]
    },
    {
     "name": "stdout",
     "output_type": "stream",
     "text": [
      "[[2380 2529]\n",
      " [2380 2532]\n",
      " [2378 2532]]\n",
      "{'les': True, 'flood': True, 'loan': True}\n"
     ]
    },
    {
     "name": "stderr",
     "output_type": "stream",
     "text": [
      "\r",
      " 75%|███████████████████████████████████████████████████████████▋                    | 358/480 [47:24<13:03,  6.42s/it]"
     ]
    },
    {
     "name": "stdout",
     "output_type": "stream",
     "text": [
      "[[2382 2579]\n",
      " [2381 2585]\n",
      " [2378 2584]]\n",
      "{'les': True, 'flood': True, 'loan': True}\n"
     ]
    },
    {
     "name": "stderr",
     "output_type": "stream",
     "text": [
      "\r",
      " 75%|███████████████████████████████████████████████████████████▊                    | 359/480 [47:30<12:49,  6.36s/it]"
     ]
    },
    {
     "name": "stdout",
     "output_type": "stream",
     "text": [
      "[[2379 2595]\n",
      " [2381 2595]\n",
      " [2381 2596]\n",
      " [2380 2596]]\n",
      "{'les': True, 'flood': False, 'loan': False}\n"
     ]
    },
    {
     "name": "stderr",
     "output_type": "stream",
     "text": [
      "\r",
      " 75%|████████████████████████████████████████████████████████████                    | 360/480 [47:36<12:51,  6.43s/it]"
     ]
    },
    {
     "name": "stdout",
     "output_type": "stream",
     "text": [
      "[[2380 2542]\n",
      " [2382 2542]\n",
      " [2382 2543]\n",
      " [2381 2543]]\n",
      "{'les': False, 'flood': False, 'loan': False}\n"
     ]
    },
    {
     "name": "stderr",
     "output_type": "stream",
     "text": [
      "\r",
      " 75%|████████████████████████████████████████████████████████████▏                   | 361/480 [47:43<12:53,  6.50s/it]"
     ]
    },
    {
     "name": "stdout",
     "output_type": "stream",
     "text": [
      "[[2385 2549]\n",
      " [2384 2553]\n",
      " [2382 2555]\n",
      " [2380 2556]]\n",
      "{'les': True, 'flood': True, 'loan': True}\n"
     ]
    },
    {
     "name": "stderr",
     "output_type": "stream",
     "text": [
      "\r",
      " 75%|████████████████████████████████████████████████████████████▎                   | 362/480 [47:49<12:26,  6.33s/it]"
     ]
    },
    {
     "name": "stdout",
     "output_type": "stream",
     "text": [
      "[[2380 2563]\n",
      " [2381 2564]\n",
      " [2381 2566]]\n",
      "{'les': True, 'flood': True, 'loan': True}\n"
     ]
    },
    {
     "name": "stderr",
     "output_type": "stream",
     "text": [
      "\r",
      " 76%|████████████████████████████████████████████████████████████▌                   | 363/480 [47:56<12:26,  6.38s/it]"
     ]
    },
    {
     "name": "stdout",
     "output_type": "stream",
     "text": [
      "[[2385 2562]\n",
      " [2385 2563]\n",
      " [2384 2568]\n",
      " [2383 2566]]\n",
      "{'les': True, 'flood': True, 'loan': True}\n"
     ]
    },
    {
     "name": "stderr",
     "output_type": "stream",
     "text": [
      "\r",
      " 76%|████████████████████████████████████████████████████████████▋                   | 364/480 [48:02<12:18,  6.37s/it]"
     ]
    },
    {
     "name": "stdout",
     "output_type": "stream",
     "text": [
      "[[2385 2561]\n",
      " [2386 2564]\n",
      " [2386 2565]\n",
      " [2383 2567]]\n",
      "{'les': True, 'flood': True, 'loan': True}\n"
     ]
    },
    {
     "name": "stderr",
     "output_type": "stream",
     "text": [
      "\r",
      " 76%|████████████████████████████████████████████████████████████▊                   | 365/480 [48:08<11:58,  6.25s/it]"
     ]
    },
    {
     "name": "stdout",
     "output_type": "stream",
     "text": [
      "[[2383 2570]\n",
      " [2384 2571]\n",
      " [2384 2573]]\n",
      "{'les': True, 'flood': True, 'loan': True}\n"
     ]
    },
    {
     "name": "stderr",
     "output_type": "stream",
     "text": [
      "\r",
      " 76%|█████████████████████████████████████████████████████████████                   | 366/480 [48:14<11:47,  6.21s/it]"
     ]
    },
    {
     "name": "stdout",
     "output_type": "stream",
     "text": [
      "[[2387 2524]\n",
      " [2387 2525]\n",
      " [2384 2525]]\n",
      "{'les': True, 'flood': True, 'loan': True}\n"
     ]
    },
    {
     "name": "stderr",
     "output_type": "stream",
     "text": [
      "\r",
      " 76%|█████████████████████████████████████████████████████████████▏                  | 367/480 [48:20<11:39,  6.19s/it]"
     ]
    },
    {
     "name": "stdout",
     "output_type": "stream",
     "text": [
      "[[2387 2552]\n",
      " [2386 2558]\n",
      " [2384 2556]]\n",
      "{'les': True, 'flood': True, 'loan': True}\n"
     ]
    },
    {
     "name": "stderr",
     "output_type": "stream",
     "text": [
      "\r",
      " 77%|█████████████████████████████████████████████████████████████▎                  | 368/480 [48:30<13:42,  7.35s/it]"
     ]
    },
    {
     "name": "stdout",
     "output_type": "stream",
     "text": [
      "[[2386 2560]\n",
      " [2389 2556]\n",
      " [2386 2563]\n",
      " [2384 2566]]\n",
      "{'les': True, 'flood': False, 'loan': False}\n"
     ]
    },
    {
     "name": "stderr",
     "output_type": "stream",
     "text": [
      "\r",
      " 77%|█████████████████████████████████████████████████████████████▌                  | 369/480 [48:36<12:56,  6.99s/it]"
     ]
    },
    {
     "name": "stdout",
     "output_type": "stream",
     "text": [
      "[[2385 2530]\n",
      " [2386 2531]\n",
      " [2386 2532]\n",
      " [2385 2534]]\n",
      "{'les': True, 'flood': True, 'loan': True}\n"
     ]
    },
    {
     "name": "stderr",
     "output_type": "stream",
     "text": [
      "\r",
      " 77%|█████████████████████████████████████████████████████████████▋                  | 370/480 [48:43<12:32,  6.84s/it]"
     ]
    },
    {
     "name": "stdout",
     "output_type": "stream",
     "text": [
      "[[2387 2532]\n",
      " [2388 2536]\n",
      " [2387 2536]\n",
      " [2385 2535]]\n",
      "{'les': True, 'flood': True, 'loan': True}\n"
     ]
    },
    {
     "name": "stderr",
     "output_type": "stream",
     "text": [
      "\r",
      " 77%|█████████████████████████████████████████████████████████████▊                  | 371/480 [48:49<12:13,  6.73s/it]"
     ]
    },
    {
     "name": "stdout",
     "output_type": "stream",
     "text": [
      "[[2387 2565]\n",
      " [2387 2566]\n",
      " [2386 2569]\n",
      " [2385 2567]]\n",
      "{'les': True, 'flood': True, 'loan': True}\n"
     ]
    },
    {
     "name": "stderr",
     "output_type": "stream",
     "text": [
      "\r",
      " 78%|██████████████████████████████████████████████████████████████                  | 372/480 [48:58<13:13,  7.35s/it]"
     ]
    },
    {
     "name": "stdout",
     "output_type": "stream",
     "text": [
      "[[2386 2540]\n",
      " [2388 2539]\n",
      " [2390 2540]\n",
      " [2388 2542]]\n",
      "{'les': True, 'flood': True, 'loan': True}\n"
     ]
    },
    {
     "name": "stderr",
     "output_type": "stream",
     "text": [
      "\r",
      " 78%|██████████████████████████████████████████████████████████████▏                 | 373/480 [49:08<14:30,  8.14s/it]"
     ]
    },
    {
     "name": "stdout",
     "output_type": "stream",
     "text": [
      "[[2386 2585]\n",
      " [2389 2581]\n",
      " [2387 2588]\n",
      " [2386 2589]]\n",
      "{'les': False, 'flood': False, 'loan': False}\n"
     ]
    },
    {
     "name": "stderr",
     "output_type": "stream",
     "text": [
      "\r",
      " 78%|██████████████████████████████████████████████████████████████▎                 | 374/480 [49:14<13:08,  7.44s/it]"
     ]
    },
    {
     "name": "stdout",
     "output_type": "stream",
     "text": [
      "[[2389 2561]\n",
      " [2392 2562]\n",
      " [2390 2565]\n",
      " [2387 2564]]\n",
      "{'les': True, 'flood': False, 'loan': False}\n"
     ]
    },
    {
     "name": "stderr",
     "output_type": "stream",
     "text": [
      "\r",
      " 78%|██████████████████████████████████████████████████████████████▌                 | 375/480 [49:21<12:34,  7.19s/it]"
     ]
    },
    {
     "name": "stdout",
     "output_type": "stream",
     "text": [
      "[[2389 2578]\n",
      " [2388 2581]\n",
      " [2387 2580]]\n",
      "{'les': True, 'flood': True, 'loan': True}\n"
     ]
    },
    {
     "name": "stderr",
     "output_type": "stream",
     "text": [
      "\r",
      " 78%|██████████████████████████████████████████████████████████████▋                 | 376/480 [49:27<11:58,  6.91s/it]"
     ]
    },
    {
     "name": "stdout",
     "output_type": "stream",
     "text": [
      "[[2390 2585]\n",
      " [2391 2585]\n",
      " [2389 2589]\n",
      " [2387 2589]]\n",
      "{'les': False, 'flood': False, 'loan': False}\n"
     ]
    },
    {
     "name": "stderr",
     "output_type": "stream",
     "text": [
      "\r",
      " 79%|██████████████████████████████████████████████████████████████▊                 | 377/480 [49:37<13:20,  7.77s/it]"
     ]
    },
    {
     "name": "stdout",
     "output_type": "stream",
     "text": [
      "[[2390 2579]\n",
      " [2391 2578]\n",
      " [2389 2582]\n",
      " [2388 2582]]\n",
      "{'les': False, 'flood': False, 'loan': False}\n"
     ]
    },
    {
     "name": "stderr",
     "output_type": "stream",
     "text": [
      "\r",
      " 79%|███████████████████████████████████████████████████████████████                 | 378/480 [49:43<12:22,  7.28s/it]"
     ]
    },
    {
     "name": "stdout",
     "output_type": "stream",
     "text": [
      "[[2390 2535]\n",
      " [2390 2537]\n",
      " [2389 2536]]\n",
      "{'les': True, 'flood': True, 'loan': True}\n"
     ]
    },
    {
     "name": "stderr",
     "output_type": "stream",
     "text": [
      "\r",
      " 79%|███████████████████████████████████████████████████████████████▏                | 379/480 [49:49<11:38,  6.92s/it]"
     ]
    },
    {
     "name": "stdout",
     "output_type": "stream",
     "text": [
      "[[2391 2591]\n",
      " [2391 2593]\n",
      " [2389 2594]]\n",
      "{'les': True, 'flood': True, 'loan': True}\n"
     ]
    },
    {
     "name": "stderr",
     "output_type": "stream",
     "text": [
      "\r",
      " 79%|███████████████████████████████████████████████████████████████▎                | 380/480 [49:55<11:10,  6.70s/it]"
     ]
    },
    {
     "name": "stdout",
     "output_type": "stream",
     "text": [
      "[[2394 2586]\n",
      " [2393 2590]\n",
      " [2391 2590]]\n",
      "{'les': True, 'flood': True, 'loan': True}\n"
     ]
    },
    {
     "name": "stderr",
     "output_type": "stream",
     "text": [
      "\r",
      " 79%|███████████████████████████████████████████████████████████████▌                | 381/480 [50:01<10:54,  6.61s/it]"
     ]
    },
    {
     "name": "stdout",
     "output_type": "stream",
     "text": [
      "[[2392 2551]\n",
      " [2393 2554]\n",
      " [2393 2555]\n",
      " [2392 2554]]\n",
      "{'les': True, 'flood': True, 'loan': True}\n"
     ]
    },
    {
     "name": "stderr",
     "output_type": "stream",
     "text": [
      "\r",
      " 80%|███████████████████████████████████████████████████████████████▋                | 382/480 [50:08<10:44,  6.57s/it]"
     ]
    },
    {
     "name": "stdout",
     "output_type": "stream",
     "text": [
      "[[2394 2557]\n",
      " [2394 2558]\n",
      " [2393 2561]\n",
      " [2392 2560]]\n",
      "{'les': True, 'flood': True, 'loan': True}\n"
     ]
    },
    {
     "name": "stderr",
     "output_type": "stream",
     "text": [
      "\r",
      " 80%|███████████████████████████████████████████████████████████████▊                | 383/480 [50:14<10:25,  6.45s/it]"
     ]
    },
    {
     "name": "stdout",
     "output_type": "stream",
     "text": [
      "[[2394 2560]\n",
      " [2393 2567]\n",
      " [2392 2565]]\n",
      "{'les': True, 'flood': True, 'loan': True}\n"
     ]
    },
    {
     "name": "stderr",
     "output_type": "stream",
     "text": [
      "\r",
      " 80%|████████████████████████████████████████████████████████████████                | 384/480 [50:20<10:04,  6.30s/it]"
     ]
    },
    {
     "name": "stdout",
     "output_type": "stream",
     "text": [
      "[[2394 2592]\n",
      " [2395 2593]\n",
      " [2392 2594]]\n",
      "{'les': True, 'flood': True, 'loan': True}\n"
     ]
    },
    {
     "name": "stderr",
     "output_type": "stream",
     "text": [
      "\r",
      " 80%|████████████████████████████████████████████████████████████████▏               | 385/480 [50:26<09:52,  6.24s/it]"
     ]
    },
    {
     "name": "stdout",
     "output_type": "stream",
     "text": [
      "[[2397 2529]\n",
      " [2397 2530]\n",
      " [2393 2533]]\n",
      "{'les': True, 'flood': True, 'loan': True}\n"
     ]
    },
    {
     "name": "stderr",
     "output_type": "stream",
     "text": [
      "\r",
      " 80%|████████████████████████████████████████████████████████████████▎               | 386/480 [50:32<09:42,  6.19s/it]"
     ]
    },
    {
     "name": "stdout",
     "output_type": "stream",
     "text": [
      "[[2395 2547]\n",
      " [2395 2550]\n",
      " [2393 2549]]\n",
      "{'les': True, 'flood': True, 'loan': True}\n"
     ]
    },
    {
     "name": "stderr",
     "output_type": "stream",
     "text": [
      "\r",
      " 81%|████████████████████████████████████████████████████████████████▌               | 387/480 [50:38<09:34,  6.18s/it]"
     ]
    },
    {
     "name": "stdout",
     "output_type": "stream",
     "text": [
      "[[2396 2560]\n",
      " [2397 2561]\n",
      " [2394 2562]\n",
      " [2393 2562]]\n",
      "{'les': True, 'flood': True, 'loan': True}\n"
     ]
    },
    {
     "name": "stderr",
     "output_type": "stream",
     "text": [
      "\r",
      " 81%|████████████████████████████████████████████████████████████████▋               | 388/480 [50:45<09:31,  6.21s/it]"
     ]
    },
    {
     "name": "stdout",
     "output_type": "stream",
     "text": [
      "[[2398 2530]\n",
      " [2396 2536]\n",
      " [2394 2535]]\n",
      "{'les': True, 'flood': True, 'loan': True}\n"
     ]
    },
    {
     "name": "stderr",
     "output_type": "stream",
     "text": [
      "\r",
      " 81%|████████████████████████████████████████████████████████████████▊               | 389/480 [50:51<09:22,  6.19s/it]"
     ]
    },
    {
     "name": "stdout",
     "output_type": "stream",
     "text": [
      "[[2395 2553]\n",
      " [2395 2555]\n",
      " [2394 2554]]\n",
      "{'les': True, 'flood': True, 'loan': True}\n"
     ]
    },
    {
     "name": "stderr",
     "output_type": "stream",
     "text": [
      "\r",
      " 81%|█████████████████████████████████████████████████████████████████               | 390/480 [50:57<09:15,  6.17s/it]"
     ]
    },
    {
     "name": "stdout",
     "output_type": "stream",
     "text": [
      "[[2395 2565]\n",
      " [2395 2567]\n",
      " [2394 2566]]\n",
      "{'les': True, 'flood': True, 'loan': True}\n"
     ]
    },
    {
     "name": "stderr",
     "output_type": "stream",
     "text": [
      "\r",
      " 81%|█████████████████████████████████████████████████████████████████▏              | 391/480 [51:03<09:19,  6.29s/it]"
     ]
    },
    {
     "name": "stdout",
     "output_type": "stream",
     "text": [
      "[[2395 2546]\n",
      " [2397 2546]\n",
      " [2397 2548]]\n",
      "{'les': True, 'flood': True, 'loan': True}\n"
     ]
    },
    {
     "name": "stderr",
     "output_type": "stream",
     "text": [
      "\r",
      " 82%|█████████████████████████████████████████████████████████████████▎              | 392/480 [51:09<09:07,  6.22s/it]"
     ]
    },
    {
     "name": "stdout",
     "output_type": "stream",
     "text": [
      "[[2397 2564]\n",
      " [2398 2566]\n",
      " [2395 2568]]\n",
      "{'les': True, 'flood': True, 'loan': True}\n"
     ]
    },
    {
     "name": "stderr",
     "output_type": "stream",
     "text": [
      "\r",
      " 82%|█████████████████████████████████████████████████████████████████▌              | 393/480 [51:16<08:58,  6.19s/it]"
     ]
    },
    {
     "name": "stdout",
     "output_type": "stream",
     "text": [
      "[[2399 2591]\n",
      " [2399 2594]\n",
      " [2396 2594]]\n",
      "{'les': True, 'flood': True, 'loan': True}\n"
     ]
    },
    {
     "name": "stderr",
     "output_type": "stream",
     "text": [
      "\r",
      " 82%|█████████████████████████████████████████████████████████████████▋              | 394/480 [51:24<09:38,  6.73s/it]"
     ]
    },
    {
     "name": "stdout",
     "output_type": "stream",
     "text": [
      "[[2397 2531]\n",
      " [2400 2530]\n",
      " [2398 2533]]\n",
      "{'les': True, 'flood': True, 'loan': True}\n"
     ]
    },
    {
     "name": "stderr",
     "output_type": "stream",
     "text": [
      "\r",
      " 82%|█████████████████████████████████████████████████████████████████▊              | 395/480 [51:30<09:18,  6.57s/it]"
     ]
    },
    {
     "name": "stdout",
     "output_type": "stream",
     "text": [
      "[[2400 2564]\n",
      " [2399 2570]\n",
      " [2397 2568]]\n",
      "{'les': True, 'flood': True, 'loan': True}\n"
     ]
    },
    {
     "name": "stderr",
     "output_type": "stream",
     "text": [
      "\r",
      " 82%|██████████████████████████████████████████████████████████████████              | 396/480 [51:36<09:10,  6.56s/it]"
     ]
    },
    {
     "name": "stdout",
     "output_type": "stream",
     "text": [
      "[[2399 2590]\n",
      " [2399 2592]\n",
      " [2398 2593]\n",
      " [2397 2592]]\n",
      "{'les': True, 'flood': True, 'loan': True}\n"
     ]
    },
    {
     "name": "stderr",
     "output_type": "stream",
     "text": [
      "\r",
      " 83%|██████████████████████████████████████████████████████████████████▏             | 397/480 [51:43<09:03,  6.55s/it]"
     ]
    },
    {
     "name": "stdout",
     "output_type": "stream",
     "text": [
      "[[2398 2548]\n",
      " [2399 2548]\n",
      " [2399 2550]]\n",
      "{'les': True, 'flood': True, 'loan': True}\n"
     ]
    },
    {
     "name": "stderr",
     "output_type": "stream",
     "text": [
      "\r",
      " 83%|██████████████████████████████████████████████████████████████████▎             | 398/480 [51:49<08:46,  6.42s/it]"
     ]
    },
    {
     "name": "stdout",
     "output_type": "stream",
     "text": [
      "[[2399 2553]\n",
      " [2399 2557]\n",
      " [2398 2556]]\n",
      "{'les': True, 'flood': True, 'loan': True}\n"
     ]
    },
    {
     "name": "stderr",
     "output_type": "stream",
     "text": [
      "\r",
      " 83%|██████████████████████████████████████████████████████████████████▌             | 399/480 [51:55<08:25,  6.24s/it]"
     ]
    },
    {
     "name": "stdout",
     "output_type": "stream",
     "text": [
      "[[2399 2559]\n",
      " [2402 2560]\n",
      " [2401 2561]]\n",
      "{'les': True, 'flood': True, 'loan': True}\n"
     ]
    },
    {
     "name": "stderr",
     "output_type": "stream",
     "text": [
      "\r",
      " 83%|██████████████████████████████████████████████████████████████████▋             | 400/480 [52:01<08:15,  6.19s/it]"
     ]
    },
    {
     "name": "stdout",
     "output_type": "stream",
     "text": [
      "[[2404 2557]\n",
      " [2404 2559]\n",
      " [2403 2559]]\n",
      "{'les': True, 'flood': True, 'loan': True}\n"
     ]
    },
    {
     "name": "stderr",
     "output_type": "stream",
     "text": [
      "\r",
      " 84%|██████████████████████████████████████████████████████████████████▊             | 401/480 [52:07<08:16,  6.28s/it]"
     ]
    },
    {
     "name": "stdout",
     "output_type": "stream",
     "text": [
      "[[2407 2542]\n",
      " [2407 2543]\n",
      " [2406 2545]\n",
      " [2404 2545]]\n",
      "{'les': True, 'flood': True, 'loan': True}\n"
     ]
    },
    {
     "name": "stderr",
     "output_type": "stream",
     "text": [
      "\r",
      " 84%|███████████████████████████████████████████████████████████████████             | 402/480 [52:13<08:07,  6.25s/it]"
     ]
    },
    {
     "name": "stdout",
     "output_type": "stream",
     "text": [
      "[[2408 2554]\n",
      " [2409 2555]\n",
      " [2408 2556]\n",
      " [2405 2556]]\n",
      "{'les': True, 'flood': True, 'loan': True}\n"
     ]
    },
    {
     "name": "stderr",
     "output_type": "stream",
     "text": [
      "\r",
      " 84%|███████████████████████████████████████████████████████████████████▏            | 403/480 [52:20<08:07,  6.33s/it]"
     ]
    },
    {
     "name": "stdout",
     "output_type": "stream",
     "text": [
      "[[2407 2561]\n",
      " [2407 2562]\n",
      " [2406 2564]\n",
      " [2405 2563]]\n",
      "{'les': True, 'flood': True, 'loan': True}\n"
     ]
    },
    {
     "name": "stderr",
     "output_type": "stream",
     "text": [
      "\r",
      " 84%|███████████████████████████████████████████████████████████████████▎            | 404/480 [52:26<07:57,  6.28s/it]"
     ]
    },
    {
     "name": "stdout",
     "output_type": "stream",
     "text": [
      "[[2409 2544]\n",
      " [2408 2551]\n",
      " [2406 2550]]\n",
      "{'les': True, 'flood': True, 'loan': True}\n"
     ]
    },
    {
     "name": "stderr",
     "output_type": "stream",
     "text": [
      "\r",
      " 84%|███████████████████████████████████████████████████████████████████▌            | 405/480 [52:33<07:55,  6.34s/it]"
     ]
    },
    {
     "name": "stdout",
     "output_type": "stream",
     "text": [
      "[[2406 2556]\n",
      " [2407 2556]\n",
      " [2407 2558]]\n",
      "{'les': True, 'flood': True, 'loan': True}\n"
     ]
    },
    {
     "name": "stderr",
     "output_type": "stream",
     "text": [
      "\r",
      " 85%|███████████████████████████████████████████████████████████████████▋            | 406/480 [52:39<07:40,  6.23s/it]"
     ]
    },
    {
     "name": "stdout",
     "output_type": "stream",
     "text": [
      "[[2407 2565]\n",
      " [2408 2566]\n",
      " [2408 2568]]\n",
      "{'les': True, 'flood': True, 'loan': True}\n"
     ]
    },
    {
     "name": "stderr",
     "output_type": "stream",
     "text": [
      "\r",
      " 85%|███████████████████████████████████████████████████████████████████▊            | 407/480 [52:46<08:09,  6.70s/it]"
     ]
    },
    {
     "name": "stdout",
     "output_type": "stream",
     "text": [
      "[[2409 2563]\n",
      " [2412 2562]\n",
      " [2409 2564]\n",
      " [2408 2564]]\n",
      "{'les': False, 'flood': False, 'loan': False}\n"
     ]
    },
    {
     "name": "stderr",
     "output_type": "stream",
     "text": [
      "\r",
      " 85%|████████████████████████████████████████████████████████████████████            | 408/480 [52:53<07:50,  6.53s/it]"
     ]
    },
    {
     "name": "stdout",
     "output_type": "stream",
     "text": [
      "[[2410 2562]\n",
      " [2410 2566]\n",
      " [2409 2565]]\n",
      "{'les': True, 'flood': True, 'loan': True}\n"
     ]
    },
    {
     "name": "stderr",
     "output_type": "stream",
     "text": [
      "\r",
      " 85%|████████████████████████████████████████████████████████████████████▏           | 409/480 [52:59<07:37,  6.44s/it]"
     ]
    },
    {
     "name": "stdout",
     "output_type": "stream",
     "text": [
      "[[2413 2550]\n",
      " [2412 2555]\n",
      " [2411 2553]]\n",
      "{'les': True, 'flood': True, 'loan': True}\n"
     ]
    },
    {
     "name": "stderr",
     "output_type": "stream",
     "text": [
      "\r",
      " 85%|████████████████████████████████████████████████████████████████████▎           | 410/480 [53:05<07:30,  6.44s/it]"
     ]
    },
    {
     "name": "stdout",
     "output_type": "stream",
     "text": [
      "[[2411 2565]\n",
      " [2414 2565]\n",
      " [2412 2568]]\n",
      "{'les': True, 'flood': True, 'loan': True}\n"
     ]
    },
    {
     "name": "stderr",
     "output_type": "stream",
     "text": [
      "\r",
      " 86%|████████████████████████████████████████████████████████████████████▌           | 411/480 [53:11<07:19,  6.37s/it]"
     ]
    },
    {
     "name": "stdout",
     "output_type": "stream",
     "text": [
      "[[2414 2550]\n",
      " [2413 2555]\n",
      " [2412 2556]]\n",
      "{'les': True, 'flood': True, 'loan': True}\n"
     ]
    },
    {
     "name": "stderr",
     "output_type": "stream",
     "text": [
      "\r",
      " 86%|████████████████████████████████████████████████████████████████████▋           | 412/480 [53:20<07:56,  7.01s/it]"
     ]
    },
    {
     "name": "stdout",
     "output_type": "stream",
     "text": [
      "[[2412 2565]\n",
      " [2414 2564]\n",
      " [2414 2566]\n",
      " [2413 2567]]\n",
      "{'les': True, 'flood': True, 'loan': True}\n"
     ]
    },
    {
     "name": "stderr",
     "output_type": "stream",
     "text": [
      "\r",
      " 86%|████████████████████████████████████████████████████████████████████▊           | 413/480 [53:26<07:34,  6.78s/it]"
     ]
    },
    {
     "name": "stdout",
     "output_type": "stream",
     "text": [
      "[[2414 2573]\n",
      " [2413 2577]\n",
      " [2412 2577]]\n",
      "{'les': True, 'flood': True, 'loan': True}\n"
     ]
    },
    {
     "name": "stderr",
     "output_type": "stream",
     "text": [
      "\r",
      " 86%|█████████████████████████████████████████████████████████████████████           | 414/480 [53:33<07:27,  6.77s/it]"
     ]
    },
    {
     "name": "stdout",
     "output_type": "stream",
     "text": [
      "[[2416 2585]\n",
      " [2415 2587]\n",
      " [2413 2586]]\n",
      "{'les': True, 'flood': True, 'loan': True}\n"
     ]
    },
    {
     "name": "stderr",
     "output_type": "stream",
     "text": [
      "\r",
      " 86%|█████████████████████████████████████████████████████████████████████▏          | 415/480 [53:39<07:10,  6.62s/it]"
     ]
    },
    {
     "name": "stdout",
     "output_type": "stream",
     "text": [
      "[[2416 2546]\n",
      " [2415 2550]\n",
      " [2414 2549]]\n",
      "{'les': True, 'flood': True, 'loan': True}\n"
     ]
    },
    {
     "name": "stderr",
     "output_type": "stream",
     "text": [
      "\r",
      " 87%|█████████████████████████████████████████████████████████████████████▎          | 416/480 [53:45<06:55,  6.49s/it]"
     ]
    },
    {
     "name": "stdout",
     "output_type": "stream",
     "text": [
      "[[2416 2552]\n",
      " [2415 2556]\n",
      " [2414 2555]]\n",
      "{'les': True, 'flood': True, 'loan': True}\n"
     ]
    },
    {
     "name": "stderr",
     "output_type": "stream",
     "text": [
      "\r",
      " 87%|█████████████████████████████████████████████████████████████████████▌          | 417/480 [53:52<06:42,  6.39s/it]"
     ]
    },
    {
     "name": "stdout",
     "output_type": "stream",
     "text": [
      "[[2415 2565]\n",
      " [2416 2566]\n",
      " [2416 2568]\n",
      " [2415 2568]]\n",
      "{'les': True, 'flood': True, 'loan': True}\n"
     ]
    },
    {
     "name": "stderr",
     "output_type": "stream",
     "text": [
      "\r",
      " 87%|█████████████████████████████████████████████████████████████████████▋          | 418/480 [53:58<06:34,  6.36s/it]"
     ]
    },
    {
     "name": "stdout",
     "output_type": "stream",
     "text": [
      "[[2418 2587]\n",
      " [2417 2590]\n",
      " [2415 2590]]\n",
      "{'les': True, 'flood': True, 'loan': True}\n"
     ]
    },
    {
     "name": "stderr",
     "output_type": "stream",
     "text": [
      "\r",
      " 87%|█████████████████████████████████████████████████████████████████████▊          | 419/480 [54:04<06:26,  6.34s/it]"
     ]
    },
    {
     "name": "stdout",
     "output_type": "stream",
     "text": [
      "[[2416 2587]\n",
      " [2417 2587]\n",
      " [2418 2588]\n",
      " [2417 2588]]\n",
      "{'les': False, 'flood': False, 'loan': False}\n"
     ]
    },
    {
     "name": "stderr",
     "output_type": "stream",
     "text": [
      "\r",
      " 88%|██████████████████████████████████████████████████████████████████████          | 420/480 [54:11<06:24,  6.41s/it]"
     ]
    },
    {
     "name": "stdout",
     "output_type": "stream",
     "text": [
      "[[2420 2548]\n",
      " [2421 2548]\n",
      " [2419 2551]\n",
      " [2417 2550]]\n",
      "{'les': False, 'flood': False, 'loan': False}\n"
     ]
    },
    {
     "name": "stderr",
     "output_type": "stream",
     "text": [
      "\r",
      " 88%|██████████████████████████████████████████████████████████████████████▏         | 421/480 [54:20<07:18,  7.43s/it]"
     ]
    },
    {
     "name": "stdout",
     "output_type": "stream",
     "text": [
      "[[2419 2548]\n",
      " [2420 2547]\n",
      " [2419 2552]\n",
      " [2417 2551]]\n",
      "{'les': False, 'flood': False, 'loan': False}\n"
     ]
    },
    {
     "name": "stderr",
     "output_type": "stream",
     "text": [
      "\r",
      " 88%|██████████████████████████████████████████████████████████████████████▎         | 422/480 [54:27<06:48,  7.04s/it]"
     ]
    },
    {
     "name": "stdout",
     "output_type": "stream",
     "text": [
      "[[2419 2580]\n",
      " [2419 2581]\n",
      " [2417 2581]]\n",
      "{'les': True, 'flood': True, 'loan': True}\n"
     ]
    },
    {
     "name": "stderr",
     "output_type": "stream",
     "text": [
      "\r",
      " 88%|██████████████████████████████████████████████████████████████████████▌         | 423/480 [54:35<07:00,  7.38s/it]"
     ]
    },
    {
     "name": "stdout",
     "output_type": "stream",
     "text": [
      "[[2418 2556]\n",
      " [2420 2556]\n",
      " [2420 2557]\n",
      " [2419 2557]]\n",
      "{'les': False, 'flood': False, 'loan': False}\n"
     ]
    },
    {
     "name": "stderr",
     "output_type": "stream",
     "text": [
      "\r",
      " 88%|██████████████████████████████████████████████████████████████████████▋         | 424/480 [54:42<06:43,  7.20s/it]"
     ]
    },
    {
     "name": "stdout",
     "output_type": "stream",
     "text": [
      "[[2422 2558]\n",
      " [2422 2559]\n",
      " [2421 2560]\n",
      " [2419 2559]]\n",
      "{'les': True, 'flood': True, 'loan': True}\n"
     ]
    },
    {
     "name": "stderr",
     "output_type": "stream",
     "text": [
      "\r",
      " 89%|██████████████████████████████████████████████████████████████████████▊         | 425/480 [54:48<06:19,  6.90s/it]"
     ]
    },
    {
     "name": "stdout",
     "output_type": "stream",
     "text": [
      "[[2421 2599]\n",
      " [2421 2601]\n",
      " [2419 2600]]\n",
      "{'les': True, 'flood': True, 'loan': True}\n"
     ]
    },
    {
     "name": "stderr",
     "output_type": "stream",
     "text": [
      "\r",
      " 89%|███████████████████████████████████████████████████████████████████████         | 426/480 [54:54<06:00,  6.67s/it]"
     ]
    },
    {
     "name": "stdout",
     "output_type": "stream",
     "text": [
      "[[2422 2552]\n",
      " [2422 2554]\n",
      " [2420 2554]]\n",
      "{'les': True, 'flood': True, 'loan': True}\n"
     ]
    },
    {
     "name": "stderr",
     "output_type": "stream",
     "text": [
      "\r",
      " 89%|███████████████████████████████████████████████████████████████████████▏        | 427/480 [55:00<05:45,  6.52s/it]"
     ]
    },
    {
     "name": "stdout",
     "output_type": "stream",
     "text": [
      "[[2423 2578]\n",
      " [2423 2580]\n",
      " [2421 2580]]\n",
      "{'les': True, 'flood': True, 'loan': True}\n"
     ]
    },
    {
     "name": "stderr",
     "output_type": "stream",
     "text": [
      "\r",
      " 89%|███████████████████████████████████████████████████████████████████████▎        | 428/480 [55:06<05:33,  6.42s/it]"
     ]
    },
    {
     "name": "stdout",
     "output_type": "stream",
     "text": [
      "[[2424 2627]\n",
      " [2424 2629]\n",
      " [2422 2628]]\n",
      "{'les': True, 'flood': True, 'loan': True}\n"
     ]
    },
    {
     "name": "stderr",
     "output_type": "stream",
     "text": [
      "\r",
      " 89%|███████████████████████████████████████████████████████████████████████▌        | 429/480 [55:13<05:25,  6.38s/it]"
     ]
    },
    {
     "name": "stdout",
     "output_type": "stream",
     "text": [
      "[[2426 2573]\n",
      " [2426 2577]\n",
      " [2423 2576]]\n",
      "{'les': True, 'flood': True, 'loan': True}\n"
     ]
    },
    {
     "name": "stderr",
     "output_type": "stream",
     "text": [
      "\r",
      " 90%|███████████████████████████████████████████████████████████████████████▋        | 430/480 [55:22<06:11,  7.43s/it]"
     ]
    },
    {
     "name": "stdout",
     "output_type": "stream",
     "text": [
      "[[2424 2575]\n",
      " [2425 2574]\n",
      " [2426 2575]\n",
      " [2425 2577]]\n",
      "{'les': True, 'flood': False, 'loan': False}\n"
     ]
    },
    {
     "name": "stderr",
     "output_type": "stream",
     "text": [
      "\r",
      " 90%|███████████████████████████████████████████████████████████████████████▊        | 431/480 [55:29<05:45,  7.06s/it]"
     ]
    },
    {
     "name": "stdout",
     "output_type": "stream",
     "text": [
      "[[2426 2629]\n",
      " [2426 2631]\n",
      " [2424 2631]]\n",
      "{'les': True, 'flood': True, 'loan': True}\n"
     ]
    },
    {
     "name": "stderr",
     "output_type": "stream",
     "text": [
      "\r",
      " 90%|████████████████████████████████████████████████████████████████████████        | 432/480 [55:35<05:22,  6.72s/it]"
     ]
    },
    {
     "name": "stdout",
     "output_type": "stream",
     "text": [
      "[[2426 2583]\n",
      " [2428 2584]\n",
      " [2428 2585]\n",
      " [2427 2586]]\n",
      "{'les': True, 'flood': True, 'loan': True}\n"
     ]
    },
    {
     "name": "stderr",
     "output_type": "stream",
     "text": [
      "\r",
      " 90%|████████████████████████████████████████████████████████████████████████▏       | 433/480 [55:41<05:08,  6.56s/it]"
     ]
    },
    {
     "name": "stdout",
     "output_type": "stream",
     "text": [
      "[[2427 2605]\n",
      " [2429 2605]\n",
      " [2428 2607]]\n",
      "{'les': True, 'flood': True, 'loan': True}\n"
     ]
    },
    {
     "name": "stderr",
     "output_type": "stream",
     "text": [
      "\r",
      " 90%|████████████████████████████████████████████████████████████████████████▎       | 434/480 [55:47<05:01,  6.56s/it]"
     ]
    },
    {
     "name": "stdout",
     "output_type": "stream",
     "text": [
      "[[2430 2591]\n",
      " [2430 2592]\n",
      " [2429 2593]\n",
      " [2428 2593]]\n",
      "{'les': True, 'flood': True, 'loan': True}\n"
     ]
    },
    {
     "name": "stderr",
     "output_type": "stream",
     "text": [
      "\r",
      " 91%|████████████████████████████████████████████████████████████████████████▌       | 435/480 [55:54<04:53,  6.52s/it]"
     ]
    },
    {
     "name": "stdout",
     "output_type": "stream",
     "text": [
      "[[2430 2573]\n",
      " [2431 2573]\n",
      " [2431 2575]]\n",
      "{'les': True, 'flood': True, 'loan': True}\n"
     ]
    },
    {
     "name": "stderr",
     "output_type": "stream",
     "text": [
      "\r",
      " 91%|████████████████████████████████████████████████████████████████████████▋       | 436/480 [56:00<04:42,  6.42s/it]"
     ]
    },
    {
     "name": "stdout",
     "output_type": "stream",
     "text": [
      "[[2433 2551]\n",
      " [2434 2552]\n",
      " [2432 2553]\n",
      " [2431 2553]]\n",
      "{'les': True, 'flood': True, 'loan': True}\n"
     ]
    },
    {
     "name": "stderr",
     "output_type": "stream",
     "text": [
      "\r",
      " 91%|████████████████████████████████████████████████████████████████████████▊       | 437/480 [56:06<04:30,  6.30s/it]"
     ]
    },
    {
     "name": "stdout",
     "output_type": "stream",
     "text": [
      "[[2431 2558]\n",
      " [2433 2560]\n",
      " [2432 2562]]\n",
      "{'les': True, 'flood': True, 'loan': True}\n"
     ]
    },
    {
     "name": "stderr",
     "output_type": "stream",
     "text": [
      "\r",
      " 91%|█████████████████████████████████████████████████████████████████████████       | 438/480 [56:12<04:23,  6.27s/it]"
     ]
    },
    {
     "name": "stdout",
     "output_type": "stream",
     "text": [
      "[[2433 2574]\n",
      " [2433 2576]\n",
      " [2431 2576]]\n",
      "{'les': True, 'flood': True, 'loan': True}\n"
     ]
    },
    {
     "name": "stderr",
     "output_type": "stream",
     "text": [
      "\r",
      " 91%|█████████████████████████████████████████████████████████████████████████▏      | 439/480 [56:18<04:17,  6.29s/it]"
     ]
    },
    {
     "name": "stdout",
     "output_type": "stream",
     "text": [
      "[[2436 2576]\n",
      " [2435 2579]\n",
      " [2433 2579]]\n",
      "{'les': True, 'flood': True, 'loan': True}\n"
     ]
    },
    {
     "name": "stderr",
     "output_type": "stream",
     "text": [
      "\r",
      " 92%|█████████████████████████████████████████████████████████████████████████▎      | 440/480 [56:28<04:55,  7.38s/it]"
     ]
    },
    {
     "name": "stdout",
     "output_type": "stream",
     "text": [
      "[[2434 2555]\n",
      " [2435 2554]\n",
      " [2435 2555]\n",
      " [2434 2558]]\n",
      "{'les': True, 'flood': False, 'loan': False}\n"
     ]
    },
    {
     "name": "stderr",
     "output_type": "stream",
     "text": [
      "\r",
      " 92%|█████████████████████████████████████████████████████████████████████████▌      | 441/480 [56:35<04:33,  7.00s/it]"
     ]
    },
    {
     "name": "stdout",
     "output_type": "stream",
     "text": [
      "[[2437 2563]\n",
      " [2437 2565]\n",
      " [2435 2564]]\n",
      "{'les': True, 'flood': True, 'loan': True}\n"
     ]
    },
    {
     "name": "stderr",
     "output_type": "stream",
     "text": [
      "\r",
      " 92%|█████████████████████████████████████████████████████████████████████████▋      | 442/480 [56:41<04:20,  6.86s/it]"
     ]
    },
    {
     "name": "stdout",
     "output_type": "stream",
     "text": [
      "[[2437 2557]\n",
      " [2438 2557]\n",
      " [2438 2558]\n",
      " [2437 2560]]\n",
      "{'les': True, 'flood': True, 'loan': True}\n"
     ]
    },
    {
     "name": "stderr",
     "output_type": "stream",
     "text": [
      "\r",
      " 92%|█████████████████████████████████████████████████████████████████████████▊      | 443/480 [56:47<04:08,  6.71s/it]"
     ]
    },
    {
     "name": "stdout",
     "output_type": "stream",
     "text": [
      "[[2440 2586]\n",
      " [2441 2586]\n",
      " [2440 2587]\n",
      " [2438 2588]]\n",
      "{'les': True, 'flood': True, 'loan': True}\n"
     ]
    },
    {
     "name": "stderr",
     "output_type": "stream",
     "text": [
      "\r",
      " 92%|██████████████████████████████████████████████████████████████████████████      | 444/480 [56:54<03:59,  6.65s/it]"
     ]
    },
    {
     "name": "stdout",
     "output_type": "stream",
     "text": [
      "[[2440 2556]\n",
      " [2440 2557]\n",
      " [2439 2561]\n",
      " [2439 2558]]\n",
      "{'les': True, 'flood': False, 'loan': False}\n"
     ]
    },
    {
     "name": "stderr",
     "output_type": "stream",
     "text": [
      "\r",
      " 93%|██████████████████████████████████████████████████████████████████████████▏     | 445/480 [57:00<03:46,  6.46s/it]"
     ]
    },
    {
     "name": "stdout",
     "output_type": "stream",
     "text": [
      "[[2439 2563]\n",
      " [2440 2564]\n",
      " [2440 2566]]\n",
      "{'les': True, 'flood': True, 'loan': True}\n"
     ]
    },
    {
     "name": "stderr",
     "output_type": "stream",
     "text": [
      "\r",
      " 93%|██████████████████████████████████████████████████████████████████████████▎     | 446/480 [57:07<03:43,  6.57s/it]"
     ]
    },
    {
     "name": "stdout",
     "output_type": "stream",
     "text": [
      "[[2444 2559]\n",
      " [2443 2561]\n",
      " [2442 2560]]\n",
      "{'les': True, 'flood': True, 'loan': True}\n"
     ]
    },
    {
     "name": "stderr",
     "output_type": "stream",
     "text": [
      "\r",
      " 93%|██████████████████████████████████████████████████████████████████████████▌     | 447/480 [57:13<03:34,  6.49s/it]"
     ]
    },
    {
     "name": "stdout",
     "output_type": "stream",
     "text": [
      "[[2442 2581]\n",
      " [2444 2581]\n",
      " [2444 2583]]\n",
      "{'les': True, 'flood': True, 'loan': True}\n"
     ]
    },
    {
     "name": "stderr",
     "output_type": "stream",
     "text": [
      "\r",
      " 93%|██████████████████████████████████████████████████████████████████████████▋     | 448/480 [57:20<03:27,  6.49s/it]"
     ]
    },
    {
     "name": "stdout",
     "output_type": "stream",
     "text": [
      "[[2446 2556]\n",
      " [2446 2557]\n",
      " [2444 2558]\n",
      " [2443 2557]]\n",
      "{'les': True, 'flood': True, 'loan': True}\n"
     ]
    },
    {
     "name": "stderr",
     "output_type": "stream",
     "text": [
      "\r",
      " 94%|██████████████████████████████████████████████████████████████████████████▊     | 449/480 [57:29<03:48,  7.39s/it]"
     ]
    },
    {
     "name": "stdout",
     "output_type": "stream",
     "text": [
      "[[2446 2377]\n",
      " [2448 2376]\n",
      " [2444 2380]]\n",
      "{'les': True, 'flood': False, 'loan': False}\n"
     ]
    },
    {
     "name": "stderr",
     "output_type": "stream",
     "text": [
      "\r",
      " 94%|███████████████████████████████████████████████████████████████████████████     | 450/480 [57:39<04:05,  8.17s/it]"
     ]
    },
    {
     "name": "stdout",
     "output_type": "stream",
     "text": [
      "[[2446 2376]\n",
      " [2447 2375]\n",
      " [2447 2379]]\n",
      "{'les': True, 'flood': True, 'loan': True}\n",
      "<class 'Exception'>\n",
      "('The input points are located on the same line. No convex hull is found!',)\n",
      "<class 'Exception'>\n",
      "('The input points are located on the same line. No convex hull is found!',)\n",
      "<class 'Exception'>\n",
      "('The input points are located on the same line. No convex hull is found!',)\n"
     ]
    },
    {
     "name": "stderr",
     "output_type": "stream",
     "text": [
      "\r",
      " 94%|███████████████████████████████████████████████████████████████████████████▏    | 451/480 [57:46<03:49,  7.92s/it]"
     ]
    },
    {
     "name": "stdout",
     "output_type": "stream",
     "text": [
      "[[2446 2382]\n",
      " [2449 2382]\n",
      " [2448 2383]]\n",
      "{'les': True, 'flood': True, 'loan': True}\n"
     ]
    },
    {
     "name": "stderr",
     "output_type": "stream",
     "text": [
      "\r",
      " 94%|███████████████████████████████████████████████████████████████████████████▎    | 452/480 [57:53<03:27,  7.40s/it]"
     ]
    },
    {
     "name": "stdout",
     "output_type": "stream",
     "text": [
      "[[2448 2561]\n",
      " [2449 2562]\n",
      " [2449 2563]\n",
      " [2448 2564]]\n",
      "{'les': True, 'flood': True, 'loan': True}\n"
     ]
    },
    {
     "name": "stderr",
     "output_type": "stream",
     "text": [
      "\r",
      " 94%|███████████████████████████████████████████████████████████████████████████▌    | 453/480 [57:59<03:12,  7.13s/it]"
     ]
    },
    {
     "name": "stdout",
     "output_type": "stream",
     "text": [
      "[[2454 2560]\n",
      " [2455 2560]\n",
      " [2453 2563]\n",
      " [2452 2561]]\n",
      "{'les': False, 'flood': False, 'loan': False}\n"
     ]
    },
    {
     "name": "stderr",
     "output_type": "stream",
     "text": [
      "\r",
      " 95%|███████████████████████████████████████████████████████████████████████████▋    | 454/480 [58:05<02:59,  6.89s/it]"
     ]
    },
    {
     "name": "stdout",
     "output_type": "stream",
     "text": [
      "[[2455 2568]\n",
      " [2454 2571]\n",
      " [2453 2570]]\n",
      "{'les': True, 'flood': True, 'loan': True}\n"
     ]
    },
    {
     "name": "stderr",
     "output_type": "stream",
     "text": [
      "\r",
      " 95%|███████████████████████████████████████████████████████████████████████████▊    | 455/480 [58:12<02:48,  6.75s/it]"
     ]
    },
    {
     "name": "stdout",
     "output_type": "stream",
     "text": [
      "[[2458 2567]\n",
      " [2461 2567]\n",
      " [2460 2569]]\n",
      "{'les': True, 'flood': True, 'loan': True}\n"
     ]
    },
    {
     "name": "stderr",
     "output_type": "stream",
     "text": [
      "\r",
      " 95%|████████████████████████████████████████████████████████████████████████████    | 456/480 [58:18<02:37,  6.57s/it]"
     ]
    },
    {
     "name": "stdout",
     "output_type": "stream",
     "text": [
      "[[2463 2507]\n",
      " [2463 2508]\n",
      " [2459 2510]]\n",
      "{'les': True, 'flood': True, 'loan': True}\n"
     ]
    },
    {
     "name": "stderr",
     "output_type": "stream",
     "text": [
      "\r",
      " 95%|████████████████████████████████████████████████████████████████████████████▏   | 457/480 [58:24<02:30,  6.54s/it]"
     ]
    },
    {
     "name": "stdout",
     "output_type": "stream",
     "text": [
      "[[2459 2560]\n",
      " [2460 2560]\n",
      " [2460 2562]]\n",
      "{'les': True, 'flood': True, 'loan': True}\n"
     ]
    },
    {
     "name": "stderr",
     "output_type": "stream",
     "text": [
      "\r",
      " 95%|████████████████████████████████████████████████████████████████████████████▎   | 458/480 [58:31<02:23,  6.51s/it]"
     ]
    },
    {
     "name": "stdout",
     "output_type": "stream",
     "text": [
      "[[2463 2570]\n",
      " [2466 2570]\n",
      " [2464 2572]]\n",
      "{'les': True, 'flood': True, 'loan': True}\n"
     ]
    },
    {
     "name": "stderr",
     "output_type": "stream",
     "text": [
      "\r",
      " 96%|████████████████████████████████████████████████████████████████████████████▌   | 459/480 [58:37<02:16,  6.52s/it]"
     ]
    },
    {
     "name": "stdout",
     "output_type": "stream",
     "text": [
      "[[2475 2496]\n",
      " [2475 2497]\n",
      " [2474 2500]\n",
      " [2473 2499]]\n",
      "{'les': True, 'flood': True, 'loan': True}\n"
     ]
    },
    {
     "name": "stderr",
     "output_type": "stream",
     "text": [
      "\r",
      " 96%|████████████████████████████████████████████████████████████████████████████▋   | 460/480 [58:44<02:10,  6.53s/it]"
     ]
    },
    {
     "name": "stdout",
     "output_type": "stream",
     "text": [
      "[[2475 2502]\n",
      " [2475 2503]\n",
      " [2474 2504]\n",
      " [2473 2504]]\n",
      "{'les': True, 'flood': True, 'loan': True}\n"
     ]
    },
    {
     "name": "stderr",
     "output_type": "stream",
     "text": [
      "\r",
      " 96%|████████████████████████████████████████████████████████████████████████████▊   | 461/480 [58:51<02:06,  6.68s/it]"
     ]
    },
    {
     "name": "stdout",
     "output_type": "stream",
     "text": [
      "[[2478 2497]\n",
      " [2479 2497]\n",
      " [2479 2498]\n",
      " [2477 2499]]\n",
      "{'les': True, 'flood': True, 'loan': True}\n"
     ]
    },
    {
     "name": "stderr",
     "output_type": "stream",
     "text": [
      "\r",
      " 96%|█████████████████████████████████████████████████████████████████████████████   | 462/480 [58:57<01:58,  6.59s/it]"
     ]
    },
    {
     "name": "stdout",
     "output_type": "stream",
     "text": [
      "[[2480 2567]\n",
      " [2479 2570]\n",
      " [2477 2569]]\n",
      "{'les': True, 'flood': True, 'loan': True}\n"
     ]
    },
    {
     "name": "stderr",
     "output_type": "stream",
     "text": [
      "\r",
      " 96%|█████████████████████████████████████████████████████████████████████████████▏  | 463/480 [59:04<01:51,  6.57s/it]"
     ]
    },
    {
     "name": "stdout",
     "output_type": "stream",
     "text": [
      "[[2482 2512]\n",
      " [2482 2513]\n",
      " [2481 2517]\n",
      " [2480 2516]]\n",
      "{'les': True, 'flood': True, 'loan': True}\n"
     ]
    },
    {
     "name": "stderr",
     "output_type": "stream",
     "text": [
      "\r",
      " 97%|█████████████████████████████████████████████████████████████████████████████▎  | 464/480 [59:11<01:46,  6.67s/it]"
     ]
    },
    {
     "name": "stdout",
     "output_type": "stream",
     "text": [
      "[[2490 2513]\n",
      " [2489 2515]\n",
      " [2487 2515]]\n",
      "{'les': True, 'flood': True, 'loan': True}\n"
     ]
    },
    {
     "name": "stderr",
     "output_type": "stream",
     "text": [
      "\r",
      " 97%|█████████████████████████████████████████████████████████████████████████████▌  | 465/480 [59:17<01:38,  6.56s/it]"
     ]
    },
    {
     "name": "stdout",
     "output_type": "stream",
     "text": [
      "[[2492 2519]\n",
      " [2492 2521]\n",
      " [2490 2520]]\n",
      "{'les': True, 'flood': True, 'loan': True}\n"
     ]
    },
    {
     "name": "stderr",
     "output_type": "stream",
     "text": [
      "\r",
      " 97%|█████████████████████████████████████████████████████████████████████████████▋  | 466/480 [59:23<01:30,  6.44s/it]"
     ]
    },
    {
     "name": "stdout",
     "output_type": "stream",
     "text": [
      "[[2495 2612]\n",
      " [2495 2616]\n",
      " [2494 2614]]\n",
      "{'les': True, 'flood': True, 'loan': True}\n"
     ]
    },
    {
     "name": "stderr",
     "output_type": "stream",
     "text": [
      "\r",
      " 97%|█████████████████████████████████████████████████████████████████████████████▊  | 467/480 [59:33<01:35,  7.31s/it]"
     ]
    },
    {
     "name": "stdout",
     "output_type": "stream",
     "text": [
      "[[2495 2617]\n",
      " [2497 2615]\n",
      " [2496 2620]]\n",
      "{'les': True, 'flood': False, 'loan': False}\n"
     ]
    },
    {
     "name": "stderr",
     "output_type": "stream",
     "text": [
      "\r",
      " 98%|██████████████████████████████████████████████████████████████████████████████  | 468/480 [59:39<01:23,  6.96s/it]"
     ]
    },
    {
     "name": "stdout",
     "output_type": "stream",
     "text": [
      "[[2498 2617]\n",
      " [2499 2617]\n",
      " [2499 2619]]\n",
      "{'les': True, 'flood': True, 'loan': True}\n"
     ]
    },
    {
     "name": "stderr",
     "output_type": "stream",
     "text": [
      "\r",
      " 98%|██████████████████████████████████████████████████████████████████████████████▏ | 469/480 [59:50<01:29,  8.15s/it]"
     ]
    },
    {
     "name": "stdout",
     "output_type": "stream",
     "text": [
      "[[2499 2553]\n",
      " [2500 2553]\n",
      " [2500 2556]]\n",
      "{'les': True, 'flood': True, 'loan': True}\n"
     ]
    },
    {
     "name": "stderr",
     "output_type": "stream",
     "text": [
      "\r",
      " 98%|████████████████████████████████████████████████████████████████████████████▍ | 470/480 [1:00:00<01:27,  8.72s/it]"
     ]
    },
    {
     "name": "stdout",
     "output_type": "stream",
     "text": [
      "[[2510 2369]\n",
      " [2511 2369]\n",
      " [2510 2370]\n",
      " [2508 2371]]\n",
      "{'les': True, 'flood': True, 'loan': True}\n"
     ]
    },
    {
     "name": "stderr",
     "output_type": "stream",
     "text": [
      "\r",
      " 98%|████████████████████████████████████████████████████████████████████████████▌ | 471/480 [1:00:06<01:12,  8.05s/it]"
     ]
    },
    {
     "name": "stdout",
     "output_type": "stream",
     "text": [
      "[[2510 2368]\n",
      " [2511 2370]\n",
      " [2510 2372]\n",
      " [2508 2372]]\n",
      "{'les': True, 'flood': True, 'loan': True}\n"
     ]
    },
    {
     "name": "stderr",
     "output_type": "stream",
     "text": [
      "\r",
      " 98%|████████████████████████████████████████████████████████████████████████████▋ | 472/480 [1:00:12<00:59,  7.49s/it]"
     ]
    },
    {
     "name": "stdout",
     "output_type": "stream",
     "text": [
      "[[2543 2519]\n",
      " [2543 2521]\n",
      " [2541 2522]]\n",
      "{'les': True, 'flood': True, 'loan': True}\n"
     ]
    },
    {
     "name": "stderr",
     "output_type": "stream",
     "text": [
      "\r",
      " 99%|████████████████████████████████████████████████████████████████████████████▊ | 473/480 [1:00:19<00:49,  7.09s/it]"
     ]
    },
    {
     "name": "stdout",
     "output_type": "stream",
     "text": [
      "[[2545 2520]\n",
      " [2545 2522]\n",
      " [2544 2521]]\n",
      "{'les': True, 'flood': True, 'loan': True}\n"
     ]
    },
    {
     "name": "stderr",
     "output_type": "stream",
     "text": [
      "\r",
      " 99%|█████████████████████████████████████████████████████████████████████████████ | 474/480 [1:00:25<00:40,  6.83s/it]"
     ]
    },
    {
     "name": "stdout",
     "output_type": "stream",
     "text": [
      "[[2546 2615]\n",
      " [2546 2617]\n",
      " [2544 2617]]\n",
      "{'les': True, 'flood': True, 'loan': True}\n"
     ]
    },
    {
     "name": "stderr",
     "output_type": "stream",
     "text": [
      "\r",
      " 99%|█████████████████████████████████████████████████████████████████████████████▏| 475/480 [1:00:32<00:34,  6.86s/it]"
     ]
    },
    {
     "name": "stdout",
     "output_type": "stream",
     "text": [
      "[[2550 2487]\n",
      " [2551 2487]\n",
      " [2550 2488]\n",
      " [2548 2488]]\n",
      "{'les': False, 'flood': False, 'loan': False}\n"
     ]
    },
    {
     "name": "stderr",
     "output_type": "stream",
     "text": [
      "\r",
      " 99%|█████████████████████████████████████████████████████████████████████████████▎| 476/480 [1:00:39<00:27,  6.89s/it]"
     ]
    },
    {
     "name": "stdout",
     "output_type": "stream",
     "text": [
      "[[2558 2490]\n",
      " [2559 2490]\n",
      " [2558 2491]\n",
      " [2557 2491]]\n",
      "{'les': True, 'flood': False, 'loan': False}\n"
     ]
    },
    {
     "name": "stderr",
     "output_type": "stream",
     "text": [
      "\r",
      " 99%|█████████████████████████████████████████████████████████████████████████████▌| 477/480 [1:00:45<00:20,  6.71s/it]"
     ]
    },
    {
     "name": "stdout",
     "output_type": "stream",
     "text": [
      "[[2559 2501]\n",
      " [2560 2503]\n",
      " [2559 2505]]\n",
      "{'les': True, 'flood': True, 'loan': True}\n"
     ]
    },
    {
     "name": "stderr",
     "output_type": "stream",
     "text": [
      "\r",
      "100%|█████████████████████████████████████████████████████████████████████████████▋| 478/480 [1:00:52<00:13,  6.78s/it]"
     ]
    },
    {
     "name": "stdout",
     "output_type": "stream",
     "text": [
      "[[2567 2616]\n",
      " [2566 2619]\n",
      " [2565 2618]]\n",
      "{'les': True, 'flood': True, 'loan': True}\n"
     ]
    },
    {
     "name": "stderr",
     "output_type": "stream",
     "text": [
      "\r",
      "100%|█████████████████████████████████████████████████████████████████████████████▊| 479/480 [1:00:58<00:06,  6.65s/it]"
     ]
    },
    {
     "name": "stdout",
     "output_type": "stream",
     "text": [
      "[[2635 2509]\n",
      " [2635 2511]\n",
      " [2634 2511]]\n",
      "{'les': True, 'flood': True, 'loan': True}\n"
     ]
    },
    {
     "name": "stderr",
     "output_type": "stream",
     "text": [
      "100%|██████████████████████████████████████████████████████████████████████████████| 480/480 [1:01:05<00:00,  7.64s/it]"
     ]
    },
    {
     "name": "stdout",
     "output_type": "stream",
     "text": [
      "[[2639 2497]\n",
      " [2640 2497]\n",
      " [2640 2498]\n",
      " [2639 2500]]\n",
      "{'les': True, 'flood': True, 'loan': True}\n"
     ]
    },
    {
     "name": "stderr",
     "output_type": "stream",
     "text": [
      "\n"
     ]
    }
   ],
   "source": [
    "dict_res = {}\n",
    "for k in tqdm.tqdm(dict_pol):\n",
    "    tmp_dict = {}\n",
    "    v = dict_pol[k]\n",
    "    for name, mask_point in list_mask:\n",
    "        model = ConvexHull2D()\n",
    "        try:\n",
    "            x = model(v)\n",
    "            status = model.isInside(mask_point)\n",
    "            tmp_dict[name] = np.any(status)\n",
    "        except:\n",
    "            tmp_dict[name] = np.nan\n",
    "    print(x)\n",
    "    print(tmp_dict)\n",
    "    dict_res[k] = tmp_dict"
   ]
  },
  {
   "cell_type": "code",
   "execution_count": 8,
   "id": "8e374bf6",
   "metadata": {},
   "outputs": [],
   "source": [
    "from ConvexHull import ConvexHull2D \n",
    "import numpy as np\n",
    "model = ConvexHull2D()\n",
    "rand_points = np.random.random((4, 2))\n"
   ]
  },
  {
   "cell_type": "code",
   "execution_count": 36,
   "id": "e3741d07",
   "metadata": {},
   "outputs": [],
   "source": [
    "x = np.array(v)"
   ]
  },
  {
   "cell_type": "code",
   "execution_count": 34,
   "id": "a6628738",
   "metadata": {},
   "outputs": [],
   "source": [
    "def PolygonArea(corners):\n",
    "    n = len(corners)\n",
    "    area = 0.0\n",
    "    for i in range(n):\n",
    "        j = (i + 1) % n\n",
    "        area += corners[i][0] * corners[j][1]\n",
    "        area -= corners[j][0] * corners[i][1]\n",
    "    area = abs(area) / 2.0\n",
    "    return area"
   ]
  },
  {
   "cell_type": "code",
   "execution_count": 35,
   "id": "df42d637",
   "metadata": {},
   "outputs": [
    {
     "data": {
      "text/plain": [
       "2.0"
      ]
     },
     "execution_count": 35,
     "metadata": {},
     "output_type": "execute_result"
    }
   ],
   "source": [
    "PolygonArea(v)"
   ]
  },
  {
   "cell_type": "code",
   "execution_count": 60,
   "id": "3d5e9669",
   "metadata": {},
   "outputs": [
    {
     "name": "stderr",
     "output_type": "stream",
     "text": [
      "100%|█████████████████████████████████████████████████████████████████████████████| 480/480 [00:00<00:00, 22264.73it/s]\n"
     ]
    }
   ],
   "source": [
    "dict_res = {}\n",
    "for k in tqdm.tqdm(dict_pol):\n",
    "    v = np.array(dict_pol[k])\n",
    "    arrea = PolyArea(v[:,0], v[:,1]) * 100 * 100\n",
    "    rand_good_share = np.random.uniform(0.8, 1)\n",
    "    dict_res[k] = {'good_arrea' : int(arrea*rand_good_share),\n",
    "                  'bad_arrea' : int(arrea*(1-rand_good_share))}"
   ]
  },
  {
   "cell_type": "code",
   "execution_count": 63,
   "id": "750cb394",
   "metadata": {},
   "outputs": [],
   "source": [
    "with open('arrea.json', 'w') as f:\n",
    "    json.dump(dict_res, f)"
   ]
  },
  {
   "cell_type": "code",
   "execution_count": 20,
   "id": "740d2b72",
   "metadata": {},
   "outputs": [],
   "source": [
    "with open('is_warning_ter.json','w') as f:\n",
    "    json.dump(tmp_res, f)"
   ]
  },
  {
   "cell_type": "code",
   "execution_count": 33,
   "id": "e7126eaf",
   "metadata": {},
   "outputs": [
    {
     "data": {
      "text/plain": [
       "20000.0"
      ]
     },
     "execution_count": 33,
     "metadata": {},
     "output_type": "execute_result"
    }
   ],
   "source": [
    "arrea*100*100"
   ]
  },
  {
   "cell_type": "code",
   "execution_count": 38,
   "id": "4cc66a3d",
   "metadata": {},
   "outputs": [
    {
     "data": {
      "text/plain": [
       "13364"
      ]
     },
     "execution_count": 38,
     "metadata": {},
     "output_type": "execute_result"
    }
   ],
   "source": [
    "status.sum()"
   ]
  },
  {
   "cell_type": "code",
   "execution_count": 39,
   "id": "7bcd76f7",
   "metadata": {},
   "outputs": [
    {
     "data": {
      "text/plain": [
       "array([[ 177, 1518],\n",
       "       [ 177, 1519],\n",
       "       [ 178, 1517],\n",
       "       ...,\n",
       "       [4049, 2709],\n",
       "       [4050, 2708],\n",
       "       [4050, 2709]], dtype=int64)"
      ]
     },
     "execution_count": 39,
     "metadata": {},
     "output_type": "execute_result"
    }
   ],
   "source": [
    "df_off_mask"
   ]
  },
  {
   "cell_type": "code",
   "execution_count": null,
   "id": "8f86badd",
   "metadata": {},
   "outputs": [],
   "source": []
  }
 ],
 "metadata": {
  "kernelspec": {
   "display_name": "Python 3 (ipykernel)",
   "language": "python",
   "name": "python3"
  },
  "language_info": {
   "codemirror_mode": {
    "name": "ipython",
    "version": 3
   },
   "file_extension": ".py",
   "mimetype": "text/x-python",
   "name": "python",
   "nbconvert_exporter": "python",
   "pygments_lexer": "ipython3",
   "version": "3.9.12"
  }
 },
 "nbformat": 4,
 "nbformat_minor": 5
}
