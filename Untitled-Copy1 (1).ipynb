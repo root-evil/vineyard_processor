{
 "cells": [
  {
   "cell_type": "code",
   "execution_count": 1,
   "id": "9a408aa5",
   "metadata": {},
   "outputs": [],
   "source": [
    "import pandas as pd\n",
    "import numpy as np\n",
    "import matplotlib.pyplot as plt\n",
    "import seaborn\n",
    "from sklearn.cluster import KMeans, DBSCAN\n",
    "from skimage import io\n",
    "import os\n",
    "import tqdm\n",
    "from sklearn.preprocessing import MinMaxScaler\n",
    "from collections import Counter"
   ]
  },
  {
   "cell_type": "code",
   "execution_count": 2,
   "id": "8a955d0f",
   "metadata": {},
   "outputs": [],
   "source": [
    "mask_off = pd.read_csv('data/tmp.csv').values\n",
    "index_mask = np.vstack(np.where(mask_off)).T"
   ]
  },
  {
   "cell_type": "code",
   "execution_count": 3,
   "id": "16289ea3",
   "metadata": {},
   "outputs": [],
   "source": [
    "x, y = index_mask[:, 0], index_mask[:, 1]"
   ]
  },
  {
   "cell_type": "code",
   "execution_count": 4,
   "id": "ce399d0a",
   "metadata": {},
   "outputs": [
    {
     "data": {
      "text/html": [
       "<div>\n",
       "<style scoped>\n",
       "    .dataframe tbody tr th:only-of-type {\n",
       "        vertical-align: middle;\n",
       "    }\n",
       "\n",
       "    .dataframe tbody tr th {\n",
       "        vertical-align: top;\n",
       "    }\n",
       "\n",
       "    .dataframe thead th {\n",
       "        text-align: right;\n",
       "    }\n",
       "</style>\n",
       "<table border=\"1\" class=\"dataframe\">\n",
       "  <thead>\n",
       "    <tr style=\"text-align: right;\">\n",
       "      <th></th>\n",
       "      <th>x</th>\n",
       "      <th>y</th>\n",
       "    </tr>\n",
       "  </thead>\n",
       "  <tbody>\n",
       "    <tr>\n",
       "      <th>0</th>\n",
       "      <td>177</td>\n",
       "      <td>1518</td>\n",
       "    </tr>\n",
       "    <tr>\n",
       "      <th>1</th>\n",
       "      <td>177</td>\n",
       "      <td>1519</td>\n",
       "    </tr>\n",
       "    <tr>\n",
       "      <th>2</th>\n",
       "      <td>178</td>\n",
       "      <td>1517</td>\n",
       "    </tr>\n",
       "    <tr>\n",
       "      <th>3</th>\n",
       "      <td>178</td>\n",
       "      <td>1518</td>\n",
       "    </tr>\n",
       "    <tr>\n",
       "      <th>4</th>\n",
       "      <td>178</td>\n",
       "      <td>1519</td>\n",
       "    </tr>\n",
       "    <tr>\n",
       "      <th>...</th>\n",
       "      <td>...</td>\n",
       "      <td>...</td>\n",
       "    </tr>\n",
       "    <tr>\n",
       "      <th>6638901</th>\n",
       "      <td>4052</td>\n",
       "      <td>2708</td>\n",
       "    </tr>\n",
       "    <tr>\n",
       "      <th>6638902</th>\n",
       "      <td>4052</td>\n",
       "      <td>2709</td>\n",
       "    </tr>\n",
       "    <tr>\n",
       "      <th>6638903</th>\n",
       "      <td>4052</td>\n",
       "      <td>2710</td>\n",
       "    </tr>\n",
       "    <tr>\n",
       "      <th>6638904</th>\n",
       "      <td>4053</td>\n",
       "      <td>2708</td>\n",
       "    </tr>\n",
       "    <tr>\n",
       "      <th>6638905</th>\n",
       "      <td>4053</td>\n",
       "      <td>2709</td>\n",
       "    </tr>\n",
       "  </tbody>\n",
       "</table>\n",
       "<p>6638906 rows × 2 columns</p>\n",
       "</div>"
      ],
      "text/plain": [
       "            x     y\n",
       "0         177  1518\n",
       "1         177  1519\n",
       "2         178  1517\n",
       "3         178  1518\n",
       "4         178  1519\n",
       "...       ...   ...\n",
       "6638901  4052  2708\n",
       "6638902  4052  2709\n",
       "6638903  4052  2710\n",
       "6638904  4053  2708\n",
       "6638905  4053  2709\n",
       "\n",
       "[6638906 rows x 2 columns]"
      ]
     },
     "execution_count": 4,
     "metadata": {},
     "output_type": "execute_result"
    }
   ],
   "source": [
    "df_mask = pd.DataFrame(index_mask, columns = ['x', 'y'])\n",
    "df_mask"
   ]
  },
  {
   "cell_type": "code",
   "execution_count": 5,
   "id": "725b9ea8",
   "metadata": {},
   "outputs": [],
   "source": [
    "list_dir = os.listdir('data/')"
   ]
  },
  {
   "cell_type": "code",
   "execution_count": 6,
   "id": "71ac50ee",
   "metadata": {},
   "outputs": [],
   "source": [
    "num_data = ['KRA_RELIEF_ASPECT_100m.tif',\n",
    "            'KRA_RELIEF_HEIGHT_100m.tif',\n",
    "            'KRA_RELIEF_SLOPE_100m.tif',\n",
    "            'KRA_SUNNY_DAYS_APR_OCT_100m.tif',\n",
    "           'KRA_WATER_SEASONALYTY_100m.tif']\n",
    "\n",
    "num_many_chanel_data = ['KRA_TAVG_100m.tif',\n",
    "            'KRA_TMIN_100m.tif',\n",
    "            'KRA_TMAX_100m.tif',\n",
    "            'KRA_PREC_100m.tif']\n",
    "\n",
    "\n",
    "path_to_save = 'to_save/'\n",
    "\n",
    "path = 'data/'"
   ]
  },
  {
   "cell_type": "code",
   "execution_count": 7,
   "id": "375be90c",
   "metadata": {},
   "outputs": [],
   "source": [
    "for name in num_data:\n",
    "    img_tmp = io.imread(path + name).astype(np.float64)\n",
    "    name_for_write = name.split('.')[0]\n",
    "    val = img_tmp[x,y]\n",
    "    df_mask['val_' + name_for_write] = val\n",
    "    "
   ]
  },
  {
   "cell_type": "code",
   "execution_count": 11,
   "id": "9520d7ea",
   "metadata": {},
   "outputs": [],
   "source": [
    "num_many_chanel_data = ['KRA_TAVG_100m.tif',\n",
    "            'KRA_TMIN_100m.tif',\n",
    "            'KRA_TMAX_100m.tif',\n",
    "            'KRA_PREC_100m.tif']\n",
    "for name in num_many_chanel_data:\n",
    "    img_tmp_ = io.imread(path + name).astype(np.float32)\n",
    "    name_for_write = name.split('.')[0]\n",
    "    for chanel in range(img_tmp_.shape[2]):\n",
    "        img_tmp = img_tmp_[:,:, chanel]\n",
    "        val = img_tmp[x,y]\n",
    "        df_mask['val_' + name_for_write + '_chanel_' + str(chanel)] = val\n",
    "\n",
    "        "
   ]
  },
  {
   "cell_type": "code",
   "execution_count": 13,
   "id": "e8398057",
   "metadata": {},
   "outputs": [],
   "source": [
    "for name in cat_data:\n",
    "    img_tmp = io.imread(path + name).astype(np.float32)\n",
    "    name_for_write = name.split('.')[0]\n",
    "    val = img_tmp[x,y]\n",
    "    df_mask['val_' + name_for_write] = val   \n"
   ]
  },
  {
   "cell_type": "code",
   "execution_count": 15,
   "id": "646147f7",
   "metadata": {},
   "outputs": [],
   "source": [
    "df_mask = pd.get_dummies(df_mask, columns = ['val_' + name_for_write])"
   ]
  },
  {
   "cell_type": "code",
   "execution_count": 20,
   "id": "723f5c1b",
   "metadata": {},
   "outputs": [],
   "source": [
    "df_mask.to_csv('to_save/to_cluster_data.csv')"
   ]
  },
  {
   "cell_type": "code",
   "execution_count": 26,
   "id": "61a61a94",
   "metadata": {},
   "outputs": [
    {
     "data": {
      "text/plain": [
       "Index(['val_KRA_RELIEF_ASPECT_100m', 'val_KRA_RELIEF_HEIGHT_100m',\n",
       "       'val_KRA_RELIEF_SLOPE_100m', 'val_KRA_SUNNY_DAYS_APR_OCT_100m',\n",
       "       'val_KRA_WATER_SEASONALYTY_100m', 'val_KRA_TAVG_100m_chanel_0',\n",
       "       'val_KRA_TAVG_100m_chanel_1', 'val_KRA_TAVG_100m_chanel_2',\n",
       "       'val_KRA_TAVG_100m_chanel_3', 'val_KRA_TAVG_100m_chanel_4',\n",
       "       'val_KRA_TAVG_100m_chanel_5', 'val_KRA_TAVG_100m_chanel_6',\n",
       "       'val_KRA_TAVG_100m_chanel_7', 'val_KRA_TAVG_100m_chanel_8',\n",
       "       'val_KRA_TAVG_100m_chanel_9', 'val_KRA_TAVG_100m_chanel_10',\n",
       "       'val_KRA_TAVG_100m_chanel_11', 'val_KRA_TMIN_100m_chanel_0',\n",
       "       'val_KRA_TMIN_100m_chanel_1', 'val_KRA_TMIN_100m_chanel_2',\n",
       "       'val_KRA_TMIN_100m_chanel_3', 'val_KRA_TMIN_100m_chanel_4',\n",
       "       'val_KRA_TMIN_100m_chanel_5', 'val_KRA_TMIN_100m_chanel_6',\n",
       "       'val_KRA_TMIN_100m_chanel_7', 'val_KRA_TMIN_100m_chanel_8',\n",
       "       'val_KRA_TMIN_100m_chanel_9', 'val_KRA_TMIN_100m_chanel_10',\n",
       "       'val_KRA_TMIN_100m_chanel_11', 'val_KRA_TMAX_100m_chanel_0',\n",
       "       'val_KRA_TMAX_100m_chanel_1', 'val_KRA_TMAX_100m_chanel_2',\n",
       "       'val_KRA_TMAX_100m_chanel_3', 'val_KRA_TMAX_100m_chanel_4',\n",
       "       'val_KRA_TMAX_100m_chanel_5', 'val_KRA_TMAX_100m_chanel_6',\n",
       "       'val_KRA_TMAX_100m_chanel_7', 'val_KRA_TMAX_100m_chanel_8',\n",
       "       'val_KRA_TMAX_100m_chanel_9', 'val_KRA_TMAX_100m_chanel_10',\n",
       "       'val_KRA_TMAX_100m_chanel_11', 'val_KRA_PREC_100m_chanel_0',\n",
       "       'val_KRA_PREC_100m_chanel_1', 'val_KRA_PREC_100m_chanel_2',\n",
       "       'val_KRA_PREC_100m_chanel_3', 'val_KRA_PREC_100m_chanel_4',\n",
       "       'val_KRA_PREC_100m_chanel_5', 'val_KRA_PREC_100m_chanel_6',\n",
       "       'val_KRA_PREC_100m_chanel_7', 'val_KRA_PREC_100m_chanel_8',\n",
       "       'val_KRA_PREC_100m_chanel_9', 'val_KRA_PREC_100m_chanel_10',\n",
       "       'val_KRA_PREC_100m_chanel_11', 'val_KRA_SOILTEXTURE_100m_0.0',\n",
       "       'val_KRA_SOILTEXTURE_100m_1.0', 'val_KRA_SOILTEXTURE_100m_2.0',\n",
       "       'val_KRA_SOILTEXTURE_100m_3.0', 'val_KRA_SOILTEXTURE_100m_4.0',\n",
       "       'val_KRA_SOILTEXTURE_100m_5.0', 'val_KRA_SOILTEXTURE_100m_6.0',\n",
       "       'val_KRA_SOILTEXTURE_100m_7.0', 'val_KRA_SOILTEXTURE_100m_8.0',\n",
       "       'val_KRA_SOILTEXTURE_100m_9.0'],\n",
       "      dtype='object')"
      ]
     },
     "execution_count": 26,
     "metadata": {},
     "output_type": "execute_result"
    }
   ],
   "source": [
    "df_mask.columns[2:]"
   ]
  },
  {
   "cell_type": "code",
   "execution_count": null,
   "id": "1f689252",
   "metadata": {},
   "outputs": [],
   "source": []
  }
 ],
 "metadata": {
  "kernelspec": {
   "display_name": "Python 3 (ipykernel)",
   "language": "python",
   "name": "python3"
  },
  "language_info": {
   "codemirror_mode": {
    "name": "ipython",
    "version": 3
   },
   "file_extension": ".py",
   "mimetype": "text/x-python",
   "name": "python",
   "nbconvert_exporter": "python",
   "pygments_lexer": "ipython3",
   "version": "3.9.12"
  }
 },
 "nbformat": 4,
 "nbformat_minor": 5
}
