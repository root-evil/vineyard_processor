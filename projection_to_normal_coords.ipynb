{
 "cells": [
  {
   "cell_type": "code",
   "execution_count": 100,
   "id": "4cd61cdc",
   "metadata": {},
   "outputs": [],
   "source": [
    "import numpy as np\n",
    "import pandas as pd\n",
    "from pyproj import Transformer\n",
    "def projection(x : float, y : float):\n",
    "    \"\"\"\n",
    "    Проекция координат с картинки в нормальные координаты (ширина и долгота)\n",
    "    input\n",
    "    x, y - координаты пиксиля картинки в метрах\n",
    "    return\n",
    "    Словарь {longitude - долгота, latitude - ширина}\n",
    "    \"\"\"\n",
    "    transproj = Transformer.from_crs(\n",
    "    'EPSG:32637',\n",
    "    \"EPSG:4326\",\n",
    "    always_xy=True,\n",
    "    )\n",
    "    \n",
    "    lat, lon, _ = transproj.transform(\n",
    "        x ,\n",
    "        y,\n",
    "        0,\n",
    "        radians=False,\n",
    "    )\n",
    "    \n",
    "    return {'longitude' : lon,\n",
    "           'latitude' : lat}\n",
    "\n",
    "def pixel_to_meter(point_pixel, size_img = np.array([4096, 4096]), size_m = 100, standart_xy = (310050, 4800050)):\n",
    "    \"\"\"\n",
    "    Переводит пиксели в ебанутые координаты (берется нижний левый угол как основа)\n",
    "    input\n",
    "    proint_pixel - позиция пиксиля,\n",
    "    size_img - размер изображение (вторая коодината должна быть отрицательной),\n",
    "    size_m - размер на пиксель\n",
    "    standart_xy - начальное положение в ебанутых координатах\n",
    "    return \n",
    "    Словарь { x - координата x, y - координата y}\n",
    "    \"\"\"\n",
    "    size_img = size_img.copy()\n",
    "    size_img[1] = size_img[1] - point_pixel[1]\n",
    "    size_img[0] = point_pixel[0]\n",
    "    res_data = np.zeros(2)\n",
    "    print(size_img)\n",
    "    res_data[0] = standart_xy[0] + size_m*size_img[0]\n",
    "    res_data[1] = standart_xy[1] - size_m*size_img[1]\n",
    "    \n",
    "    return {\"x\" : res_data[0],\n",
    "           \"y\" : res_data[1]}"
   ]
  },
  {
   "cell_type": "code",
   "execution_count": 101,
   "id": "7b0965a3",
   "metadata": {},
   "outputs": [
    {
     "name": "stdout",
     "output_type": "stream",
     "text": [
      "[   0 4096]\n",
      "{'longitude': 39.642759458928865, 'latitude': 36.7863078319819}\n"
     ]
    }
   ],
   "source": [
    "cord = pixel_to_meter([0,0])\n",
    "print(projection(cord['x'], cord['y']))"
   ]
  },
  {
   "cell_type": "code",
   "execution_count": 98,
   "id": "5ba3d8ac",
   "metadata": {},
   "outputs": [
    {
     "data": {
      "text/plain": [
       "{'x': 514850.0, 'y': 5004850.0}"
      ]
     },
     "execution_count": 98,
     "metadata": {},
     "output_type": "execute_result"
    }
   ],
   "source": [
    "cord"
   ]
  },
  {
   "cell_type": "code",
   "execution_count": null,
   "id": "50b5c74b",
   "metadata": {},
   "outputs": [],
   "source": []
  }
 ],
 "metadata": {
  "kernelspec": {
   "display_name": "Python 3 (ipykernel)",
   "language": "python",
   "name": "python3"
  },
  "language_info": {
   "codemirror_mode": {
    "name": "ipython",
    "version": 3
   },
   "file_extension": ".py",
   "mimetype": "text/x-python",
   "name": "python",
   "nbconvert_exporter": "python",
   "pygments_lexer": "ipython3",
   "version": "3.9.12"
  }
 },
 "nbformat": 4,
 "nbformat_minor": 5
}
